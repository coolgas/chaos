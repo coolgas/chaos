{
 "cells": [
  {
   "cell_type": "code",
   "execution_count": 1,
   "id": "8dac2fed",
   "metadata": {},
   "outputs": [
    {
     "data": {
      "text/plain": [
       "Main.Integer"
      ]
     },
     "execution_count": 1,
     "metadata": {},
     "output_type": "execute_result"
    }
   ],
   "source": [
    "include(\"./src/Integer.jl\")"
   ]
  },
  {
   "cell_type": "code",
   "execution_count": 2,
   "id": "7fb75de9",
   "metadata": {},
   "outputs": [
    {
     "data": {
      "text/plain": [
       "Plots.PyPlotBackend()"
      ]
     },
     "execution_count": 2,
     "metadata": {},
     "output_type": "execute_result"
    }
   ],
   "source": [
    "using .Integer\n",
    "using Combinatorics\n",
    "using LinearAlgebra\n",
    "using LaTeXStrings\n",
    "using Plots\n",
    "\n",
    "pyplot()"
   ]
  },
  {
   "cell_type": "code",
   "execution_count": 3,
   "id": "d34df4e1",
   "metadata": {},
   "outputs": [],
   "source": [
    "Na = 60; # numer of atoms\n",
    "Ls = 3; # number of wells"
   ]
  },
  {
   "cell_type": "markdown",
   "id": "569be5f6",
   "metadata": {},
   "source": [
    "### The particle conserved basis"
   ]
  },
  {
   "cell_type": "code",
   "execution_count": 4,
   "id": "8476a5be",
   "metadata": {},
   "outputs": [],
   "source": [
    "Hbs = Vector{Int64}[] \n",
    "ps = integer_partition(Na, Ls);\n",
    "for p in ps\n",
    "    append!(Hbs, collect(multiset_permutations(p, Ls)))\n",
    "end"
   ]
  },
  {
   "cell_type": "code",
   "execution_count": 5,
   "id": "33d25a59",
   "metadata": {},
   "outputs": [
    {
     "data": {
      "text/plain": [
       "1891"
      ]
     },
     "execution_count": 5,
     "metadata": {},
     "output_type": "execute_result"
    }
   ],
   "source": [
    "Lb = length(Hbs) # the dimension of the Hilbert space"
   ]
  },
  {
   "cell_type": "code",
   "execution_count": 6,
   "id": "8b7e8bac",
   "metadata": {},
   "outputs": [
    {
     "data": {
      "text/plain": [
       "1891"
      ]
     },
     "execution_count": 6,
     "metadata": {},
     "output_type": "execute_result"
    }
   ],
   "source": [
    "Lb_shouldbe = binomial(Na+Ls-1, Na)"
   ]
  },
  {
   "cell_type": "markdown",
   "id": "4ffbbefc",
   "metadata": {},
   "source": [
    "### The hopping Hamiltonian"
   ]
  },
  {
   "cell_type": "code",
   "execution_count": 7,
   "id": "c2cc5b44",
   "metadata": {},
   "outputs": [],
   "source": [
    "H3s1 = hopping_pair(m=1, Na=Na, Hbs=Hbs);\n",
    "H3s2 = hopping_pair(m=2, Na=Na, Hbs=Hbs);"
   ]
  },
  {
   "cell_type": "code",
   "execution_count": 8,
   "id": "eece86b3",
   "metadata": {},
   "outputs": [],
   "source": [
    "H3s = H3s1 + H3s2;"
   ]
  },
  {
   "cell_type": "code",
   "execution_count": 9,
   "id": "25863495",
   "metadata": {},
   "outputs": [],
   "source": [
    "Hhop = H3s + H3s';"
   ]
  },
  {
   "cell_type": "markdown",
   "id": "114ad82f",
   "metadata": {},
   "source": [
    "### The onsite interaction"
   ]
  },
  {
   "cell_type": "code",
   "execution_count": 10,
   "id": "f9456d3f",
   "metadata": {},
   "outputs": [],
   "source": [
    "Honsite = zeros(Float64, Lb, Lb);"
   ]
  },
  {
   "cell_type": "code",
   "execution_count": 11,
   "id": "3ed70624",
   "metadata": {},
   "outputs": [],
   "source": [
    "for j in 1:Lb\n",
    "    for k in 1:Lb\n",
    "        if j == k\n",
    "            Honsite[j,k] = Hbs[j][1]^2 + Hbs[j][2]^2 + Hbs[j][3]^2 - Hbs[j][1] - Hbs[j][2] - Hbs[j][3]\n",
    "        end\n",
    "    end\n",
    "end"
   ]
  },
  {
   "cell_type": "markdown",
   "id": "ad808de7",
   "metadata": {},
   "source": [
    "### The tilt potential"
   ]
  },
  {
   "cell_type": "code",
   "execution_count": 12,
   "id": "ca86a945",
   "metadata": {},
   "outputs": [
    {
     "data": {
      "text/plain": [
       "Htit (generic function with 1 method)"
      ]
     },
     "execution_count": 12,
     "metadata": {},
     "output_type": "execute_result"
    }
   ],
   "source": [
    "function Htit(γ::Float64)\n",
    "    Htit = zeros(Float64, Lb, Lb)\n",
    "    for j in 1:Lb\n",
    "        for k in 1:Lb\n",
    "            if j == k\n",
    "                Htit[j,k] = γ*Hbs[j][1] + 0*Hbs[j][2] - γ*Hbs[j][3]\n",
    "            end\n",
    "\n",
    "        end\n",
    "    end\n",
    "    return Htit\n",
    "end"
   ]
  },
  {
   "cell_type": "markdown",
   "id": "9667aa5a",
   "metadata": {},
   "source": [
    "### Soft-core interactions"
   ]
  },
  {
   "cell_type": "code",
   "execution_count": 13,
   "id": "1a7cbc66",
   "metadata": {},
   "outputs": [
    {
     "data": {
      "text/plain": [
       "Λ (generic function with 1 method)"
      ]
     },
     "execution_count": 13,
     "metadata": {},
     "output_type": "execute_result"
    }
   ],
   "source": [
    "Λ(delta::Int64, d::Float64, C6::Float64, R::Float64) = C6 / ((delta)^6*d^6 + R^6)"
   ]
  },
  {
   "cell_type": "code",
   "execution_count": 14,
   "id": "a4ff3f48",
   "metadata": {},
   "outputs": [
    {
     "data": {
      "text/plain": [
       "Hsc (generic function with 1 method)"
      ]
     },
     "execution_count": 14,
     "metadata": {},
     "output_type": "execute_result"
    }
   ],
   "source": [
    "# Here 'd' is the lattice constant.\n",
    "function Hsc(d::Float64, C6::Float64, R::Float64)\n",
    "    Hsc = zeros(Float64, Lb, Lb)\n",
    "    for j in 1:Lb\n",
    "        for k in 1:Lb\n",
    "            if j == k\n",
    "                Hsc[j,k] = Λ(0,d,C6,R)*(Hbs[j][1]*Hbs[j][1]+Hbs[j][2]*Hbs[j][2]+Hbs[j][3]*Hbs[j][3])+2*Λ(1,d,C6,R)*(Hbs[j][1]*Hbs[j][2]+Hbs[j][2]*Hbs[j][3])+2*Λ(2,d,C6,R)*(Hbs[j][1]*Hbs[j][3])\n",
    "            end\n",
    "        end\n",
    "    end\n",
    "    return Hsc\n",
    "end"
   ]
  },
  {
   "cell_type": "code",
   "execution_count": null,
   "id": "75a94b93",
   "metadata": {},
   "outputs": [],
   "source": []
  }
 ],
 "metadata": {
  "kernelspec": {
   "display_name": "Julia 1.7.1",
   "language": "julia",
   "name": "julia-1.7"
  },
  "language_info": {
   "file_extension": ".jl",
   "mimetype": "application/julia",
   "name": "julia",
   "version": "1.7.1"
  }
 },
 "nbformat": 4,
 "nbformat_minor": 5
}
