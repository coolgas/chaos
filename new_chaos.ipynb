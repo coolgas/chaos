{
 "cells": [
  {
   "cell_type": "code",
   "execution_count": 1,
   "id": "7fb75de9",
   "metadata": {},
   "outputs": [
    {
     "name": "stderr",
     "output_type": "stream",
     "text": [
      "┌ Info: Precompiling Chaos [0aea4425-8685-4cf8-ab93-d00eaca7e4b3]\n",
      "└ @ Base loading.jl:1423\n",
      "\u001b[33m\u001b[1m┌ \u001b[22m\u001b[39m\u001b[33m\u001b[1mWarning: \u001b[22m\u001b[39mPackage Chaos does not have LinearAlgebra in its dependencies:\n",
      "\u001b[33m\u001b[1m│ \u001b[22m\u001b[39m- If you have Chaos checked out for development and have\n",
      "\u001b[33m\u001b[1m│ \u001b[22m\u001b[39m  added LinearAlgebra as a dependency but haven't updated your primary\n",
      "\u001b[33m\u001b[1m│ \u001b[22m\u001b[39m  environment's manifest file, try `Pkg.resolve()`.\n",
      "\u001b[33m\u001b[1m│ \u001b[22m\u001b[39m- Otherwise you may need to report an issue with Chaos\n",
      "\u001b[33m\u001b[1m└ \u001b[22m\u001b[39mLoading LinearAlgebra into Chaos from project dependency, future warnings for Chaos are suppressed.\n"
     ]
    }
   ],
   "source": [
    "using Combinatorics\n",
    "using LinearAlgebra\n",
    "using LaTeXStrings\n",
    "using Chaos\n",
    "using Statistics\n",
    "using Plots\n",
    "#pyplot()"
   ]
  },
  {
   "cell_type": "code",
   "execution_count": 2,
   "id": "d34df4e1",
   "metadata": {},
   "outputs": [],
   "source": [
    "Na = 60; # number of atoms\n",
    "Ls = 3; # number of wells"
   ]
  },
  {
   "cell_type": "markdown",
   "id": "569be5f6",
   "metadata": {},
   "source": [
    "### The particle conserved basis"
   ]
  },
  {
   "cell_type": "code",
   "execution_count": 3,
   "id": "b9343528",
   "metadata": {},
   "outputs": [],
   "source": [
    "Hbs = integer_partition(N=Na, L=Ls);"
   ]
  },
  {
   "cell_type": "code",
   "execution_count": 4,
   "id": "33d25a59",
   "metadata": {
    "scrolled": true
   },
   "outputs": [
    {
     "data": {
      "text/plain": [
       "1891"
      ]
     },
     "execution_count": 4,
     "metadata": {},
     "output_type": "execute_result"
    }
   ],
   "source": [
    "Lb = length(Hbs) # the dimension of the Hilbert space"
   ]
  },
  {
   "cell_type": "code",
   "execution_count": 5,
   "id": "8b7e8bac",
   "metadata": {},
   "outputs": [
    {
     "data": {
      "text/plain": [
       "1891"
      ]
     },
     "execution_count": 5,
     "metadata": {},
     "output_type": "execute_result"
    }
   ],
   "source": [
    "Lb_shouldbe = binomial(Na+Ls-1, Na)"
   ]
  },
  {
   "cell_type": "code",
   "execution_count": 6,
   "id": "d26f323a",
   "metadata": {},
   "outputs": [],
   "source": [
    "Dict1 = Dict{Int64, Int64}(i=>0 for i in 0:Na); # this Dict1 is prepared for later calculations of entropies"
   ]
  },
  {
   "cell_type": "code",
   "execution_count": 7,
   "id": "ed8a9f97",
   "metadata": {},
   "outputs": [],
   "source": [
    "for i in 0:Na\n",
    "    for vec in Hbs\n",
    "        if vec[1] == i\n",
    "            Dict1[i] += 1\n",
    "        else\n",
    "            continue\n",
    "        end\n",
    "    end\n",
    "end"
   ]
  },
  {
   "cell_type": "markdown",
   "id": "4ffbbefc",
   "metadata": {},
   "source": [
    "### The hopping Hamiltonian"
   ]
  },
  {
   "cell_type": "code",
   "execution_count": 8,
   "id": "bef8b7f1",
   "metadata": {},
   "outputs": [],
   "source": [
    "HLs = zeros(Float64, Lb, Lb)\n",
    "for i in 1:Ls-1\n",
    "    HLs += hopping_pair(m=i, Na=Na, Hbs=Hbs)\n",
    "end"
   ]
  },
  {
   "cell_type": "code",
   "execution_count": 9,
   "id": "25863495",
   "metadata": {},
   "outputs": [],
   "source": [
    "Hhop = HLs + HLs';"
   ]
  },
  {
   "cell_type": "markdown",
   "id": "114ad82f",
   "metadata": {},
   "source": [
    "### The onsite interaction"
   ]
  },
  {
   "cell_type": "code",
   "execution_count": 10,
   "id": "f9456d3f",
   "metadata": {},
   "outputs": [],
   "source": [
    "Honsite = zeros(Float64, Lb, Lb);"
   ]
  },
  {
   "cell_type": "code",
   "execution_count": 11,
   "id": "3ed70624",
   "metadata": {},
   "outputs": [],
   "source": [
    "for j in 1:Lb\n",
    "    for k in 1:Lb\n",
    "        if j == k\n",
    "            sum = 0\n",
    "            for l in 1:Ls\n",
    "                sum += Hbs[j][l]^2 - Hbs[j][l]\n",
    "            end\n",
    "            Honsite[j,k] += sum\n",
    "        end\n",
    "    end\n",
    "end"
   ]
  },
  {
   "cell_type": "markdown",
   "id": "ad808de7",
   "metadata": {},
   "source": [
    "### The tilt potential"
   ]
  },
  {
   "cell_type": "code",
   "execution_count": 12,
   "id": "ca86a945",
   "metadata": {},
   "outputs": [
    {
     "data": {
      "text/plain": [
       "Htit (generic function with 1 method)"
      ]
     },
     "execution_count": 12,
     "metadata": {},
     "output_type": "execute_result"
    }
   ],
   "source": [
    "function Htit(γ::Float64)\n",
    "    Htit = zeros(Float64, Lb, Lb)\n",
    "    for j in 1:Lb\n",
    "        for k in 1:Lb\n",
    "            if j == k\n",
    "                for l in 1:Ls\n",
    "                    Htit[j,k] += -(l-(Ls+1)/2)*γ*Hbs[j][l]\n",
    "                end\n",
    "            end\n",
    "\n",
    "        end\n",
    "    end\n",
    "    return Htit\n",
    "end"
   ]
  },
  {
   "cell_type": "markdown",
   "id": "9667aa5a",
   "metadata": {},
   "source": [
    "### Soft-core interactions"
   ]
  },
  {
   "cell_type": "code",
   "execution_count": 13,
   "id": "1a7cbc66",
   "metadata": {},
   "outputs": [
    {
     "data": {
      "text/plain": [
       "Λ (generic function with 1 method)"
      ]
     },
     "execution_count": 13,
     "metadata": {},
     "output_type": "execute_result"
    }
   ],
   "source": [
    "Λ(delta::Int64, d::Float64, C6::Float64, R::Float64) = C6 / ((delta)^6*d^6 + R^6)"
   ]
  },
  {
   "cell_type": "code",
   "execution_count": 14,
   "id": "a4ff3f48",
   "metadata": {},
   "outputs": [
    {
     "data": {
      "text/plain": [
       "Hsc (generic function with 1 method)"
      ]
     },
     "execution_count": 14,
     "metadata": {},
     "output_type": "execute_result"
    }
   ],
   "source": [
    "# Here 'd' is the lattice constant.\n",
    "function Hsc(d::Float64, C6::Float64, R::Float64)\n",
    "    Hsc = zeros(Float64, Lb, Lb)\n",
    "    for j in 1:Lb\n",
    "        for k in 1:Lb\n",
    "            if j == k\n",
    "                for l in 1:Ls\n",
    "                    for m in 1:Ls\n",
    "                        if l-m == 0\n",
    "                            Hsc[j,k] += Λ(0,d,C6,R)*Hbs[j][l]*Hbs[j][m]\n",
    "                        elseif abs(m-l) == 1\n",
    "                            Hsc[j,k] += Λ(1,d,C6,R)*Hbs[j][l]*Hbs[j][m]\n",
    "                        elseif abs(m-l) == 2\n",
    "                            Hsc[j,k] += Λ(2,d,C6,R)*Hbs[j][l]*Hbs[j][m]\n",
    "                        else\n",
    "                            continue\n",
    "                        end\n",
    "                    end\n",
    "                end\n",
    "            end\n",
    "        end\n",
    "    end\n",
    "    return Hsc\n",
    "end"
   ]
  },
  {
   "cell_type": "markdown",
   "id": "6abd0fc5",
   "metadata": {},
   "source": [
    "### Parameters we gonna use for reproducing Gary's results"
   ]
  },
  {
   "cell_type": "code",
   "execution_count": 15,
   "id": "0e27aa42",
   "metadata": {
    "scrolled": true
   },
   "outputs": [
    {
     "data": {
      "text/plain": [
       "0.13506383876754247"
      ]
     },
     "execution_count": 15,
     "metadata": {},
     "output_type": "execute_result"
    }
   ],
   "source": [
    "Λ(1, 1.5, 100.0, 3.0)"
   ]
  },
  {
   "cell_type": "code",
   "execution_count": 16,
   "id": "41953e44",
   "metadata": {},
   "outputs": [
    {
     "data": {
      "text/plain": [
       "0.06858710562414266"
      ]
     },
     "execution_count": 16,
     "metadata": {},
     "output_type": "execute_result"
    }
   ],
   "source": [
    "Λ(2, 1.5, 100.0, 3.0)"
   ]
  },
  {
   "cell_type": "code",
   "execution_count": 17,
   "id": "18f37efd",
   "metadata": {},
   "outputs": [
    {
     "data": {
      "text/plain": [
       "0.13717421124828533"
      ]
     },
     "execution_count": 17,
     "metadata": {},
     "output_type": "execute_result"
    }
   ],
   "source": [
    "Λ(0, 1.5, 100.0, 3.0)"
   ]
  },
  {
   "cell_type": "markdown",
   "id": "1b81e37b",
   "metadata": {},
   "source": [
    "### Construction of the full Hamiltonian"
   ]
  },
  {
   "cell_type": "code",
   "execution_count": 18,
   "id": "47ae8664",
   "metadata": {},
   "outputs": [
    {
     "data": {
      "text/plain": [
       "Htot (generic function with 1 method)"
      ]
     },
     "execution_count": 18,
     "metadata": {},
     "output_type": "execute_result"
    }
   ],
   "source": [
    "function Htot(;γ::Float64, J::Float64, g::Float64, d::Float64, C6::Float64, R::Float64)\n",
    "    Htot = Htit(γ) - J*Hhop + (g/2)*Honsite + (1/2)*Hsc(d,C6,R)\n",
    "    return Htot\n",
    "end\n",
    "    "
   ]
  },
  {
   "cell_type": "markdown",
   "id": "974f91ce",
   "metadata": {},
   "source": [
    "### Plot with respect to $\\gamma$\n",
    "Here we will fix all parameters in function $\\textbf{Htot}$ listed above except $\\gamma$. Like we've stated as above, with all the parameters fixed, we have $\\Lambda_0=0.137$, $\\Lambda_1\\approx 0.135$ and $\\Lambda_2\\approx 0.069$ so that we approximately have $\\Lambda_1\\approx 2\\Lambda_2$ (i.e., Gary's assumption)."
   ]
  },
  {
   "cell_type": "code",
   "execution_count": 19,
   "id": "df79fff6",
   "metadata": {},
   "outputs": [],
   "source": [
    "J = 1.0\n",
    "#g = -0.137\n",
    "g = -0.05\n",
    "d = 1.5\n",
    "C6 = 100.0\n",
    "R = 3.0\n",
    "#gammas = -5.0:0.1:5.0\n",
    "gammas = 0:0.2:10\n",
    "eigs = zeros(Float64, Lb, length(gammas));\n",
    "\n",
    "# i1 = 1\n",
    "# for gamma in gammas\n",
    "#     eigs[:,i1] = eigvals(Htot(γ=gamma, J=J, g=g, d=d, C6=C6, R=R))\n",
    "#     i1 += 1\n",
    "# end"
   ]
  },
  {
   "cell_type": "code",
   "execution_count": 20,
   "id": "b64165d1",
   "metadata": {},
   "outputs": [],
   "source": [
    "# p1 = plot(xlab=L\"$\\gamma$\", ylab=L\"$\\epsilon$\", legend=false);"
   ]
  },
  {
   "cell_type": "code",
   "execution_count": 21,
   "id": "7be6b03d",
   "metadata": {},
   "outputs": [],
   "source": [
    "# for i in 1:Lb\n",
    "#     plot!(p1, gammas, eigs[i,:])\n",
    "# end"
   ]
  },
  {
   "cell_type": "code",
   "execution_count": 22,
   "id": "11df93e5",
   "metadata": {},
   "outputs": [],
   "source": [
    "# p1"
   ]
  },
  {
   "cell_type": "markdown",
   "id": "133c145b",
   "metadata": {},
   "source": [
    "### Level spacing distributions\n",
    "Here we will apply eigenvalue unfolding onto eigenvalues."
   ]
  },
  {
   "cell_type": "code",
   "execution_count": 23,
   "id": "3ef72e11",
   "metadata": {},
   "outputs": [],
   "source": [
    "# In our case, we take average every 7 levels, we drop (7-1)/2 spacings at either end.\n",
    "v = 5;\n",
    "\n",
    "# This is defined for later convenience.\n",
    "f(x) = exp(-x);\n",
    "ff(x) = (π*x/2)*exp(-π*x^2/4);"
   ]
  },
  {
   "cell_type": "markdown",
   "id": "5aa886fb",
   "metadata": {},
   "source": [
    "#### Change $\\gamma$\n",
    "Here we will vary $\\gamma$ to see if the chaos will be trigered.\n",
    "#### Case 1. $\\gamma=0.0$"
   ]
  },
  {
   "cell_type": "code",
   "execution_count": 24,
   "id": "31307d2e",
   "metadata": {},
   "outputs": [],
   "source": [
    "eigs1 = eigvals(Htot(γ=0.0, J=J, g=g, d=d, C6=C6, R=R));"
   ]
  },
  {
   "cell_type": "code",
   "execution_count": 25,
   "id": "e4985bf0",
   "metadata": {},
   "outputs": [],
   "source": [
    "diffs1 = [eigs1[i+1]-eigs1[i] for i in 1:length(eigs1)-1];"
   ]
  },
  {
   "cell_type": "code",
   "execution_count": 26,
   "id": "b5a4ad3c",
   "metadata": {},
   "outputs": [],
   "source": [
    "index1 = Int((v-1)/2)\n",
    "index2 = length(diffs1)-index1\n",
    "diffs1_dropped = diffs1[index1:index2];"
   ]
  },
  {
   "cell_type": "code",
   "execution_count": 27,
   "id": "9736dc8e",
   "metadata": {},
   "outputs": [],
   "source": [
    "new_diffs1 = []\n",
    "for i in 1:length(diffs1_dropped)\n",
    "    drop_index = Int((v-1)/2)\n",
    "    if i-drop_index>0 && i+drop_index<=length(diffs1_dropped)\n",
    "        append!(new_diffs1, diffs1_dropped[i]/average_spacing(diffs1_dropped, i, v))\n",
    "    end\n",
    "end"
   ]
  },
  {
   "cell_type": "code",
   "execution_count": 28,
   "id": "dc494614",
   "metadata": {
    "scrolled": false
   },
   "outputs": [
    {
     "data": {
      "image/svg+xml": [
       "<?xml version=\"1.0\" encoding=\"utf-8\"?>\n",
       "<svg xmlns=\"http://www.w3.org/2000/svg\" xmlns:xlink=\"http://www.w3.org/1999/xlink\" width=\"600\" height=\"400\" viewBox=\"0 0 2400 1600\">\n",
       "<defs>\n",
       "  <clipPath id=\"clip940\">\n",
       "    <rect x=\"0\" y=\"0\" width=\"2400\" height=\"1600\"/>\n",
       "  </clipPath>\n",
       "</defs>\n",
       "<path clip-path=\"url(#clip940)\" d=\"\n",
       "M0 1600 L2400 1600 L2400 0 L0 0  Z\n",
       "  \" fill=\"#ffffff\" fill-rule=\"evenodd\" fill-opacity=\"1\"/>\n",
       "<defs>\n",
       "  <clipPath id=\"clip941\">\n",
       "    <rect x=\"480\" y=\"0\" width=\"1681\" height=\"1600\"/>\n",
       "  </clipPath>\n",
       "</defs>\n",
       "<path clip-path=\"url(#clip940)\" d=\"\n",
       "M249.542 1423.18 L2352.76 1423.18 L2352.76 47.2441 L249.542 47.2441  Z\n",
       "  \" fill=\"#ffffff\" fill-rule=\"evenodd\" fill-opacity=\"1\"/>\n",
       "<defs>\n",
       "  <clipPath id=\"clip942\">\n",
       "    <rect x=\"249\" y=\"47\" width=\"2104\" height=\"1377\"/>\n",
       "  </clipPath>\n",
       "</defs>\n",
       "<polyline clip-path=\"url(#clip942)\" style=\"stroke:#000000; stroke-linecap:butt; stroke-linejoin:round; stroke-width:2; stroke-opacity:0.1; fill:none\" points=\"\n",
       "  344.15,1423.18 344.15,47.2441 \n",
       "  \"/>\n",
       "<polyline clip-path=\"url(#clip942)\" style=\"stroke:#000000; stroke-linecap:butt; stroke-linejoin:round; stroke-width:2; stroke-opacity:0.1; fill:none\" points=\"\n",
       "  901.031,1423.18 901.031,47.2441 \n",
       "  \"/>\n",
       "<polyline clip-path=\"url(#clip942)\" style=\"stroke:#000000; stroke-linecap:butt; stroke-linejoin:round; stroke-width:2; stroke-opacity:0.1; fill:none\" points=\"\n",
       "  1457.91,1423.18 1457.91,47.2441 \n",
       "  \"/>\n",
       "<polyline clip-path=\"url(#clip942)\" style=\"stroke:#000000; stroke-linecap:butt; stroke-linejoin:round; stroke-width:2; stroke-opacity:0.1; fill:none\" points=\"\n",
       "  2014.79,1423.18 2014.79,47.2441 \n",
       "  \"/>\n",
       "<polyline clip-path=\"url(#clip940)\" style=\"stroke:#000000; stroke-linecap:butt; stroke-linejoin:round; stroke-width:4; stroke-opacity:1; fill:none\" points=\"\n",
       "  249.542,1423.18 2352.76,1423.18 \n",
       "  \"/>\n",
       "<polyline clip-path=\"url(#clip940)\" style=\"stroke:#000000; stroke-linecap:butt; stroke-linejoin:round; stroke-width:4; stroke-opacity:1; fill:none\" points=\"\n",
       "  344.15,1423.18 344.15,1404.28 \n",
       "  \"/>\n",
       "<polyline clip-path=\"url(#clip940)\" style=\"stroke:#000000; stroke-linecap:butt; stroke-linejoin:round; stroke-width:4; stroke-opacity:1; fill:none\" points=\"\n",
       "  901.031,1423.18 901.031,1404.28 \n",
       "  \"/>\n",
       "<polyline clip-path=\"url(#clip940)\" style=\"stroke:#000000; stroke-linecap:butt; stroke-linejoin:round; stroke-width:4; stroke-opacity:1; fill:none\" points=\"\n",
       "  1457.91,1423.18 1457.91,1404.28 \n",
       "  \"/>\n",
       "<polyline clip-path=\"url(#clip940)\" style=\"stroke:#000000; stroke-linecap:butt; stroke-linejoin:round; stroke-width:4; stroke-opacity:1; fill:none\" points=\"\n",
       "  2014.79,1423.18 2014.79,1404.28 \n",
       "  \"/>\n",
       "<path clip-path=\"url(#clip940)\" d=\"M344.15 1454.1 Q340.539 1454.1 338.711 1457.66 Q336.905 1461.2 336.905 1468.33 Q336.905 1475.44 338.711 1479.01 Q340.539 1482.55 344.15 1482.55 Q347.785 1482.55 349.59 1479.01 Q351.419 1475.44 351.419 1468.33 Q351.419 1461.2 349.59 1457.66 Q347.785 1454.1 344.15 1454.1 M344.15 1450.39 Q349.961 1450.39 353.016 1455 Q356.095 1459.58 356.095 1468.33 Q356.095 1477.06 353.016 1481.67 Q349.961 1486.25 344.15 1486.25 Q338.34 1486.25 335.262 1481.67 Q332.206 1477.06 332.206 1468.33 Q332.206 1459.58 335.262 1455 Q338.34 1450.39 344.15 1450.39 Z\" fill=\"#000000\" fill-rule=\"evenodd\" fill-opacity=\"1\" /><path clip-path=\"url(#clip940)\" d=\"M895.683 1481.64 L912.003 1481.64 L912.003 1485.58 L890.058 1485.58 L890.058 1481.64 Q892.72 1478.89 897.304 1474.26 Q901.91 1469.61 903.091 1468.27 Q905.336 1465.74 906.216 1464.01 Q907.119 1462.25 907.119 1460.56 Q907.119 1457.8 905.174 1456.07 Q903.253 1454.33 900.151 1454.33 Q897.952 1454.33 895.498 1455.09 Q893.068 1455.86 890.29 1457.41 L890.29 1452.69 Q893.114 1451.55 895.568 1450.97 Q898.021 1450.39 900.058 1450.39 Q905.429 1450.39 908.623 1453.08 Q911.818 1455.77 911.818 1460.26 Q911.818 1462.39 911.007 1464.31 Q910.22 1466.2 908.114 1468.8 Q907.535 1469.47 904.433 1472.69 Q901.331 1475.88 895.683 1481.64 Z\" fill=\"#000000\" fill-rule=\"evenodd\" fill-opacity=\"1\" /><path clip-path=\"url(#clip940)\" d=\"M1460.92 1455.09 L1449.11 1473.54 L1460.92 1473.54 L1460.92 1455.09 M1459.69 1451.02 L1465.57 1451.02 L1465.57 1473.54 L1470.5 1473.54 L1470.5 1477.43 L1465.57 1477.43 L1465.57 1485.58 L1460.92 1485.58 L1460.92 1477.43 L1445.32 1477.43 L1445.32 1472.92 L1459.69 1451.02 Z\" fill=\"#000000\" fill-rule=\"evenodd\" fill-opacity=\"1\" /><path clip-path=\"url(#clip940)\" d=\"M2015.2 1466.44 Q2012.05 1466.44 2010.2 1468.59 Q2008.37 1470.74 2008.37 1474.49 Q2008.37 1478.22 2010.2 1480.39 Q2012.05 1482.55 2015.2 1482.55 Q2018.34 1482.55 2020.17 1480.39 Q2022.02 1478.22 2022.02 1474.49 Q2022.02 1470.74 2020.17 1468.59 Q2018.34 1466.44 2015.2 1466.44 M2024.48 1451.78 L2024.48 1456.04 Q2022.72 1455.21 2020.91 1454.77 Q2019.13 1454.33 2017.37 1454.33 Q2012.74 1454.33 2010.29 1457.45 Q2007.86 1460.58 2007.51 1466.9 Q2008.88 1464.89 2010.94 1463.82 Q2013 1462.73 2015.47 1462.73 Q2020.68 1462.73 2023.69 1465.9 Q2026.72 1469.05 2026.72 1474.49 Q2026.72 1479.82 2023.58 1483.03 Q2020.43 1486.25 2015.2 1486.25 Q2009.2 1486.25 2006.03 1481.67 Q2002.86 1477.06 2002.86 1468.33 Q2002.86 1460.14 2006.75 1455.28 Q2010.64 1450.39 2017.19 1450.39 Q2018.95 1450.39 2020.73 1450.74 Q2022.53 1451.09 2024.48 1451.78 Z\" fill=\"#000000\" fill-rule=\"evenodd\" fill-opacity=\"1\" /><path clip-path=\"url(#clip940)\" d=\"M1310.12 1546.76 Q1310.12 1548.56 1309.22 1549.53 Q1308.32 1550.46 1307.09 1550.46 Q1306.1 1550.46 1305.55 1549.88 Q1305.03 1549.3 1305.03 1548.53 Q1305.03 1547.4 1305.93 1546.5 Q1306.87 1545.6 1308.22 1545.56 Q1307.77 1544.37 1306.58 1543.66 Q1305.39 1542.92 1304.32 1542.73 Q1303.29 1542.54 1302.26 1542.54 Q1300.23 1542.54 1298.69 1543.18 Q1297.14 1543.83 1296.37 1544.82 Q1295.6 1545.79 1295.24 1546.72 Q1294.89 1547.66 1294.89 1548.46 Q1294.89 1549.17 1295.05 1549.75 Q1295.24 1550.3 1295.69 1550.72 Q1296.14 1551.1 1296.47 1551.36 Q1296.82 1551.62 1297.59 1551.84 Q1298.37 1552.07 1298.69 1552.17 Q1299.01 1552.23 1299.91 1552.42 Q1301.78 1552.81 1302.62 1553.04 Q1303.45 1553.23 1304.55 1553.78 Q1305.68 1554.32 1306.51 1555.19 Q1308.54 1557.22 1308.54 1560.02 Q1308.54 1561.06 1308.19 1562.31 Q1307.87 1563.57 1306.93 1565.15 Q1306 1566.72 1304.58 1567.98 Q1303.16 1569.24 1300.72 1570.11 Q1298.3 1570.97 1295.27 1570.97 Q1291.06 1570.97 1288.45 1569.2 Q1285.84 1567.4 1285.84 1564.57 Q1285.84 1562.5 1286.96 1561.38 Q1288.09 1560.22 1289.54 1560.22 Q1290.64 1560.22 1291.31 1560.83 Q1291.99 1561.41 1291.99 1562.5 Q1291.99 1563.99 1290.8 1565.11 Q1289.61 1566.24 1287.83 1566.02 Q1289.35 1569.49 1295.34 1569.49 Q1297.59 1569.49 1299.33 1568.91 Q1301.1 1568.3 1302.07 1567.46 Q1303.07 1566.59 1303.71 1565.53 Q1304.36 1564.47 1304.55 1563.66 Q1304.77 1562.86 1304.77 1562.25 Q1304.77 1561.18 1304.36 1560.38 Q1303.94 1559.57 1303.36 1559.12 Q1302.81 1558.64 1301.75 1558.25 Q1300.72 1557.83 1299.98 1557.67 Q1299.24 1557.51 1297.91 1557.26 Q1297.3 1557.13 1296.92 1557.06 Q1296.53 1556.97 1295.72 1556.71 Q1294.95 1556.42 1294.4 1556.13 Q1293.89 1555.84 1293.21 1555.32 Q1292.54 1554.81 1292.12 1554.2 Q1291.7 1553.58 1291.41 1552.68 Q1291.12 1551.78 1291.12 1550.72 Q1291.12 1549.75 1291.41 1548.59 Q1291.73 1547.43 1292.54 1546.08 Q1293.37 1544.73 1294.57 1543.63 Q1295.76 1542.54 1297.75 1541.83 Q1299.78 1541.09 1302.26 1541.09 Q1305.87 1541.09 1308 1542.76 Q1310.12 1544.41 1310.12 1546.76 Z\" fill=\"#000000\" fill-rule=\"evenodd\" fill-opacity=\"1\" /><polyline clip-path=\"url(#clip942)\" style=\"stroke:#000000; stroke-linecap:butt; stroke-linejoin:round; stroke-width:2; stroke-opacity:0.1; fill:none\" points=\"\n",
       "  249.542,1384.24 2352.76,1384.24 \n",
       "  \"/>\n",
       "<polyline clip-path=\"url(#clip942)\" style=\"stroke:#000000; stroke-linecap:butt; stroke-linejoin:round; stroke-width:2; stroke-opacity:0.1; fill:none\" points=\"\n",
       "  249.542,1059.73 2352.76,1059.73 \n",
       "  \"/>\n",
       "<polyline clip-path=\"url(#clip942)\" style=\"stroke:#000000; stroke-linecap:butt; stroke-linejoin:round; stroke-width:2; stroke-opacity:0.1; fill:none\" points=\"\n",
       "  249.542,735.212 2352.76,735.212 \n",
       "  \"/>\n",
       "<polyline clip-path=\"url(#clip942)\" style=\"stroke:#000000; stroke-linecap:butt; stroke-linejoin:round; stroke-width:2; stroke-opacity:0.1; fill:none\" points=\"\n",
       "  249.542,410.699 2352.76,410.699 \n",
       "  \"/>\n",
       "<polyline clip-path=\"url(#clip942)\" style=\"stroke:#000000; stroke-linecap:butt; stroke-linejoin:round; stroke-width:2; stroke-opacity:0.1; fill:none\" points=\"\n",
       "  249.542,86.1857 2352.76,86.1857 \n",
       "  \"/>\n",
       "<polyline clip-path=\"url(#clip940)\" style=\"stroke:#000000; stroke-linecap:butt; stroke-linejoin:round; stroke-width:4; stroke-opacity:1; fill:none\" points=\"\n",
       "  249.542,1423.18 249.542,47.2441 \n",
       "  \"/>\n",
       "<polyline clip-path=\"url(#clip940)\" style=\"stroke:#000000; stroke-linecap:butt; stroke-linejoin:round; stroke-width:4; stroke-opacity:1; fill:none\" points=\"\n",
       "  249.542,1384.24 268.44,1384.24 \n",
       "  \"/>\n",
       "<polyline clip-path=\"url(#clip940)\" style=\"stroke:#000000; stroke-linecap:butt; stroke-linejoin:round; stroke-width:4; stroke-opacity:1; fill:none\" points=\"\n",
       "  249.542,1059.73 268.44,1059.73 \n",
       "  \"/>\n",
       "<polyline clip-path=\"url(#clip940)\" style=\"stroke:#000000; stroke-linecap:butt; stroke-linejoin:round; stroke-width:4; stroke-opacity:1; fill:none\" points=\"\n",
       "  249.542,735.212 268.44,735.212 \n",
       "  \"/>\n",
       "<polyline clip-path=\"url(#clip940)\" style=\"stroke:#000000; stroke-linecap:butt; stroke-linejoin:round; stroke-width:4; stroke-opacity:1; fill:none\" points=\"\n",
       "  249.542,410.699 268.44,410.699 \n",
       "  \"/>\n",
       "<polyline clip-path=\"url(#clip940)\" style=\"stroke:#000000; stroke-linecap:butt; stroke-linejoin:round; stroke-width:4; stroke-opacity:1; fill:none\" points=\"\n",
       "  249.542,86.1857 268.44,86.1857 \n",
       "  \"/>\n",
       "<path clip-path=\"url(#clip940)\" d=\"M126.205 1370.04 Q122.593 1370.04 120.765 1373.6 Q118.959 1377.14 118.959 1384.27 Q118.959 1391.38 120.765 1394.94 Q122.593 1398.49 126.205 1398.49 Q129.839 1398.49 131.644 1394.94 Q133.473 1391.38 133.473 1384.27 Q133.473 1377.14 131.644 1373.6 Q129.839 1370.04 126.205 1370.04 M126.205 1366.33 Q132.015 1366.33 135.07 1370.94 Q138.149 1375.52 138.149 1384.27 Q138.149 1393 135.07 1397.61 Q132.015 1402.19 126.205 1402.19 Q120.394 1402.19 117.316 1397.61 Q114.26 1393 114.26 1384.27 Q114.26 1375.52 117.316 1370.94 Q120.394 1366.33 126.205 1366.33 Z\" fill=\"#000000\" fill-rule=\"evenodd\" fill-opacity=\"1\" /><path clip-path=\"url(#clip940)\" d=\"M146.366 1395.64 L151.251 1395.64 L151.251 1401.52 L146.366 1401.52 L146.366 1395.64 Z\" fill=\"#000000\" fill-rule=\"evenodd\" fill-opacity=\"1\" /><path clip-path=\"url(#clip940)\" d=\"M171.436 1370.04 Q167.825 1370.04 165.996 1373.6 Q164.19 1377.14 164.19 1384.27 Q164.19 1391.38 165.996 1394.94 Q167.825 1398.49 171.436 1398.49 Q175.07 1398.49 176.876 1394.94 Q178.704 1391.38 178.704 1384.27 Q178.704 1377.14 176.876 1373.6 Q175.07 1370.04 171.436 1370.04 M171.436 1366.33 Q177.246 1366.33 180.301 1370.94 Q183.38 1375.52 183.38 1384.27 Q183.38 1393 180.301 1397.61 Q177.246 1402.19 171.436 1402.19 Q165.626 1402.19 162.547 1397.61 Q159.491 1393 159.491 1384.27 Q159.491 1375.52 162.547 1370.94 Q165.626 1366.33 171.436 1366.33 Z\" fill=\"#000000\" fill-rule=\"evenodd\" fill-opacity=\"1\" /><path clip-path=\"url(#clip940)\" d=\"M201.598 1370.04 Q197.987 1370.04 196.158 1373.6 Q194.352 1377.14 194.352 1384.27 Q194.352 1391.38 196.158 1394.94 Q197.987 1398.49 201.598 1398.49 Q205.232 1398.49 207.037 1394.94 Q208.866 1391.38 208.866 1384.27 Q208.866 1377.14 207.037 1373.6 Q205.232 1370.04 201.598 1370.04 M201.598 1366.33 Q207.408 1366.33 210.463 1370.94 Q213.542 1375.52 213.542 1384.27 Q213.542 1393 210.463 1397.61 Q207.408 1402.19 201.598 1402.19 Q195.787 1402.19 192.709 1397.61 Q189.653 1393 189.653 1384.27 Q189.653 1375.52 192.709 1370.94 Q195.787 1366.33 201.598 1366.33 Z\" fill=\"#000000\" fill-rule=\"evenodd\" fill-opacity=\"1\" /><path clip-path=\"url(#clip940)\" d=\"M127.2 1045.52 Q123.589 1045.52 121.76 1049.09 Q119.955 1052.63 119.955 1059.76 Q119.955 1066.87 121.76 1070.43 Q123.589 1073.97 127.2 1073.97 Q130.834 1073.97 132.64 1070.43 Q134.468 1066.87 134.468 1059.76 Q134.468 1052.63 132.64 1049.09 Q130.834 1045.52 127.2 1045.52 M127.2 1041.82 Q133.01 1041.82 136.066 1046.43 Q139.144 1051.01 139.144 1059.76 Q139.144 1068.49 136.066 1073.09 Q133.01 1077.68 127.2 1077.68 Q121.39 1077.68 118.311 1073.09 Q115.256 1068.49 115.256 1059.76 Q115.256 1051.01 118.311 1046.43 Q121.39 1041.82 127.2 1041.82 Z\" fill=\"#000000\" fill-rule=\"evenodd\" fill-opacity=\"1\" /><path clip-path=\"url(#clip940)\" d=\"M147.362 1071.13 L152.246 1071.13 L152.246 1077.01 L147.362 1077.01 L147.362 1071.13 Z\" fill=\"#000000\" fill-rule=\"evenodd\" fill-opacity=\"1\" /><path clip-path=\"url(#clip940)\" d=\"M166.459 1073.07 L182.778 1073.07 L182.778 1077.01 L160.834 1077.01 L160.834 1073.07 Q163.496 1070.32 168.079 1065.69 Q172.686 1061.03 173.866 1059.69 Q176.112 1057.17 176.991 1055.43 Q177.894 1053.67 177.894 1051.98 Q177.894 1049.23 175.95 1047.49 Q174.028 1045.76 170.927 1045.76 Q168.727 1045.76 166.274 1046.52 Q163.843 1047.28 161.065 1048.83 L161.065 1044.11 Q163.89 1042.98 166.343 1042.4 Q168.797 1041.82 170.834 1041.82 Q176.204 1041.82 179.399 1044.51 Q182.593 1047.19 182.593 1051.68 Q182.593 1053.81 181.783 1055.73 Q180.996 1057.63 178.889 1060.22 Q178.311 1060.89 175.209 1064.11 Q172.107 1067.31 166.459 1073.07 Z\" fill=\"#000000\" fill-rule=\"evenodd\" fill-opacity=\"1\" /><path clip-path=\"url(#clip940)\" d=\"M192.639 1042.45 L210.996 1042.45 L210.996 1046.38 L196.922 1046.38 L196.922 1054.85 Q197.94 1054.51 198.959 1054.34 Q199.977 1054.16 200.996 1054.16 Q206.783 1054.16 210.162 1057.33 Q213.542 1060.5 213.542 1065.92 Q213.542 1071.5 210.07 1074.6 Q206.598 1077.68 200.278 1077.68 Q198.102 1077.68 195.834 1077.31 Q193.588 1076.94 191.181 1076.19 L191.181 1071.5 Q193.264 1072.63 195.487 1073.19 Q197.709 1073.74 200.186 1073.74 Q204.19 1073.74 206.528 1071.63 Q208.866 1069.53 208.866 1065.92 Q208.866 1062.31 206.528 1060.2 Q204.19 1058.09 200.186 1058.09 Q198.311 1058.09 196.436 1058.51 Q194.584 1058.93 192.639 1059.81 L192.639 1042.45 Z\" fill=\"#000000\" fill-rule=\"evenodd\" fill-opacity=\"1\" /><path clip-path=\"url(#clip940)\" d=\"M126.205 721.011 Q122.593 721.011 120.765 724.575 Q118.959 728.117 118.959 735.247 Q118.959 742.353 120.765 745.918 Q122.593 749.46 126.205 749.46 Q129.839 749.46 131.644 745.918 Q133.473 742.353 133.473 735.247 Q133.473 728.117 131.644 724.575 Q129.839 721.011 126.205 721.011 M126.205 717.307 Q132.015 717.307 135.07 721.913 Q138.149 726.497 138.149 735.247 Q138.149 743.973 135.07 748.58 Q132.015 753.163 126.205 753.163 Q120.394 753.163 117.316 748.58 Q114.26 743.973 114.26 735.247 Q114.26 726.497 117.316 721.913 Q120.394 717.307 126.205 717.307 Z\" fill=\"#000000\" fill-rule=\"evenodd\" fill-opacity=\"1\" /><path clip-path=\"url(#clip940)\" d=\"M146.366 746.612 L151.251 746.612 L151.251 752.492 L146.366 752.492 L146.366 746.612 Z\" fill=\"#000000\" fill-rule=\"evenodd\" fill-opacity=\"1\" /><path clip-path=\"url(#clip940)\" d=\"M161.482 717.932 L179.839 717.932 L179.839 721.867 L165.765 721.867 L165.765 730.339 Q166.783 729.992 167.802 729.83 Q168.82 729.645 169.839 729.645 Q175.626 729.645 179.005 732.816 Q182.385 735.987 182.385 741.404 Q182.385 746.983 178.913 750.085 Q175.44 753.163 169.121 753.163 Q166.945 753.163 164.677 752.793 Q162.431 752.423 160.024 751.682 L160.024 746.983 Q162.107 748.117 164.329 748.673 Q166.552 749.228 169.028 749.228 Q173.033 749.228 175.371 747.122 Q177.709 745.015 177.709 741.404 Q177.709 737.793 175.371 735.687 Q173.033 733.58 169.028 733.58 Q167.153 733.58 165.278 733.997 Q163.427 734.413 161.482 735.293 L161.482 717.932 Z\" fill=\"#000000\" fill-rule=\"evenodd\" fill-opacity=\"1\" /><path clip-path=\"url(#clip940)\" d=\"M201.598 721.011 Q197.987 721.011 196.158 724.575 Q194.352 728.117 194.352 735.247 Q194.352 742.353 196.158 745.918 Q197.987 749.46 201.598 749.46 Q205.232 749.46 207.037 745.918 Q208.866 742.353 208.866 735.247 Q208.866 728.117 207.037 724.575 Q205.232 721.011 201.598 721.011 M201.598 717.307 Q207.408 717.307 210.463 721.913 Q213.542 726.497 213.542 735.247 Q213.542 743.973 210.463 748.58 Q207.408 753.163 201.598 753.163 Q195.787 753.163 192.709 748.58 Q189.653 743.973 189.653 735.247 Q189.653 726.497 192.709 721.913 Q195.787 717.307 201.598 717.307 Z\" fill=\"#000000\" fill-rule=\"evenodd\" fill-opacity=\"1\" /><path clip-path=\"url(#clip940)\" d=\"M127.2 396.498 Q123.589 396.498 121.76 400.062 Q119.955 403.604 119.955 410.734 Q119.955 417.84 121.76 421.405 Q123.589 424.946 127.2 424.946 Q130.834 424.946 132.64 421.405 Q134.468 417.84 134.468 410.734 Q134.468 403.604 132.64 400.062 Q130.834 396.498 127.2 396.498 M127.2 392.794 Q133.01 392.794 136.066 397.4 Q139.144 401.984 139.144 410.734 Q139.144 419.46 136.066 424.067 Q133.01 428.65 127.2 428.65 Q121.39 428.65 118.311 424.067 Q115.256 419.46 115.256 410.734 Q115.256 401.984 118.311 397.4 Q121.39 392.794 127.2 392.794 Z\" fill=\"#000000\" fill-rule=\"evenodd\" fill-opacity=\"1\" /><path clip-path=\"url(#clip940)\" d=\"M147.362 422.099 L152.246 422.099 L152.246 427.979 L147.362 427.979 L147.362 422.099 Z\" fill=\"#000000\" fill-rule=\"evenodd\" fill-opacity=\"1\" /><path clip-path=\"url(#clip940)\" d=\"M161.251 393.419 L183.473 393.419 L183.473 395.41 L170.927 427.979 L166.042 427.979 L177.848 397.354 L161.251 397.354 L161.251 393.419 Z\" fill=\"#000000\" fill-rule=\"evenodd\" fill-opacity=\"1\" /><path clip-path=\"url(#clip940)\" d=\"M192.639 393.419 L210.996 393.419 L210.996 397.354 L196.922 397.354 L196.922 405.826 Q197.94 405.479 198.959 405.317 Q199.977 405.132 200.996 405.132 Q206.783 405.132 210.162 408.303 Q213.542 411.474 213.542 416.891 Q213.542 422.47 210.07 425.571 Q206.598 428.65 200.278 428.65 Q198.102 428.65 195.834 428.28 Q193.588 427.909 191.181 427.169 L191.181 422.47 Q193.264 423.604 195.487 424.159 Q197.709 424.715 200.186 424.715 Q204.19 424.715 206.528 422.608 Q208.866 420.502 208.866 416.891 Q208.866 413.28 206.528 411.173 Q204.19 409.067 200.186 409.067 Q198.311 409.067 196.436 409.484 Q194.584 409.9 192.639 410.78 L192.639 393.419 Z\" fill=\"#000000\" fill-rule=\"evenodd\" fill-opacity=\"1\" /><path clip-path=\"url(#clip940)\" d=\"M117.015 99.5305 L124.654 99.5305 L124.654 73.1649 L116.343 74.8316 L116.343 70.5723 L124.607 68.9057 L129.283 68.9057 L129.283 99.5305 L136.922 99.5305 L136.922 103.466 L117.015 103.466 L117.015 99.5305 Z\" fill=\"#000000\" fill-rule=\"evenodd\" fill-opacity=\"1\" /><path clip-path=\"url(#clip940)\" d=\"M146.366 97.5861 L151.251 97.5861 L151.251 103.466 L146.366 103.466 L146.366 97.5861 Z\" fill=\"#000000\" fill-rule=\"evenodd\" fill-opacity=\"1\" /><path clip-path=\"url(#clip940)\" d=\"M171.436 71.9844 Q167.825 71.9844 165.996 75.5492 Q164.19 79.0908 164.19 86.2204 Q164.19 93.3268 165.996 96.8916 Q167.825 100.433 171.436 100.433 Q175.07 100.433 176.876 96.8916 Q178.704 93.3268 178.704 86.2204 Q178.704 79.0908 176.876 75.5492 Q175.07 71.9844 171.436 71.9844 M171.436 68.2807 Q177.246 68.2807 180.301 72.8871 Q183.38 77.4704 183.38 86.2204 Q183.38 94.9472 180.301 99.5537 Q177.246 104.137 171.436 104.137 Q165.626 104.137 162.547 99.5537 Q159.491 94.9472 159.491 86.2204 Q159.491 77.4704 162.547 72.8871 Q165.626 68.2807 171.436 68.2807 Z\" fill=\"#000000\" fill-rule=\"evenodd\" fill-opacity=\"1\" /><path clip-path=\"url(#clip940)\" d=\"M201.598 71.9844 Q197.987 71.9844 196.158 75.5492 Q194.352 79.0908 194.352 86.2204 Q194.352 93.3268 196.158 96.8916 Q197.987 100.433 201.598 100.433 Q205.232 100.433 207.037 96.8916 Q208.866 93.3268 208.866 86.2204 Q208.866 79.0908 207.037 75.5492 Q205.232 71.9844 201.598 71.9844 M201.598 68.2807 Q207.408 68.2807 210.463 72.8871 Q213.542 77.4704 213.542 86.2204 Q213.542 94.9472 210.463 99.5537 Q207.408 104.137 201.598 104.137 Q195.787 104.137 192.709 99.5537 Q189.653 94.9472 189.653 86.2204 Q189.653 77.4704 192.709 72.8871 Q195.787 68.2807 201.598 68.2807 Z\" fill=\"#000000\" fill-rule=\"evenodd\" fill-opacity=\"1\" /><path clip-path=\"url(#clip940)\" d=\"M39.3323 709.084 Q42.9393 709.084 46.2565 711.757 Q49.5737 714.398 51.6027 718.714 Q53.5995 722.997 53.5995 727.603 L53.5995 738.81 L70.0889 742.9 Q70.1855 742.933 70.6042 743.029 Q70.9906 743.126 71.2161 743.126 Q72.0212 743.126 72.2145 742.128 Q72.4077 741.097 72.4077 738.81 Q72.4077 737.329 72.6653 737.103 Q72.8264 736.975 73.1162 736.975 Q73.5671 736.975 73.8892 737.103 Q74.179 737.232 74.2756 737.49 Q74.3722 737.715 74.4045 737.876 Q74.4367 738.037 74.4367 738.295 Q74.4367 738.971 74.3722 740.421 Q74.3078 741.838 74.3078 742.578 L74.2434 746.797 L74.4367 755.171 Q74.4367 756.169 73.6315 756.169 Q73.0196 756.169 72.762 755.912 Q72.4721 755.654 72.4399 755.364 Q72.4077 755.074 72.4077 754.334 Q72.4077 752.723 72.3111 751.757 Q72.2145 750.791 72.0856 750.179 Q71.9246 749.535 71.4737 749.213 Q71.0228 748.859 70.6364 748.698 Q70.2177 748.536 69.2837 748.311 L33.8573 739.487 Q32.7945 739.229 32.6334 739.229 Q32.0859 739.229 31.8927 739.551 Q31.6673 739.841 31.5707 740.678 Q31.4418 742.289 31.4418 743.512 Q31.4418 744.318 31.4096 744.64 Q31.3774 744.929 31.2164 745.187 Q31.0232 745.413 30.6367 745.413 Q30.0248 745.413 29.7671 745.155 Q29.4773 744.865 29.4451 744.543 Q29.3807 744.221 29.3807 743.448 L29.3807 722.063 Q29.3807 715.912 32.3114 712.498 Q35.2421 709.084 39.3323 709.084 M37.7542 715.203 Q31.4418 715.203 31.4418 724.189 L31.4418 730.501 Q31.4418 732.595 31.8283 733.11 Q32.1826 733.625 33.9539 734.076 L51.8926 738.553 L51.8926 729.245 Q51.8926 722.997 48.3821 719.1 Q46.7718 717.329 43.4224 716.266 Q40.073 715.203 37.7542 715.203 Z\" fill=\"#000000\" fill-rule=\"evenodd\" fill-opacity=\"1\" /><path clip-path=\"url(#clip942)\" d=\"\n",
       "M344.15 488.079 L344.15 1384.24 L399.838 1384.24 L399.838 488.079 L344.15 488.079 L344.15 488.079  Z\n",
       "  \" fill=\"#009af9\" fill-rule=\"evenodd\" fill-opacity=\"1\"/>\n",
       "<polyline clip-path=\"url(#clip942)\" style=\"stroke:#000000; stroke-linecap:butt; stroke-linejoin:round; stroke-width:4; stroke-opacity:1; fill:none\" points=\"\n",
       "  344.15,488.079 344.15,1384.24 399.838,1384.24 399.838,488.079 344.15,488.079 \n",
       "  \"/>\n",
       "<path clip-path=\"url(#clip942)\" d=\"\n",
       "M399.838 457.058 L399.838 1384.24 L455.526 1384.24 L455.526 457.058 L399.838 457.058 L399.838 457.058  Z\n",
       "  \" fill=\"#009af9\" fill-rule=\"evenodd\" fill-opacity=\"1\"/>\n",
       "<polyline clip-path=\"url(#clip942)\" style=\"stroke:#000000; stroke-linecap:butt; stroke-linejoin:round; stroke-width:4; stroke-opacity:1; fill:none\" points=\"\n",
       "  399.838,457.058 399.838,1384.24 455.526,1384.24 455.526,457.058 399.838,457.058 \n",
       "  \"/>\n",
       "<path clip-path=\"url(#clip942)\" d=\"\n",
       "M455.526 687.991 L455.526 1384.24 L511.214 1384.24 L511.214 687.991 L455.526 687.991 L455.526 687.991  Z\n",
       "  \" fill=\"#009af9\" fill-rule=\"evenodd\" fill-opacity=\"1\"/>\n",
       "<polyline clip-path=\"url(#clip942)\" style=\"stroke:#000000; stroke-linecap:butt; stroke-linejoin:round; stroke-width:4; stroke-opacity:1; fill:none\" points=\"\n",
       "  455.526,687.991 455.526,1384.24 511.214,1384.24 511.214,687.991 455.526,687.991 \n",
       "  \"/>\n",
       "<path clip-path=\"url(#clip942)\" d=\"\n",
       "M511.214 712.119 L511.214 1384.24 L566.902 1384.24 L566.902 712.119 L511.214 712.119 L511.214 712.119  Z\n",
       "  \" fill=\"#009af9\" fill-rule=\"evenodd\" fill-opacity=\"1\"/>\n",
       "<polyline clip-path=\"url(#clip942)\" style=\"stroke:#000000; stroke-linecap:butt; stroke-linejoin:round; stroke-width:4; stroke-opacity:1; fill:none\" points=\"\n",
       "  511.214,712.119 511.214,1384.24 566.902,1384.24 566.902,712.119 511.214,712.119 \n",
       "  \"/>\n",
       "<path clip-path=\"url(#clip942)\" d=\"\n",
       "M566.902 763.82 L566.902 1384.24 L622.59 1384.24 L622.59 763.82 L566.902 763.82 L566.902 763.82  Z\n",
       "  \" fill=\"#009af9\" fill-rule=\"evenodd\" fill-opacity=\"1\"/>\n",
       "<polyline clip-path=\"url(#clip942)\" style=\"stroke:#000000; stroke-linecap:butt; stroke-linejoin:round; stroke-width:4; stroke-opacity:1; fill:none\" points=\"\n",
       "  566.902,763.82 566.902,1384.24 622.59,1384.24 622.59,763.82 566.902,763.82 \n",
       "  \"/>\n",
       "<path clip-path=\"url(#clip942)\" d=\"\n",
       "M622.59 898.244 L622.59 1384.24 L678.279 1384.24 L678.279 898.244 L622.59 898.244 L622.59 898.244  Z\n",
       "  \" fill=\"#009af9\" fill-rule=\"evenodd\" fill-opacity=\"1\"/>\n",
       "<polyline clip-path=\"url(#clip942)\" style=\"stroke:#000000; stroke-linecap:butt; stroke-linejoin:round; stroke-width:4; stroke-opacity:1; fill:none\" points=\"\n",
       "  622.59,898.244 622.59,1384.24 678.279,1384.24 678.279,898.244 622.59,898.244 \n",
       "  \"/>\n",
       "<path clip-path=\"url(#clip942)\" d=\"\n",
       "M678.279 984.413 L678.279 1384.24 L733.967 1384.24 L733.967 984.413 L678.279 984.413 L678.279 984.413  Z\n",
       "  \" fill=\"#009af9\" fill-rule=\"evenodd\" fill-opacity=\"1\"/>\n",
       "<polyline clip-path=\"url(#clip942)\" style=\"stroke:#000000; stroke-linecap:butt; stroke-linejoin:round; stroke-width:4; stroke-opacity:1; fill:none\" points=\"\n",
       "  678.279,984.413 678.279,1384.24 733.967,1384.24 733.967,984.413 678.279,984.413 \n",
       "  \"/>\n",
       "<path clip-path=\"url(#clip942)\" d=\"\n",
       "M733.967 991.307 L733.967 1384.24 L789.655 1384.24 L789.655 991.307 L733.967 991.307 L733.967 991.307  Z\n",
       "  \" fill=\"#009af9\" fill-rule=\"evenodd\" fill-opacity=\"1\"/>\n",
       "<polyline clip-path=\"url(#clip942)\" style=\"stroke:#000000; stroke-linecap:butt; stroke-linejoin:round; stroke-width:4; stroke-opacity:1; fill:none\" points=\"\n",
       "  733.967,991.307 733.967,1384.24 789.655,1384.24 789.655,991.307 733.967,991.307 \n",
       "  \"/>\n",
       "<path clip-path=\"url(#clip942)\" d=\"\n",
       "M789.655 1105.05 L789.655 1384.24 L845.343 1384.24 L845.343 1105.05 L789.655 1105.05 L789.655 1105.05  Z\n",
       "  \" fill=\"#009af9\" fill-rule=\"evenodd\" fill-opacity=\"1\"/>\n",
       "<polyline clip-path=\"url(#clip942)\" style=\"stroke:#000000; stroke-linecap:butt; stroke-linejoin:round; stroke-width:4; stroke-opacity:1; fill:none\" points=\"\n",
       "  789.655,1105.05 789.655,1384.24 845.343,1384.24 845.343,1105.05 789.655,1105.05 \n",
       "  \"/>\n",
       "<path clip-path=\"url(#clip942)\" d=\"\n",
       "M845.343 1070.58 L845.343 1384.24 L901.031 1384.24 L901.031 1070.58 L845.343 1070.58 L845.343 1070.58  Z\n",
       "  \" fill=\"#009af9\" fill-rule=\"evenodd\" fill-opacity=\"1\"/>\n",
       "<polyline clip-path=\"url(#clip942)\" style=\"stroke:#000000; stroke-linecap:butt; stroke-linejoin:round; stroke-width:4; stroke-opacity:1; fill:none\" points=\"\n",
       "  845.343,1070.58 845.343,1384.24 901.031,1384.24 901.031,1070.58 845.343,1070.58 \n",
       "  \"/>\n",
       "<path clip-path=\"url(#clip942)\" d=\"\n",
       "M901.031 1184.33 L901.031 1384.24 L956.719 1384.24 L956.719 1184.33 L901.031 1184.33 L901.031 1184.33  Z\n",
       "  \" fill=\"#009af9\" fill-rule=\"evenodd\" fill-opacity=\"1\"/>\n",
       "<polyline clip-path=\"url(#clip942)\" style=\"stroke:#000000; stroke-linecap:butt; stroke-linejoin:round; stroke-width:4; stroke-opacity:1; fill:none\" points=\"\n",
       "  901.031,1184.33 901.031,1384.24 956.719,1384.24 956.719,1184.33 901.031,1184.33 \n",
       "  \"/>\n",
       "<path clip-path=\"url(#clip942)\" d=\"\n",
       "M956.719 1239.47 L956.719 1384.24 L1012.41 1384.24 L1012.41 1239.47 L956.719 1239.47 L956.719 1239.47  Z\n",
       "  \" fill=\"#009af9\" fill-rule=\"evenodd\" fill-opacity=\"1\"/>\n",
       "<polyline clip-path=\"url(#clip942)\" style=\"stroke:#000000; stroke-linecap:butt; stroke-linejoin:round; stroke-width:4; stroke-opacity:1; fill:none\" points=\"\n",
       "  956.719,1239.47 956.719,1384.24 1012.41,1384.24 1012.41,1239.47 956.719,1239.47 \n",
       "  \"/>\n",
       "<path clip-path=\"url(#clip942)\" d=\"\n",
       "M1012.41 1232.58 L1012.41 1384.24 L1068.09 1384.24 L1068.09 1232.58 L1012.41 1232.58 L1012.41 1232.58  Z\n",
       "  \" fill=\"#009af9\" fill-rule=\"evenodd\" fill-opacity=\"1\"/>\n",
       "<polyline clip-path=\"url(#clip942)\" style=\"stroke:#000000; stroke-linecap:butt; stroke-linejoin:round; stroke-width:4; stroke-opacity:1; fill:none\" points=\"\n",
       "  1012.41,1232.58 1012.41,1384.24 1068.09,1384.24 1068.09,1232.58 1012.41,1232.58 \n",
       "  \"/>\n",
       "<path clip-path=\"url(#clip942)\" d=\"\n",
       "M1068.09 1308.41 L1068.09 1384.24 L1123.78 1384.24 L1123.78 1308.41 L1068.09 1308.41 L1068.09 1308.41  Z\n",
       "  \" fill=\"#009af9\" fill-rule=\"evenodd\" fill-opacity=\"1\"/>\n",
       "<polyline clip-path=\"url(#clip942)\" style=\"stroke:#000000; stroke-linecap:butt; stroke-linejoin:round; stroke-width:4; stroke-opacity:1; fill:none\" points=\"\n",
       "  1068.09,1308.41 1068.09,1384.24 1123.78,1384.24 1123.78,1308.41 1068.09,1308.41 \n",
       "  \"/>\n",
       "<path clip-path=\"url(#clip942)\" d=\"\n",
       "M1123.78 1322.2 L1123.78 1384.24 L1179.47 1384.24 L1179.47 1322.2 L1123.78 1322.2 L1123.78 1322.2  Z\n",
       "  \" fill=\"#009af9\" fill-rule=\"evenodd\" fill-opacity=\"1\"/>\n",
       "<polyline clip-path=\"url(#clip942)\" style=\"stroke:#000000; stroke-linecap:butt; stroke-linejoin:round; stroke-width:4; stroke-opacity:1; fill:none\" points=\"\n",
       "  1123.78,1322.2 1123.78,1384.24 1179.47,1384.24 1179.47,1322.2 1123.78,1322.2 \n",
       "  \"/>\n",
       "<path clip-path=\"url(#clip942)\" d=\"\n",
       "M1179.47 1318.75 L1179.47 1384.24 L1235.16 1384.24 L1235.16 1318.75 L1179.47 1318.75 L1179.47 1318.75  Z\n",
       "  \" fill=\"#009af9\" fill-rule=\"evenodd\" fill-opacity=\"1\"/>\n",
       "<polyline clip-path=\"url(#clip942)\" style=\"stroke:#000000; stroke-linecap:butt; stroke-linejoin:round; stroke-width:4; stroke-opacity:1; fill:none\" points=\"\n",
       "  1179.47,1318.75 1179.47,1384.24 1235.16,1384.24 1235.16,1318.75 1179.47,1318.75 \n",
       "  \"/>\n",
       "<path clip-path=\"url(#clip942)\" d=\"\n",
       "M1235.16 1322.2 L1235.16 1384.24 L1290.85 1384.24 L1290.85 1322.2 L1235.16 1322.2 L1235.16 1322.2  Z\n",
       "  \" fill=\"#009af9\" fill-rule=\"evenodd\" fill-opacity=\"1\"/>\n",
       "<polyline clip-path=\"url(#clip942)\" style=\"stroke:#000000; stroke-linecap:butt; stroke-linejoin:round; stroke-width:4; stroke-opacity:1; fill:none\" points=\"\n",
       "  1235.16,1322.2 1235.16,1384.24 1290.85,1384.24 1290.85,1322.2 1235.16,1322.2 \n",
       "  \"/>\n",
       "<path clip-path=\"url(#clip942)\" d=\"\n",
       "M1290.85 1363.56 L1290.85 1384.24 L1346.53 1384.24 L1346.53 1363.56 L1290.85 1363.56 L1290.85 1363.56  Z\n",
       "  \" fill=\"#009af9\" fill-rule=\"evenodd\" fill-opacity=\"1\"/>\n",
       "<polyline clip-path=\"url(#clip942)\" style=\"stroke:#000000; stroke-linecap:butt; stroke-linejoin:round; stroke-width:4; stroke-opacity:1; fill:none\" points=\"\n",
       "  1290.85,1363.56 1290.85,1384.24 1346.53,1384.24 1346.53,1363.56 1290.85,1363.56 \n",
       "  \"/>\n",
       "<path clip-path=\"url(#clip942)\" d=\"\n",
       "M1346.53 1370.45 L1346.53 1384.24 L1402.22 1384.24 L1402.22 1370.45 L1346.53 1370.45 L1346.53 1370.45  Z\n",
       "  \" fill=\"#009af9\" fill-rule=\"evenodd\" fill-opacity=\"1\"/>\n",
       "<polyline clip-path=\"url(#clip942)\" style=\"stroke:#000000; stroke-linecap:butt; stroke-linejoin:round; stroke-width:4; stroke-opacity:1; fill:none\" points=\"\n",
       "  1346.53,1370.45 1346.53,1384.24 1402.22,1384.24 1402.22,1370.45 1346.53,1370.45 \n",
       "  \"/>\n",
       "<path clip-path=\"url(#clip942)\" d=\"\n",
       "M1402.22 1377.34 L1402.22 1384.24 L1457.91 1384.24 L1457.91 1377.34 L1402.22 1377.34 L1402.22 1377.34  Z\n",
       "  \" fill=\"#009af9\" fill-rule=\"evenodd\" fill-opacity=\"1\"/>\n",
       "<polyline clip-path=\"url(#clip942)\" style=\"stroke:#000000; stroke-linecap:butt; stroke-linejoin:round; stroke-width:4; stroke-opacity:1; fill:none\" points=\"\n",
       "  1402.22,1377.34 1402.22,1384.24 1457.91,1384.24 1457.91,1377.34 1402.22,1377.34 \n",
       "  \"/>\n",
       "<path clip-path=\"url(#clip942)\" d=\"\n",
       "M1457.91 1380.79 L1457.91 1384.24 L1513.6 1384.24 L1513.6 1380.79 L1457.91 1380.79 L1457.91 1380.79  Z\n",
       "  \" fill=\"#009af9\" fill-rule=\"evenodd\" fill-opacity=\"1\"/>\n",
       "<polyline clip-path=\"url(#clip942)\" style=\"stroke:#000000; stroke-linecap:butt; stroke-linejoin:round; stroke-width:4; stroke-opacity:1; fill:none\" points=\"\n",
       "  1457.91,1380.79 1457.91,1384.24 1513.6,1384.24 1513.6,1380.79 1457.91,1380.79 \n",
       "  \"/>\n",
       "<circle clip-path=\"url(#clip942)\" style=\"fill:#009af9; stroke:none; fill-opacity:0\" cx=\"371.994\" cy=\"488.079\" r=\"2\"/>\n",
       "<circle clip-path=\"url(#clip942)\" style=\"fill:#009af9; stroke:none; fill-opacity:0\" cx=\"427.682\" cy=\"457.058\" r=\"2\"/>\n",
       "<circle clip-path=\"url(#clip942)\" style=\"fill:#009af9; stroke:none; fill-opacity:0\" cx=\"483.37\" cy=\"687.991\" r=\"2\"/>\n",
       "<circle clip-path=\"url(#clip942)\" style=\"fill:#009af9; stroke:none; fill-opacity:0\" cx=\"539.058\" cy=\"712.119\" r=\"2\"/>\n",
       "<circle clip-path=\"url(#clip942)\" style=\"fill:#009af9; stroke:none; fill-opacity:0\" cx=\"594.746\" cy=\"763.82\" r=\"2\"/>\n",
       "<circle clip-path=\"url(#clip942)\" style=\"fill:#009af9; stroke:none; fill-opacity:0\" cx=\"650.434\" cy=\"898.244\" r=\"2\"/>\n",
       "<circle clip-path=\"url(#clip942)\" style=\"fill:#009af9; stroke:none; fill-opacity:0\" cx=\"706.123\" cy=\"984.413\" r=\"2\"/>\n",
       "<circle clip-path=\"url(#clip942)\" style=\"fill:#009af9; stroke:none; fill-opacity:0\" cx=\"761.811\" cy=\"991.307\" r=\"2\"/>\n",
       "<circle clip-path=\"url(#clip942)\" style=\"fill:#009af9; stroke:none; fill-opacity:0\" cx=\"817.499\" cy=\"1105.05\" r=\"2\"/>\n",
       "<circle clip-path=\"url(#clip942)\" style=\"fill:#009af9; stroke:none; fill-opacity:0\" cx=\"873.187\" cy=\"1070.58\" r=\"2\"/>\n",
       "<circle clip-path=\"url(#clip942)\" style=\"fill:#009af9; stroke:none; fill-opacity:0\" cx=\"928.875\" cy=\"1184.33\" r=\"2\"/>\n",
       "<circle clip-path=\"url(#clip942)\" style=\"fill:#009af9; stroke:none; fill-opacity:0\" cx=\"984.563\" cy=\"1239.47\" r=\"2\"/>\n",
       "<circle clip-path=\"url(#clip942)\" style=\"fill:#009af9; stroke:none; fill-opacity:0\" cx=\"1040.25\" cy=\"1232.58\" r=\"2\"/>\n",
       "<circle clip-path=\"url(#clip942)\" style=\"fill:#009af9; stroke:none; fill-opacity:0\" cx=\"1095.94\" cy=\"1308.41\" r=\"2\"/>\n",
       "<circle clip-path=\"url(#clip942)\" style=\"fill:#009af9; stroke:none; fill-opacity:0\" cx=\"1151.63\" cy=\"1322.2\" r=\"2\"/>\n",
       "<circle clip-path=\"url(#clip942)\" style=\"fill:#009af9; stroke:none; fill-opacity:0\" cx=\"1207.31\" cy=\"1318.75\" r=\"2\"/>\n",
       "<circle clip-path=\"url(#clip942)\" style=\"fill:#009af9; stroke:none; fill-opacity:0\" cx=\"1263\" cy=\"1322.2\" r=\"2\"/>\n",
       "<circle clip-path=\"url(#clip942)\" style=\"fill:#009af9; stroke:none; fill-opacity:0\" cx=\"1318.69\" cy=\"1363.56\" r=\"2\"/>\n",
       "<circle clip-path=\"url(#clip942)\" style=\"fill:#009af9; stroke:none; fill-opacity:0\" cx=\"1374.38\" cy=\"1370.45\" r=\"2\"/>\n",
       "<circle clip-path=\"url(#clip942)\" style=\"fill:#009af9; stroke:none; fill-opacity:0\" cx=\"1430.07\" cy=\"1377.34\" r=\"2\"/>\n",
       "<circle clip-path=\"url(#clip942)\" style=\"fill:#009af9; stroke:none; fill-opacity:0\" cx=\"1485.75\" cy=\"1380.79\" r=\"2\"/>\n",
       "<polyline clip-path=\"url(#clip942)\" style=\"stroke:#ff0000; stroke-linecap:butt; stroke-linejoin:round; stroke-width:16; stroke-opacity:1; fill:none\" stroke-dasharray=\"8, 16\" points=\"\n",
       "  344.15,86.1857 348.909,108.181 353.668,129.804 358.426,151.06 363.185,171.956 385.185,264.055 407.185,349.156 429.185,427.792 451.185,500.454 473.185,567.596 \n",
       "  495.185,629.637 517.185,686.965 539.185,739.937 565.627,798.308 592.069,851.391 618.512,899.665 644.954,943.565 689.667,1008.94 734.38,1064.62 782.951,1115.78 \n",
       "  831.522,1158.75 876.3,1192.25 921.078,1220.77 1017.09,1268.45 1128.33,1306.58 1227.19,1329.79 1313.88,1344.36 1408.4,1355.84 1503.47,1364.05 1608.59,1370.4 \n",
       "  1708.61,1374.58 1812.61,1377.59 1900.15,1379.38 2007.03,1380.93 2107.5,1381.93 2268.46,1382.94 2293.23,1383.05 \n",
       "  \"/>\n",
       "<polyline clip-path=\"url(#clip942)\" style=\"stroke:#000000; stroke-linecap:butt; stroke-linejoin:round; stroke-width:16; stroke-opacity:1; fill:none\" stroke-dasharray=\"8, 16\" points=\"\n",
       "  344.15,1384.24 348.909,1349.4 353.668,1314.61 358.426,1279.91 363.185,1245.36 385.185,1088.83 407.185,940.857 418.185,871.377 429.185,805.526 440.185,743.719 \n",
       "  451.185,686.326 462.185,633.664 473.185,585.998 484.185,543.538 495.185,506.437 506.185,474.793 517.185,448.648 528.185,427.987 539.185,412.747 552.406,401.437 \n",
       "  565.627,397.503 578.848,400.573 592.069,410.201 605.29,425.878 618.512,447.045 631.733,473.105 644.954,503.437 667.31,562.677 689.667,629.284 712.023,700.356 \n",
       "  734.38,773.244 758.665,851.794 782.951,927.332 807.236,997.996 831.522,1062.5 853.911,1115.83 876.3,1163.02 898.689,1204.07 921.078,1239.22 945.082,1270.81 \n",
       "  969.085,1296.68 993.088,1317.54 1017.09,1334.08 1072.71,1359.59 1128.33,1372.92 1227.19,1381.84 1313.88,1383.72 1408.4,1384.16 1503.47,1384.23 1608.59,1384.24 \n",
       "  1708.61,1384.24 1812.61,1384.24 1900.15,1384.24 2007.03,1384.24 2107.5,1384.24 2268.46,1384.24 2293.23,1384.24 \n",
       "  \"/>\n",
       "</svg>\n"
      ]
     },
     "execution_count": 28,
     "metadata": {},
     "output_type": "execute_result"
    }
   ],
   "source": [
    "p2 = plot(xlab=L\"$s$\", ylab=L\"$P$\", legend=false)\n",
    "histogram!(p2, new_diffs1, bins=:auto, normed=true)\n",
    "plot!(p2, f, 0, 7, linestyle=:dot, linewidth=4, color=:red)\n",
    "plot!(p2, ff, 0, 7, linestyle=:dot, linewidth=4, color=:black)"
   ]
  },
  {
   "cell_type": "markdown",
   "id": "d06704f1",
   "metadata": {},
   "source": [
    "#### Case 2. $\\gamma=1.5$"
   ]
  },
  {
   "cell_type": "code",
   "execution_count": 29,
   "id": "d12d74a2",
   "metadata": {},
   "outputs": [],
   "source": [
    "eigs2 = eigvals(Htot(γ=1.5, J=J, g=g, d=d, C6=C6, R=R));"
   ]
  },
  {
   "cell_type": "code",
   "execution_count": 30,
   "id": "7530a5b6",
   "metadata": {},
   "outputs": [],
   "source": [
    "diffs2 = [eigs2[i+1]-eigs2[i] for i in 1:length(eigs2)-1];"
   ]
  },
  {
   "cell_type": "code",
   "execution_count": 31,
   "id": "a0eeca35",
   "metadata": {},
   "outputs": [],
   "source": [
    "index12 = Int((v-1)/2)\n",
    "index22 = length(diffs2)-index12\n",
    "diffs2_dropped = diffs2[index12:index22];"
   ]
  },
  {
   "cell_type": "code",
   "execution_count": 32,
   "id": "43a50319",
   "metadata": {},
   "outputs": [],
   "source": [
    "new_diffs2 = []\n",
    "for i in 1:length(diffs2_dropped)\n",
    "    drop_index = Int((v-1)/2)\n",
    "    if i-drop_index>0 && i+drop_index<=length(diffs2_dropped)\n",
    "        append!(new_diffs2, diffs2_dropped[i]/average_spacing(diffs2_dropped, i, v))\n",
    "    end\n",
    "end"
   ]
  },
  {
   "cell_type": "code",
   "execution_count": 33,
   "id": "4042a9ac",
   "metadata": {},
   "outputs": [
    {
     "data": {
      "image/svg+xml": [
       "<?xml version=\"1.0\" encoding=\"utf-8\"?>\n",
       "<svg xmlns=\"http://www.w3.org/2000/svg\" xmlns:xlink=\"http://www.w3.org/1999/xlink\" width=\"600\" height=\"400\" viewBox=\"0 0 2400 1600\">\n",
       "<defs>\n",
       "  <clipPath id=\"clip980\">\n",
       "    <rect x=\"0\" y=\"0\" width=\"2400\" height=\"1600\"/>\n",
       "  </clipPath>\n",
       "</defs>\n",
       "<path clip-path=\"url(#clip980)\" d=\"\n",
       "M0 1600 L2400 1600 L2400 0 L0 0  Z\n",
       "  \" fill=\"#ffffff\" fill-rule=\"evenodd\" fill-opacity=\"1\"/>\n",
       "<defs>\n",
       "  <clipPath id=\"clip981\">\n",
       "    <rect x=\"480\" y=\"0\" width=\"1681\" height=\"1600\"/>\n",
       "  </clipPath>\n",
       "</defs>\n",
       "<defs>\n",
       "  <clipPath id=\"clip982\">\n",
       "    <rect x=\"249\" y=\"47\" width=\"2104\" height=\"1377\"/>\n",
       "  </clipPath>\n",
       "</defs>\n",
       "<path clip-path=\"url(#clip980)\" d=\"\n",
       "M249.542 1423.18 L2352.76 1423.18 L2352.76 47.2441 L249.542 47.2441  Z\n",
       "  \" fill=\"#ffffff\" fill-rule=\"evenodd\" fill-opacity=\"1\"/>\n",
       "<polyline clip-path=\"url(#clip982)\" style=\"stroke:#000000; stroke-linecap:butt; stroke-linejoin:round; stroke-width:2; stroke-opacity:0.1; fill:none\" points=\"\n",
       "  339.215,1423.18 339.215,47.2441 \n",
       "  \"/>\n",
       "<polyline clip-path=\"url(#clip982)\" style=\"stroke:#000000; stroke-linecap:butt; stroke-linejoin:round; stroke-width:2; stroke-opacity:0.1; fill:none\" points=\"\n",
       "  897.505,1423.18 897.505,47.2441 \n",
       "  \"/>\n",
       "<polyline clip-path=\"url(#clip982)\" style=\"stroke:#000000; stroke-linecap:butt; stroke-linejoin:round; stroke-width:2; stroke-opacity:0.1; fill:none\" points=\"\n",
       "  1455.8,1423.18 1455.8,47.2441 \n",
       "  \"/>\n",
       "<polyline clip-path=\"url(#clip982)\" style=\"stroke:#000000; stroke-linecap:butt; stroke-linejoin:round; stroke-width:2; stroke-opacity:0.1; fill:none\" points=\"\n",
       "  2014.09,1423.18 2014.09,47.2441 \n",
       "  \"/>\n",
       "<polyline clip-path=\"url(#clip980)\" style=\"stroke:#000000; stroke-linecap:butt; stroke-linejoin:round; stroke-width:4; stroke-opacity:1; fill:none\" points=\"\n",
       "  249.542,1423.18 2352.76,1423.18 \n",
       "  \"/>\n",
       "<polyline clip-path=\"url(#clip980)\" style=\"stroke:#000000; stroke-linecap:butt; stroke-linejoin:round; stroke-width:4; stroke-opacity:1; fill:none\" points=\"\n",
       "  339.215,1423.18 339.215,1404.28 \n",
       "  \"/>\n",
       "<polyline clip-path=\"url(#clip980)\" style=\"stroke:#000000; stroke-linecap:butt; stroke-linejoin:round; stroke-width:4; stroke-opacity:1; fill:none\" points=\"\n",
       "  897.505,1423.18 897.505,1404.28 \n",
       "  \"/>\n",
       "<polyline clip-path=\"url(#clip980)\" style=\"stroke:#000000; stroke-linecap:butt; stroke-linejoin:round; stroke-width:4; stroke-opacity:1; fill:none\" points=\"\n",
       "  1455.8,1423.18 1455.8,1404.28 \n",
       "  \"/>\n",
       "<polyline clip-path=\"url(#clip980)\" style=\"stroke:#000000; stroke-linecap:butt; stroke-linejoin:round; stroke-width:4; stroke-opacity:1; fill:none\" points=\"\n",
       "  2014.09,1423.18 2014.09,1404.28 \n",
       "  \"/>\n",
       "<path clip-path=\"url(#clip980)\" d=\"M339.215 1454.1 Q335.604 1454.1 333.775 1457.66 Q331.969 1461.2 331.969 1468.33 Q331.969 1475.44 333.775 1479.01 Q335.604 1482.55 339.215 1482.55 Q342.849 1482.55 344.654 1479.01 Q346.483 1475.44 346.483 1468.33 Q346.483 1461.2 344.654 1457.66 Q342.849 1454.1 339.215 1454.1 M339.215 1450.39 Q345.025 1450.39 348.08 1455 Q351.159 1459.58 351.159 1468.33 Q351.159 1477.06 348.08 1481.67 Q345.025 1486.25 339.215 1486.25 Q333.404 1486.25 330.326 1481.67 Q327.27 1477.06 327.27 1468.33 Q327.27 1459.58 330.326 1455 Q333.404 1450.39 339.215 1450.39 Z\" fill=\"#000000\" fill-rule=\"evenodd\" fill-opacity=\"1\" /><path clip-path=\"url(#clip980)\" d=\"M892.158 1481.64 L908.477 1481.64 L908.477 1485.58 L886.533 1485.58 L886.533 1481.64 Q889.195 1478.89 893.778 1474.26 Q898.385 1469.61 899.565 1468.27 Q901.811 1465.74 902.69 1464.01 Q903.593 1462.25 903.593 1460.56 Q903.593 1457.8 901.649 1456.07 Q899.727 1454.33 896.625 1454.33 Q894.426 1454.33 891.973 1455.09 Q889.542 1455.86 886.764 1457.41 L886.764 1452.69 Q889.588 1451.55 892.042 1450.97 Q894.496 1450.39 896.533 1450.39 Q901.903 1450.39 905.098 1453.08 Q908.292 1455.77 908.292 1460.26 Q908.292 1462.39 907.482 1464.31 Q906.695 1466.2 904.588 1468.8 Q904.01 1469.47 900.908 1472.69 Q897.806 1475.88 892.158 1481.64 Z\" fill=\"#000000\" fill-rule=\"evenodd\" fill-opacity=\"1\" /><path clip-path=\"url(#clip980)\" d=\"M1458.8 1455.09 L1447 1473.54 L1458.8 1473.54 L1458.8 1455.09 M1457.58 1451.02 L1463.46 1451.02 L1463.46 1473.54 L1468.39 1473.54 L1468.39 1477.43 L1463.46 1477.43 L1463.46 1485.58 L1458.8 1485.58 L1458.8 1477.43 L1443.2 1477.43 L1443.2 1472.92 L1457.58 1451.02 Z\" fill=\"#000000\" fill-rule=\"evenodd\" fill-opacity=\"1\" /><path clip-path=\"url(#clip980)\" d=\"M2014.49 1466.44 Q2011.34 1466.44 2009.49 1468.59 Q2007.66 1470.74 2007.66 1474.49 Q2007.66 1478.22 2009.49 1480.39 Q2011.34 1482.55 2014.49 1482.55 Q2017.64 1482.55 2019.47 1480.39 Q2021.32 1478.22 2021.32 1474.49 Q2021.32 1470.74 2019.47 1468.59 Q2017.64 1466.44 2014.49 1466.44 M2023.77 1451.78 L2023.77 1456.04 Q2022.01 1455.21 2020.21 1454.77 Q2018.43 1454.33 2016.67 1454.33 Q2012.04 1454.33 2009.58 1457.45 Q2007.15 1460.58 2006.81 1466.9 Q2008.17 1464.89 2010.23 1463.82 Q2012.29 1462.73 2014.77 1462.73 Q2019.98 1462.73 2022.99 1465.9 Q2026.02 1469.05 2026.02 1474.49 Q2026.02 1479.82 2022.87 1483.03 Q2019.72 1486.25 2014.49 1486.25 Q2008.5 1486.25 2005.32 1481.67 Q2002.15 1477.06 2002.15 1468.33 Q2002.15 1460.14 2006.04 1455.28 Q2009.93 1450.39 2016.48 1450.39 Q2018.24 1450.39 2020.02 1450.74 Q2021.83 1451.09 2023.77 1451.78 Z\" fill=\"#000000\" fill-rule=\"evenodd\" fill-opacity=\"1\" /><path clip-path=\"url(#clip980)\" d=\"M1310.12 1546.76 Q1310.12 1548.56 1309.22 1549.53 Q1308.32 1550.46 1307.09 1550.46 Q1306.1 1550.46 1305.55 1549.88 Q1305.03 1549.3 1305.03 1548.53 Q1305.03 1547.4 1305.93 1546.5 Q1306.87 1545.6 1308.22 1545.56 Q1307.77 1544.37 1306.58 1543.66 Q1305.39 1542.92 1304.32 1542.73 Q1303.29 1542.54 1302.26 1542.54 Q1300.23 1542.54 1298.69 1543.18 Q1297.14 1543.83 1296.37 1544.82 Q1295.6 1545.79 1295.24 1546.72 Q1294.89 1547.66 1294.89 1548.46 Q1294.89 1549.17 1295.05 1549.75 Q1295.24 1550.3 1295.69 1550.72 Q1296.14 1551.1 1296.47 1551.36 Q1296.82 1551.62 1297.59 1551.84 Q1298.37 1552.07 1298.69 1552.17 Q1299.01 1552.23 1299.91 1552.42 Q1301.78 1552.81 1302.62 1553.04 Q1303.45 1553.23 1304.55 1553.78 Q1305.68 1554.32 1306.51 1555.19 Q1308.54 1557.22 1308.54 1560.02 Q1308.54 1561.06 1308.19 1562.31 Q1307.87 1563.57 1306.93 1565.15 Q1306 1566.72 1304.58 1567.98 Q1303.16 1569.24 1300.72 1570.11 Q1298.3 1570.97 1295.27 1570.97 Q1291.06 1570.97 1288.45 1569.2 Q1285.84 1567.4 1285.84 1564.57 Q1285.84 1562.5 1286.96 1561.38 Q1288.09 1560.22 1289.54 1560.22 Q1290.64 1560.22 1291.31 1560.83 Q1291.99 1561.41 1291.99 1562.5 Q1291.99 1563.99 1290.8 1565.11 Q1289.61 1566.24 1287.83 1566.02 Q1289.35 1569.49 1295.34 1569.49 Q1297.59 1569.49 1299.33 1568.91 Q1301.1 1568.3 1302.07 1567.46 Q1303.07 1566.59 1303.71 1565.53 Q1304.36 1564.47 1304.55 1563.66 Q1304.77 1562.86 1304.77 1562.25 Q1304.77 1561.18 1304.36 1560.38 Q1303.94 1559.57 1303.36 1559.12 Q1302.81 1558.64 1301.75 1558.25 Q1300.72 1557.83 1299.98 1557.67 Q1299.24 1557.51 1297.91 1557.26 Q1297.3 1557.13 1296.92 1557.06 Q1296.53 1556.97 1295.72 1556.71 Q1294.95 1556.42 1294.4 1556.13 Q1293.89 1555.84 1293.21 1555.32 Q1292.54 1554.81 1292.12 1554.2 Q1291.7 1553.58 1291.41 1552.68 Q1291.12 1551.78 1291.12 1550.72 Q1291.12 1549.75 1291.41 1548.59 Q1291.73 1547.43 1292.54 1546.08 Q1293.37 1544.73 1294.57 1543.63 Q1295.76 1542.54 1297.75 1541.83 Q1299.78 1541.09 1302.26 1541.09 Q1305.87 1541.09 1308 1542.76 Q1310.12 1544.41 1310.12 1546.76 Z\" fill=\"#000000\" fill-rule=\"evenodd\" fill-opacity=\"1\" /><polyline clip-path=\"url(#clip982)\" style=\"stroke:#000000; stroke-linecap:butt; stroke-linejoin:round; stroke-width:2; stroke-opacity:0.1; fill:none\" points=\"\n",
       "  249.542,1384.24 2352.76,1384.24 \n",
       "  \"/>\n",
       "<polyline clip-path=\"url(#clip982)\" style=\"stroke:#000000; stroke-linecap:butt; stroke-linejoin:round; stroke-width:2; stroke-opacity:0.1; fill:none\" points=\"\n",
       "  249.542,1059.73 2352.76,1059.73 \n",
       "  \"/>\n",
       "<polyline clip-path=\"url(#clip982)\" style=\"stroke:#000000; stroke-linecap:butt; stroke-linejoin:round; stroke-width:2; stroke-opacity:0.1; fill:none\" points=\"\n",
       "  249.542,735.212 2352.76,735.212 \n",
       "  \"/>\n",
       "<polyline clip-path=\"url(#clip982)\" style=\"stroke:#000000; stroke-linecap:butt; stroke-linejoin:round; stroke-width:2; stroke-opacity:0.1; fill:none\" points=\"\n",
       "  249.542,410.699 2352.76,410.699 \n",
       "  \"/>\n",
       "<polyline clip-path=\"url(#clip982)\" style=\"stroke:#000000; stroke-linecap:butt; stroke-linejoin:round; stroke-width:2; stroke-opacity:0.1; fill:none\" points=\"\n",
       "  249.542,86.1857 2352.76,86.1857 \n",
       "  \"/>\n",
       "<polyline clip-path=\"url(#clip980)\" style=\"stroke:#000000; stroke-linecap:butt; stroke-linejoin:round; stroke-width:4; stroke-opacity:1; fill:none\" points=\"\n",
       "  249.542,1423.18 249.542,47.2441 \n",
       "  \"/>\n",
       "<polyline clip-path=\"url(#clip980)\" style=\"stroke:#000000; stroke-linecap:butt; stroke-linejoin:round; stroke-width:4; stroke-opacity:1; fill:none\" points=\"\n",
       "  249.542,1384.24 268.44,1384.24 \n",
       "  \"/>\n",
       "<polyline clip-path=\"url(#clip980)\" style=\"stroke:#000000; stroke-linecap:butt; stroke-linejoin:round; stroke-width:4; stroke-opacity:1; fill:none\" points=\"\n",
       "  249.542,1059.73 268.44,1059.73 \n",
       "  \"/>\n",
       "<polyline clip-path=\"url(#clip980)\" style=\"stroke:#000000; stroke-linecap:butt; stroke-linejoin:round; stroke-width:4; stroke-opacity:1; fill:none\" points=\"\n",
       "  249.542,735.212 268.44,735.212 \n",
       "  \"/>\n",
       "<polyline clip-path=\"url(#clip980)\" style=\"stroke:#000000; stroke-linecap:butt; stroke-linejoin:round; stroke-width:4; stroke-opacity:1; fill:none\" points=\"\n",
       "  249.542,410.699 268.44,410.699 \n",
       "  \"/>\n",
       "<polyline clip-path=\"url(#clip980)\" style=\"stroke:#000000; stroke-linecap:butt; stroke-linejoin:round; stroke-width:4; stroke-opacity:1; fill:none\" points=\"\n",
       "  249.542,86.1857 268.44,86.1857 \n",
       "  \"/>\n",
       "<path clip-path=\"url(#clip980)\" d=\"M126.205 1370.04 Q122.593 1370.04 120.765 1373.6 Q118.959 1377.14 118.959 1384.27 Q118.959 1391.38 120.765 1394.94 Q122.593 1398.49 126.205 1398.49 Q129.839 1398.49 131.644 1394.94 Q133.473 1391.38 133.473 1384.27 Q133.473 1377.14 131.644 1373.6 Q129.839 1370.04 126.205 1370.04 M126.205 1366.33 Q132.015 1366.33 135.07 1370.94 Q138.149 1375.52 138.149 1384.27 Q138.149 1393 135.07 1397.61 Q132.015 1402.19 126.205 1402.19 Q120.394 1402.19 117.316 1397.61 Q114.26 1393 114.26 1384.27 Q114.26 1375.52 117.316 1370.94 Q120.394 1366.33 126.205 1366.33 Z\" fill=\"#000000\" fill-rule=\"evenodd\" fill-opacity=\"1\" /><path clip-path=\"url(#clip980)\" d=\"M146.366 1395.64 L151.251 1395.64 L151.251 1401.52 L146.366 1401.52 L146.366 1395.64 Z\" fill=\"#000000\" fill-rule=\"evenodd\" fill-opacity=\"1\" /><path clip-path=\"url(#clip980)\" d=\"M171.436 1370.04 Q167.825 1370.04 165.996 1373.6 Q164.19 1377.14 164.19 1384.27 Q164.19 1391.38 165.996 1394.94 Q167.825 1398.49 171.436 1398.49 Q175.07 1398.49 176.876 1394.94 Q178.704 1391.38 178.704 1384.27 Q178.704 1377.14 176.876 1373.6 Q175.07 1370.04 171.436 1370.04 M171.436 1366.33 Q177.246 1366.33 180.301 1370.94 Q183.38 1375.52 183.38 1384.27 Q183.38 1393 180.301 1397.61 Q177.246 1402.19 171.436 1402.19 Q165.626 1402.19 162.547 1397.61 Q159.491 1393 159.491 1384.27 Q159.491 1375.52 162.547 1370.94 Q165.626 1366.33 171.436 1366.33 Z\" fill=\"#000000\" fill-rule=\"evenodd\" fill-opacity=\"1\" /><path clip-path=\"url(#clip980)\" d=\"M201.598 1370.04 Q197.987 1370.04 196.158 1373.6 Q194.352 1377.14 194.352 1384.27 Q194.352 1391.38 196.158 1394.94 Q197.987 1398.49 201.598 1398.49 Q205.232 1398.49 207.037 1394.94 Q208.866 1391.38 208.866 1384.27 Q208.866 1377.14 207.037 1373.6 Q205.232 1370.04 201.598 1370.04 M201.598 1366.33 Q207.408 1366.33 210.463 1370.94 Q213.542 1375.52 213.542 1384.27 Q213.542 1393 210.463 1397.61 Q207.408 1402.19 201.598 1402.19 Q195.787 1402.19 192.709 1397.61 Q189.653 1393 189.653 1384.27 Q189.653 1375.52 192.709 1370.94 Q195.787 1366.33 201.598 1366.33 Z\" fill=\"#000000\" fill-rule=\"evenodd\" fill-opacity=\"1\" /><path clip-path=\"url(#clip980)\" d=\"M127.2 1045.52 Q123.589 1045.52 121.76 1049.09 Q119.955 1052.63 119.955 1059.76 Q119.955 1066.87 121.76 1070.43 Q123.589 1073.97 127.2 1073.97 Q130.834 1073.97 132.64 1070.43 Q134.468 1066.87 134.468 1059.76 Q134.468 1052.63 132.64 1049.09 Q130.834 1045.52 127.2 1045.52 M127.2 1041.82 Q133.01 1041.82 136.066 1046.43 Q139.144 1051.01 139.144 1059.76 Q139.144 1068.49 136.066 1073.09 Q133.01 1077.68 127.2 1077.68 Q121.39 1077.68 118.311 1073.09 Q115.256 1068.49 115.256 1059.76 Q115.256 1051.01 118.311 1046.43 Q121.39 1041.82 127.2 1041.82 Z\" fill=\"#000000\" fill-rule=\"evenodd\" fill-opacity=\"1\" /><path clip-path=\"url(#clip980)\" d=\"M147.362 1071.13 L152.246 1071.13 L152.246 1077.01 L147.362 1077.01 L147.362 1071.13 Z\" fill=\"#000000\" fill-rule=\"evenodd\" fill-opacity=\"1\" /><path clip-path=\"url(#clip980)\" d=\"M166.459 1073.07 L182.778 1073.07 L182.778 1077.01 L160.834 1077.01 L160.834 1073.07 Q163.496 1070.32 168.079 1065.69 Q172.686 1061.03 173.866 1059.69 Q176.112 1057.17 176.991 1055.43 Q177.894 1053.67 177.894 1051.98 Q177.894 1049.23 175.95 1047.49 Q174.028 1045.76 170.927 1045.76 Q168.727 1045.76 166.274 1046.52 Q163.843 1047.28 161.065 1048.83 L161.065 1044.11 Q163.89 1042.98 166.343 1042.4 Q168.797 1041.82 170.834 1041.82 Q176.204 1041.82 179.399 1044.51 Q182.593 1047.19 182.593 1051.68 Q182.593 1053.81 181.783 1055.73 Q180.996 1057.63 178.889 1060.22 Q178.311 1060.89 175.209 1064.11 Q172.107 1067.31 166.459 1073.07 Z\" fill=\"#000000\" fill-rule=\"evenodd\" fill-opacity=\"1\" /><path clip-path=\"url(#clip980)\" d=\"M192.639 1042.45 L210.996 1042.45 L210.996 1046.38 L196.922 1046.38 L196.922 1054.85 Q197.94 1054.51 198.959 1054.34 Q199.977 1054.16 200.996 1054.16 Q206.783 1054.16 210.162 1057.33 Q213.542 1060.5 213.542 1065.92 Q213.542 1071.5 210.07 1074.6 Q206.598 1077.68 200.278 1077.68 Q198.102 1077.68 195.834 1077.31 Q193.588 1076.94 191.181 1076.19 L191.181 1071.5 Q193.264 1072.63 195.487 1073.19 Q197.709 1073.74 200.186 1073.74 Q204.19 1073.74 206.528 1071.63 Q208.866 1069.53 208.866 1065.92 Q208.866 1062.31 206.528 1060.2 Q204.19 1058.09 200.186 1058.09 Q198.311 1058.09 196.436 1058.51 Q194.584 1058.93 192.639 1059.81 L192.639 1042.45 Z\" fill=\"#000000\" fill-rule=\"evenodd\" fill-opacity=\"1\" /><path clip-path=\"url(#clip980)\" d=\"M126.205 721.011 Q122.593 721.011 120.765 724.575 Q118.959 728.117 118.959 735.247 Q118.959 742.353 120.765 745.918 Q122.593 749.46 126.205 749.46 Q129.839 749.46 131.644 745.918 Q133.473 742.353 133.473 735.247 Q133.473 728.117 131.644 724.575 Q129.839 721.011 126.205 721.011 M126.205 717.307 Q132.015 717.307 135.07 721.913 Q138.149 726.497 138.149 735.247 Q138.149 743.973 135.07 748.58 Q132.015 753.163 126.205 753.163 Q120.394 753.163 117.316 748.58 Q114.26 743.973 114.26 735.247 Q114.26 726.497 117.316 721.913 Q120.394 717.307 126.205 717.307 Z\" fill=\"#000000\" fill-rule=\"evenodd\" fill-opacity=\"1\" /><path clip-path=\"url(#clip980)\" d=\"M146.366 746.612 L151.251 746.612 L151.251 752.492 L146.366 752.492 L146.366 746.612 Z\" fill=\"#000000\" fill-rule=\"evenodd\" fill-opacity=\"1\" /><path clip-path=\"url(#clip980)\" d=\"M161.482 717.932 L179.839 717.932 L179.839 721.867 L165.765 721.867 L165.765 730.339 Q166.783 729.992 167.802 729.83 Q168.82 729.645 169.839 729.645 Q175.626 729.645 179.005 732.816 Q182.385 735.987 182.385 741.404 Q182.385 746.983 178.913 750.085 Q175.44 753.163 169.121 753.163 Q166.945 753.163 164.677 752.793 Q162.431 752.423 160.024 751.682 L160.024 746.983 Q162.107 748.117 164.329 748.673 Q166.552 749.228 169.028 749.228 Q173.033 749.228 175.371 747.122 Q177.709 745.015 177.709 741.404 Q177.709 737.793 175.371 735.687 Q173.033 733.58 169.028 733.58 Q167.153 733.58 165.278 733.997 Q163.427 734.413 161.482 735.293 L161.482 717.932 Z\" fill=\"#000000\" fill-rule=\"evenodd\" fill-opacity=\"1\" /><path clip-path=\"url(#clip980)\" d=\"M201.598 721.011 Q197.987 721.011 196.158 724.575 Q194.352 728.117 194.352 735.247 Q194.352 742.353 196.158 745.918 Q197.987 749.46 201.598 749.46 Q205.232 749.46 207.037 745.918 Q208.866 742.353 208.866 735.247 Q208.866 728.117 207.037 724.575 Q205.232 721.011 201.598 721.011 M201.598 717.307 Q207.408 717.307 210.463 721.913 Q213.542 726.497 213.542 735.247 Q213.542 743.973 210.463 748.58 Q207.408 753.163 201.598 753.163 Q195.787 753.163 192.709 748.58 Q189.653 743.973 189.653 735.247 Q189.653 726.497 192.709 721.913 Q195.787 717.307 201.598 717.307 Z\" fill=\"#000000\" fill-rule=\"evenodd\" fill-opacity=\"1\" /><path clip-path=\"url(#clip980)\" d=\"M127.2 396.498 Q123.589 396.498 121.76 400.062 Q119.955 403.604 119.955 410.734 Q119.955 417.84 121.76 421.405 Q123.589 424.946 127.2 424.946 Q130.834 424.946 132.64 421.405 Q134.468 417.84 134.468 410.734 Q134.468 403.604 132.64 400.062 Q130.834 396.498 127.2 396.498 M127.2 392.794 Q133.01 392.794 136.066 397.4 Q139.144 401.984 139.144 410.734 Q139.144 419.46 136.066 424.067 Q133.01 428.65 127.2 428.65 Q121.39 428.65 118.311 424.067 Q115.256 419.46 115.256 410.734 Q115.256 401.984 118.311 397.4 Q121.39 392.794 127.2 392.794 Z\" fill=\"#000000\" fill-rule=\"evenodd\" fill-opacity=\"1\" /><path clip-path=\"url(#clip980)\" d=\"M147.362 422.099 L152.246 422.099 L152.246 427.979 L147.362 427.979 L147.362 422.099 Z\" fill=\"#000000\" fill-rule=\"evenodd\" fill-opacity=\"1\" /><path clip-path=\"url(#clip980)\" d=\"M161.251 393.419 L183.473 393.419 L183.473 395.41 L170.927 427.979 L166.042 427.979 L177.848 397.354 L161.251 397.354 L161.251 393.419 Z\" fill=\"#000000\" fill-rule=\"evenodd\" fill-opacity=\"1\" /><path clip-path=\"url(#clip980)\" d=\"M192.639 393.419 L210.996 393.419 L210.996 397.354 L196.922 397.354 L196.922 405.826 Q197.94 405.479 198.959 405.317 Q199.977 405.132 200.996 405.132 Q206.783 405.132 210.162 408.303 Q213.542 411.474 213.542 416.891 Q213.542 422.47 210.07 425.571 Q206.598 428.65 200.278 428.65 Q198.102 428.65 195.834 428.28 Q193.588 427.909 191.181 427.169 L191.181 422.47 Q193.264 423.604 195.487 424.159 Q197.709 424.715 200.186 424.715 Q204.19 424.715 206.528 422.608 Q208.866 420.502 208.866 416.891 Q208.866 413.28 206.528 411.173 Q204.19 409.067 200.186 409.067 Q198.311 409.067 196.436 409.484 Q194.584 409.9 192.639 410.78 L192.639 393.419 Z\" fill=\"#000000\" fill-rule=\"evenodd\" fill-opacity=\"1\" /><path clip-path=\"url(#clip980)\" d=\"M117.015 99.5305 L124.654 99.5305 L124.654 73.1649 L116.343 74.8316 L116.343 70.5723 L124.607 68.9057 L129.283 68.9057 L129.283 99.5305 L136.922 99.5305 L136.922 103.466 L117.015 103.466 L117.015 99.5305 Z\" fill=\"#000000\" fill-rule=\"evenodd\" fill-opacity=\"1\" /><path clip-path=\"url(#clip980)\" d=\"M146.366 97.5861 L151.251 97.5861 L151.251 103.466 L146.366 103.466 L146.366 97.5861 Z\" fill=\"#000000\" fill-rule=\"evenodd\" fill-opacity=\"1\" /><path clip-path=\"url(#clip980)\" d=\"M171.436 71.9844 Q167.825 71.9844 165.996 75.5492 Q164.19 79.0908 164.19 86.2204 Q164.19 93.3268 165.996 96.8916 Q167.825 100.433 171.436 100.433 Q175.07 100.433 176.876 96.8916 Q178.704 93.3268 178.704 86.2204 Q178.704 79.0908 176.876 75.5492 Q175.07 71.9844 171.436 71.9844 M171.436 68.2807 Q177.246 68.2807 180.301 72.8871 Q183.38 77.4704 183.38 86.2204 Q183.38 94.9472 180.301 99.5537 Q177.246 104.137 171.436 104.137 Q165.626 104.137 162.547 99.5537 Q159.491 94.9472 159.491 86.2204 Q159.491 77.4704 162.547 72.8871 Q165.626 68.2807 171.436 68.2807 Z\" fill=\"#000000\" fill-rule=\"evenodd\" fill-opacity=\"1\" /><path clip-path=\"url(#clip980)\" d=\"M201.598 71.9844 Q197.987 71.9844 196.158 75.5492 Q194.352 79.0908 194.352 86.2204 Q194.352 93.3268 196.158 96.8916 Q197.987 100.433 201.598 100.433 Q205.232 100.433 207.037 96.8916 Q208.866 93.3268 208.866 86.2204 Q208.866 79.0908 207.037 75.5492 Q205.232 71.9844 201.598 71.9844 M201.598 68.2807 Q207.408 68.2807 210.463 72.8871 Q213.542 77.4704 213.542 86.2204 Q213.542 94.9472 210.463 99.5537 Q207.408 104.137 201.598 104.137 Q195.787 104.137 192.709 99.5537 Q189.653 94.9472 189.653 86.2204 Q189.653 77.4704 192.709 72.8871 Q195.787 68.2807 201.598 68.2807 Z\" fill=\"#000000\" fill-rule=\"evenodd\" fill-opacity=\"1\" /><path clip-path=\"url(#clip980)\" d=\"M39.3323 709.084 Q42.9393 709.084 46.2565 711.757 Q49.5737 714.398 51.6027 718.714 Q53.5995 722.997 53.5995 727.603 L53.5995 738.81 L70.0889 742.9 Q70.1855 742.933 70.6042 743.029 Q70.9906 743.126 71.2161 743.126 Q72.0212 743.126 72.2145 742.128 Q72.4077 741.097 72.4077 738.81 Q72.4077 737.329 72.6653 737.103 Q72.8264 736.975 73.1162 736.975 Q73.5671 736.975 73.8892 737.103 Q74.179 737.232 74.2756 737.49 Q74.3722 737.715 74.4045 737.876 Q74.4367 738.037 74.4367 738.295 Q74.4367 738.971 74.3722 740.421 Q74.3078 741.838 74.3078 742.578 L74.2434 746.797 L74.4367 755.171 Q74.4367 756.169 73.6315 756.169 Q73.0196 756.169 72.762 755.912 Q72.4721 755.654 72.4399 755.364 Q72.4077 755.074 72.4077 754.334 Q72.4077 752.723 72.3111 751.757 Q72.2145 750.791 72.0856 750.179 Q71.9246 749.535 71.4737 749.213 Q71.0228 748.859 70.6364 748.698 Q70.2177 748.536 69.2837 748.311 L33.8573 739.487 Q32.7945 739.229 32.6334 739.229 Q32.0859 739.229 31.8927 739.551 Q31.6673 739.841 31.5707 740.678 Q31.4418 742.289 31.4418 743.512 Q31.4418 744.318 31.4096 744.64 Q31.3774 744.929 31.2164 745.187 Q31.0232 745.413 30.6367 745.413 Q30.0248 745.413 29.7671 745.155 Q29.4773 744.865 29.4451 744.543 Q29.3807 744.221 29.3807 743.448 L29.3807 722.063 Q29.3807 715.912 32.3114 712.498 Q35.2421 709.084 39.3323 709.084 M37.7542 715.203 Q31.4418 715.203 31.4418 724.189 L31.4418 730.501 Q31.4418 732.595 31.8283 733.11 Q32.1826 733.625 33.9539 734.076 L51.8926 738.553 L51.8926 729.245 Q51.8926 722.997 48.3821 719.1 Q46.7718 717.329 43.4224 716.266 Q40.073 715.203 37.7542 715.203 Z\" fill=\"#000000\" fill-rule=\"evenodd\" fill-opacity=\"1\" /><path clip-path=\"url(#clip982)\" d=\"\n",
       "M339.215 1063.69 L339.215 1384.24 L395.044 1384.24 L395.044 1063.69 L339.215 1063.69 L339.215 1063.69  Z\n",
       "  \" fill=\"#009af9\" fill-rule=\"evenodd\" fill-opacity=\"1\"/>\n",
       "<polyline clip-path=\"url(#clip982)\" style=\"stroke:#000000; stroke-linecap:butt; stroke-linejoin:round; stroke-width:4; stroke-opacity:1; fill:none\" points=\"\n",
       "  339.215,1063.69 339.215,1384.24 395.044,1384.24 395.044,1063.69 339.215,1063.69 \n",
       "  \"/>\n",
       "<path clip-path=\"url(#clip982)\" d=\"\n",
       "M395.044 750.033 L395.044 1384.24 L450.873 1384.24 L450.873 750.033 L395.044 750.033 L395.044 750.033  Z\n",
       "  \" fill=\"#009af9\" fill-rule=\"evenodd\" fill-opacity=\"1\"/>\n",
       "<polyline clip-path=\"url(#clip982)\" style=\"stroke:#000000; stroke-linecap:butt; stroke-linejoin:round; stroke-width:4; stroke-opacity:1; fill:none\" points=\"\n",
       "  395.044,750.033 395.044,1384.24 450.873,1384.24 450.873,750.033 395.044,750.033 \n",
       "  \"/>\n",
       "<path clip-path=\"url(#clip982)\" d=\"\n",
       "M450.873 560.461 L450.873 1384.24 L506.702 1384.24 L506.702 560.461 L450.873 560.461 L450.873 560.461  Z\n",
       "  \" fill=\"#009af9\" fill-rule=\"evenodd\" fill-opacity=\"1\"/>\n",
       "<polyline clip-path=\"url(#clip982)\" style=\"stroke:#000000; stroke-linecap:butt; stroke-linejoin:round; stroke-width:4; stroke-opacity:1; fill:none\" points=\"\n",
       "  450.873,560.461 450.873,1384.24 506.702,1384.24 506.702,560.461 450.873,560.461 \n",
       "  \"/>\n",
       "<path clip-path=\"url(#clip982)\" d=\"\n",
       "M506.702 577.695 L506.702 1384.24 L562.531 1384.24 L562.531 577.695 L506.702 577.695 L506.702 577.695  Z\n",
       "  \" fill=\"#009af9\" fill-rule=\"evenodd\" fill-opacity=\"1\"/>\n",
       "<polyline clip-path=\"url(#clip982)\" style=\"stroke:#000000; stroke-linecap:butt; stroke-linejoin:round; stroke-width:4; stroke-opacity:1; fill:none\" points=\"\n",
       "  506.702,577.695 506.702,1384.24 562.531,1384.24 562.531,577.695 506.702,577.695 \n",
       "  \"/>\n",
       "<path clip-path=\"url(#clip982)\" d=\"\n",
       "M562.531 557.014 L562.531 1384.24 L618.36 1384.24 L618.36 557.014 L562.531 557.014 L562.531 557.014  Z\n",
       "  \" fill=\"#009af9\" fill-rule=\"evenodd\" fill-opacity=\"1\"/>\n",
       "<polyline clip-path=\"url(#clip982)\" style=\"stroke:#000000; stroke-linecap:butt; stroke-linejoin:round; stroke-width:4; stroke-opacity:1; fill:none\" points=\"\n",
       "  562.531,557.014 562.531,1384.24 618.36,1384.24 618.36,557.014 562.531,557.014 \n",
       "  \"/>\n",
       "<path clip-path=\"url(#clip982)\" d=\"\n",
       "M618.36 519.1 L618.36 1384.24 L674.189 1384.24 L674.189 519.1 L618.36 519.1 L618.36 519.1  Z\n",
       "  \" fill=\"#009af9\" fill-rule=\"evenodd\" fill-opacity=\"1\"/>\n",
       "<polyline clip-path=\"url(#clip982)\" style=\"stroke:#000000; stroke-linecap:butt; stroke-linejoin:round; stroke-width:4; stroke-opacity:1; fill:none\" points=\"\n",
       "  618.36,519.1 618.36,1384.24 674.189,1384.24 674.189,519.1 618.36,519.1 \n",
       "  \"/>\n",
       "<path clip-path=\"url(#clip982)\" d=\"\n",
       "M674.189 629.396 L674.189 1384.24 L730.018 1384.24 L730.018 629.396 L674.189 629.396 L674.189 629.396  Z\n",
       "  \" fill=\"#009af9\" fill-rule=\"evenodd\" fill-opacity=\"1\"/>\n",
       "<polyline clip-path=\"url(#clip982)\" style=\"stroke:#000000; stroke-linecap:butt; stroke-linejoin:round; stroke-width:4; stroke-opacity:1; fill:none\" points=\"\n",
       "  674.189,629.396 674.189,1384.24 730.018,1384.24 730.018,629.396 674.189,629.396 \n",
       "  \"/>\n",
       "<path clip-path=\"url(#clip982)\" d=\"\n",
       "M730.018 915.478 L730.018 1384.24 L785.847 1384.24 L785.847 915.478 L730.018 915.478 L730.018 915.478  Z\n",
       "  \" fill=\"#009af9\" fill-rule=\"evenodd\" fill-opacity=\"1\"/>\n",
       "<polyline clip-path=\"url(#clip982)\" style=\"stroke:#000000; stroke-linecap:butt; stroke-linejoin:round; stroke-width:4; stroke-opacity:1; fill:none\" points=\"\n",
       "  730.018,915.478 730.018,1384.24 785.847,1384.24 785.847,915.478 730.018,915.478 \n",
       "  \"/>\n",
       "<path clip-path=\"url(#clip982)\" d=\"\n",
       "M785.847 1067.14 L785.847 1384.24 L841.676 1384.24 L841.676 1067.14 L785.847 1067.14 L785.847 1067.14  Z\n",
       "  \" fill=\"#009af9\" fill-rule=\"evenodd\" fill-opacity=\"1\"/>\n",
       "<polyline clip-path=\"url(#clip982)\" style=\"stroke:#000000; stroke-linecap:butt; stroke-linejoin:round; stroke-width:4; stroke-opacity:1; fill:none\" points=\"\n",
       "  785.847,1067.14 785.847,1384.24 841.676,1384.24 841.676,1067.14 785.847,1067.14 \n",
       "  \"/>\n",
       "<path clip-path=\"url(#clip982)\" d=\"\n",
       "M841.676 1142.96 L841.676 1384.24 L897.505 1384.24 L897.505 1142.96 L841.676 1142.96 L841.676 1142.96  Z\n",
       "  \" fill=\"#009af9\" fill-rule=\"evenodd\" fill-opacity=\"1\"/>\n",
       "<polyline clip-path=\"url(#clip982)\" style=\"stroke:#000000; stroke-linecap:butt; stroke-linejoin:round; stroke-width:4; stroke-opacity:1; fill:none\" points=\"\n",
       "  841.676,1142.96 841.676,1384.24 897.505,1384.24 897.505,1142.96 841.676,1142.96 \n",
       "  \"/>\n",
       "<path clip-path=\"url(#clip982)\" d=\"\n",
       "M897.505 1167.09 L897.505 1384.24 L953.334 1384.24 L953.334 1167.09 L897.505 1167.09 L897.505 1167.09  Z\n",
       "  \" fill=\"#009af9\" fill-rule=\"evenodd\" fill-opacity=\"1\"/>\n",
       "<polyline clip-path=\"url(#clip982)\" style=\"stroke:#000000; stroke-linecap:butt; stroke-linejoin:round; stroke-width:4; stroke-opacity:1; fill:none\" points=\"\n",
       "  897.505,1167.09 897.505,1384.24 953.334,1384.24 953.334,1167.09 897.505,1167.09 \n",
       "  \"/>\n",
       "<path clip-path=\"url(#clip982)\" d=\"\n",
       "M953.334 1273.94 L953.334 1384.24 L1009.16 1384.24 L1009.16 1273.94 L953.334 1273.94 L953.334 1273.94  Z\n",
       "  \" fill=\"#009af9\" fill-rule=\"evenodd\" fill-opacity=\"1\"/>\n",
       "<polyline clip-path=\"url(#clip982)\" style=\"stroke:#000000; stroke-linecap:butt; stroke-linejoin:round; stroke-width:4; stroke-opacity:1; fill:none\" points=\"\n",
       "  953.334,1273.94 953.334,1384.24 1009.16,1384.24 1009.16,1273.94 953.334,1273.94 \n",
       "  \"/>\n",
       "<path clip-path=\"url(#clip982)\" d=\"\n",
       "M1009.16 1332.54 L1009.16 1384.24 L1064.99 1384.24 L1064.99 1332.54 L1009.16 1332.54 L1009.16 1332.54  Z\n",
       "  \" fill=\"#009af9\" fill-rule=\"evenodd\" fill-opacity=\"1\"/>\n",
       "<polyline clip-path=\"url(#clip982)\" style=\"stroke:#000000; stroke-linecap:butt; stroke-linejoin:round; stroke-width:4; stroke-opacity:1; fill:none\" points=\"\n",
       "  1009.16,1332.54 1009.16,1384.24 1064.99,1384.24 1064.99,1332.54 1009.16,1332.54 \n",
       "  \"/>\n",
       "<path clip-path=\"url(#clip982)\" d=\"\n",
       "M1064.99 1367 L1064.99 1384.24 L1120.82 1384.24 L1120.82 1367 L1064.99 1367 L1064.99 1367  Z\n",
       "  \" fill=\"#009af9\" fill-rule=\"evenodd\" fill-opacity=\"1\"/>\n",
       "<polyline clip-path=\"url(#clip982)\" style=\"stroke:#000000; stroke-linecap:butt; stroke-linejoin:round; stroke-width:4; stroke-opacity:1; fill:none\" points=\"\n",
       "  1064.99,1367 1064.99,1384.24 1120.82,1384.24 1120.82,1367 1064.99,1367 \n",
       "  \"/>\n",
       "<path clip-path=\"url(#clip982)\" d=\"\n",
       "M1120.82 1377.34 L1120.82 1384.24 L1176.65 1384.24 L1176.65 1377.34 L1120.82 1377.34 L1120.82 1377.34  Z\n",
       "  \" fill=\"#009af9\" fill-rule=\"evenodd\" fill-opacity=\"1\"/>\n",
       "<polyline clip-path=\"url(#clip982)\" style=\"stroke:#000000; stroke-linecap:butt; stroke-linejoin:round; stroke-width:4; stroke-opacity:1; fill:none\" points=\"\n",
       "  1120.82,1377.34 1120.82,1384.24 1176.65,1384.24 1176.65,1377.34 1120.82,1377.34 \n",
       "  \"/>\n",
       "<path clip-path=\"url(#clip982)\" d=\"\n",
       "M1176.65 1370.45 L1176.65 1384.24 L1232.48 1384.24 L1232.48 1370.45 L1176.65 1370.45 L1176.65 1370.45  Z\n",
       "  \" fill=\"#009af9\" fill-rule=\"evenodd\" fill-opacity=\"1\"/>\n",
       "<polyline clip-path=\"url(#clip982)\" style=\"stroke:#000000; stroke-linecap:butt; stroke-linejoin:round; stroke-width:4; stroke-opacity:1; fill:none\" points=\"\n",
       "  1176.65,1370.45 1176.65,1384.24 1232.48,1384.24 1232.48,1370.45 1176.65,1370.45 \n",
       "  \"/>\n",
       "<path clip-path=\"url(#clip982)\" d=\"\n",
       "M1232.48 1377.34 L1232.48 1384.24 L1288.31 1384.24 L1288.31 1377.34 L1232.48 1377.34 L1232.48 1377.34  Z\n",
       "  \" fill=\"#009af9\" fill-rule=\"evenodd\" fill-opacity=\"1\"/>\n",
       "<polyline clip-path=\"url(#clip982)\" style=\"stroke:#000000; stroke-linecap:butt; stroke-linejoin:round; stroke-width:4; stroke-opacity:1; fill:none\" points=\"\n",
       "  1232.48,1377.34 1232.48,1384.24 1288.31,1384.24 1288.31,1377.34 1232.48,1377.34 \n",
       "  \"/>\n",
       "<path clip-path=\"url(#clip982)\" d=\"\n",
       "M1288.31 1377.34 L1288.31 1384.24 L1344.14 1384.24 L1344.14 1377.34 L1288.31 1377.34 L1288.31 1377.34  Z\n",
       "  \" fill=\"#009af9\" fill-rule=\"evenodd\" fill-opacity=\"1\"/>\n",
       "<polyline clip-path=\"url(#clip982)\" style=\"stroke:#000000; stroke-linecap:butt; stroke-linejoin:round; stroke-width:4; stroke-opacity:1; fill:none\" points=\"\n",
       "  1288.31,1377.34 1288.31,1384.24 1344.14,1384.24 1344.14,1377.34 1288.31,1377.34 \n",
       "  \"/>\n",
       "<circle clip-path=\"url(#clip982)\" style=\"fill:#009af9; stroke:none; fill-opacity:0\" cx=\"367.129\" cy=\"1063.69\" r=\"2\"/>\n",
       "<circle clip-path=\"url(#clip982)\" style=\"fill:#009af9; stroke:none; fill-opacity:0\" cx=\"422.958\" cy=\"750.033\" r=\"2\"/>\n",
       "<circle clip-path=\"url(#clip982)\" style=\"fill:#009af9; stroke:none; fill-opacity:0\" cx=\"478.787\" cy=\"560.461\" r=\"2\"/>\n",
       "<circle clip-path=\"url(#clip982)\" style=\"fill:#009af9; stroke:none; fill-opacity:0\" cx=\"534.616\" cy=\"577.695\" r=\"2\"/>\n",
       "<circle clip-path=\"url(#clip982)\" style=\"fill:#009af9; stroke:none; fill-opacity:0\" cx=\"590.445\" cy=\"557.014\" r=\"2\"/>\n",
       "<circle clip-path=\"url(#clip982)\" style=\"fill:#009af9; stroke:none; fill-opacity:0\" cx=\"646.274\" cy=\"519.1\" r=\"2\"/>\n",
       "<circle clip-path=\"url(#clip982)\" style=\"fill:#009af9; stroke:none; fill-opacity:0\" cx=\"702.103\" cy=\"629.396\" r=\"2\"/>\n",
       "<circle clip-path=\"url(#clip982)\" style=\"fill:#009af9; stroke:none; fill-opacity:0\" cx=\"757.932\" cy=\"915.478\" r=\"2\"/>\n",
       "<circle clip-path=\"url(#clip982)\" style=\"fill:#009af9; stroke:none; fill-opacity:0\" cx=\"813.761\" cy=\"1067.14\" r=\"2\"/>\n",
       "<circle clip-path=\"url(#clip982)\" style=\"fill:#009af9; stroke:none; fill-opacity:0\" cx=\"869.591\" cy=\"1142.96\" r=\"2\"/>\n",
       "<circle clip-path=\"url(#clip982)\" style=\"fill:#009af9; stroke:none; fill-opacity:0\" cx=\"925.42\" cy=\"1167.09\" r=\"2\"/>\n",
       "<circle clip-path=\"url(#clip982)\" style=\"fill:#009af9; stroke:none; fill-opacity:0\" cx=\"981.249\" cy=\"1273.94\" r=\"2\"/>\n",
       "<circle clip-path=\"url(#clip982)\" style=\"fill:#009af9; stroke:none; fill-opacity:0\" cx=\"1037.08\" cy=\"1332.54\" r=\"2\"/>\n",
       "<circle clip-path=\"url(#clip982)\" style=\"fill:#009af9; stroke:none; fill-opacity:0\" cx=\"1092.91\" cy=\"1367\" r=\"2\"/>\n",
       "<circle clip-path=\"url(#clip982)\" style=\"fill:#009af9; stroke:none; fill-opacity:0\" cx=\"1148.74\" cy=\"1377.34\" r=\"2\"/>\n",
       "<circle clip-path=\"url(#clip982)\" style=\"fill:#009af9; stroke:none; fill-opacity:0\" cx=\"1204.56\" cy=\"1370.45\" r=\"2\"/>\n",
       "<circle clip-path=\"url(#clip982)\" style=\"fill:#009af9; stroke:none; fill-opacity:0\" cx=\"1260.39\" cy=\"1377.34\" r=\"2\"/>\n",
       "<circle clip-path=\"url(#clip982)\" style=\"fill:#009af9; stroke:none; fill-opacity:0\" cx=\"1316.22\" cy=\"1377.34\" r=\"2\"/>\n",
       "<polyline clip-path=\"url(#clip982)\" style=\"stroke:#ff0000; stroke-linecap:butt; stroke-linejoin:round; stroke-width:16; stroke-opacity:1; fill:none\" stroke-dasharray=\"8, 16\" points=\"\n",
       "  339.215,86.1857 343.985,108.181 348.756,129.804 353.527,151.06 358.297,171.956 380.353,264.055 402.409,349.156 424.464,427.792 446.52,500.454 468.576,567.596 \n",
       "  490.632,629.637 512.687,686.965 534.743,739.937 561.252,798.308 587.761,851.391 614.271,899.665 640.78,943.565 685.606,1008.94 730.432,1064.62 779.126,1115.78 \n",
       "  827.82,1158.75 872.712,1192.25 917.603,1220.77 1013.86,1268.45 1125.38,1306.58 1224.49,1329.79 1311.4,1344.36 1406.16,1355.84 1501.47,1364.05 1606.86,1370.4 \n",
       "  1707.13,1374.58 1811.39,1377.59 1899.15,1379.38 2006.3,1380.93 2107.03,1381.93 2268.4,1382.94 2293.23,1383.05 \n",
       "  \"/>\n",
       "<polyline clip-path=\"url(#clip982)\" style=\"stroke:#000000; stroke-linecap:butt; stroke-linejoin:round; stroke-width:16; stroke-opacity:1; fill:none\" stroke-dasharray=\"8, 16\" points=\"\n",
       "  339.215,1384.24 343.985,1349.4 348.756,1314.61 353.527,1279.91 358.297,1245.36 380.353,1088.83 402.409,940.857 413.437,871.377 424.464,805.526 435.492,743.719 \n",
       "  446.52,686.326 457.548,633.664 468.576,585.998 479.604,543.538 490.632,506.437 501.66,474.793 512.687,448.648 523.715,427.987 534.743,412.747 547.998,401.437 \n",
       "  561.252,397.503 574.507,400.573 587.761,410.201 601.016,425.878 614.271,447.045 627.525,473.105 640.78,503.437 663.193,562.677 685.606,629.284 708.019,700.356 \n",
       "  730.432,773.244 754.779,851.794 779.126,927.332 803.473,997.996 827.82,1062.5 850.266,1115.83 872.712,1163.02 895.158,1204.07 917.603,1239.22 941.668,1270.81 \n",
       "  965.732,1296.68 989.796,1317.54 1013.86,1334.08 1069.62,1359.59 1125.38,1372.92 1224.49,1381.84 1311.4,1383.72 1406.16,1384.16 1501.47,1384.23 1606.86,1384.24 \n",
       "  1707.13,1384.24 1811.39,1384.24 1899.15,1384.24 2006.3,1384.24 2107.03,1384.24 2268.4,1384.24 2293.23,1384.24 \n",
       "  \"/>\n",
       "</svg>\n"
      ]
     },
     "execution_count": 33,
     "metadata": {},
     "output_type": "execute_result"
    }
   ],
   "source": [
    "p3 = plot(xlab=L\"$s$\", ylab=L\"$P$\", legend=false)\n",
    "histogram!(p3, new_diffs2, bins=:auto, normed=true)\n",
    "plot!(p3, f, 0, 7, linestyle=:dot, linewidth=4, color=:red)\n",
    "plot!(p3, ff, 0, 7, linestyle=:dot, linewidth=4, color=:black)"
   ]
  },
  {
   "cell_type": "markdown",
   "id": "e33202f2",
   "metadata": {},
   "source": [
    "#### Case 3. $\\gamma=10$"
   ]
  },
  {
   "cell_type": "code",
   "execution_count": 34,
   "id": "eaf71cc5",
   "metadata": {},
   "outputs": [],
   "source": [
    "eigs3 = eigvals(Htot(γ=10.0, J=J, g=g, d=d, C6=C6, R=R));"
   ]
  },
  {
   "cell_type": "code",
   "execution_count": 35,
   "id": "940197be",
   "metadata": {},
   "outputs": [],
   "source": [
    "diffs3 = [eigs3[i+1]-eigs3[i] for i in 1:length(eigs3)-1];"
   ]
  },
  {
   "cell_type": "code",
   "execution_count": 36,
   "id": "5df4985a",
   "metadata": {},
   "outputs": [],
   "source": [
    "index13 = Int((v-1)/2)\n",
    "index23 = length(diffs3)-index13\n",
    "diffs3_dropped = diffs3[index13:index23];"
   ]
  },
  {
   "cell_type": "code",
   "execution_count": 37,
   "id": "589cbd50",
   "metadata": {},
   "outputs": [],
   "source": [
    "new_diffs3 = []\n",
    "for i in 1:length(diffs3_dropped)\n",
    "    drop_index = Int((v-1)/2)\n",
    "    if i-drop_index>0 && i+drop_index<=length(diffs3_dropped)\n",
    "        append!(new_diffs3, diffs3_dropped[i]/average_spacing(diffs3_dropped, i, v))\n",
    "    end\n",
    "end"
   ]
  },
  {
   "cell_type": "code",
   "execution_count": 38,
   "id": "5e345f5c",
   "metadata": {},
   "outputs": [
    {
     "data": {
      "image/svg+xml": [
       "<?xml version=\"1.0\" encoding=\"utf-8\"?>\n",
       "<svg xmlns=\"http://www.w3.org/2000/svg\" xmlns:xlink=\"http://www.w3.org/1999/xlink\" width=\"600\" height=\"400\" viewBox=\"0 0 2400 1600\">\n",
       "<defs>\n",
       "  <clipPath id=\"clip020\">\n",
       "    <rect x=\"0\" y=\"0\" width=\"2400\" height=\"1600\"/>\n",
       "  </clipPath>\n",
       "</defs>\n",
       "<path clip-path=\"url(#clip020)\" d=\"\n",
       "M0 1600 L2400 1600 L2400 0 L0 0  Z\n",
       "  \" fill=\"#ffffff\" fill-rule=\"evenodd\" fill-opacity=\"1\"/>\n",
       "<defs>\n",
       "  <clipPath id=\"clip021\">\n",
       "    <rect x=\"480\" y=\"0\" width=\"1681\" height=\"1600\"/>\n",
       "  </clipPath>\n",
       "</defs>\n",
       "<defs>\n",
       "  <clipPath id=\"clip022\">\n",
       "    <rect x=\"249\" y=\"47\" width=\"2104\" height=\"1377\"/>\n",
       "  </clipPath>\n",
       "</defs>\n",
       "<path clip-path=\"url(#clip020)\" d=\"\n",
       "M249.542 1423.18 L2352.76 1423.18 L2352.76 47.2441 L249.542 47.2441  Z\n",
       "  \" fill=\"#ffffff\" fill-rule=\"evenodd\" fill-opacity=\"1\"/>\n",
       "<polyline clip-path=\"url(#clip022)\" style=\"stroke:#000000; stroke-linecap:butt; stroke-linejoin:round; stroke-width:2; stroke-opacity:0.1; fill:none\" points=\"\n",
       "  342.508,1423.18 342.508,47.2441 \n",
       "  \"/>\n",
       "<polyline clip-path=\"url(#clip022)\" style=\"stroke:#000000; stroke-linecap:butt; stroke-linejoin:round; stroke-width:2; stroke-opacity:0.1; fill:none\" points=\"\n",
       "  899.857,1423.18 899.857,47.2441 \n",
       "  \"/>\n",
       "<polyline clip-path=\"url(#clip022)\" style=\"stroke:#000000; stroke-linecap:butt; stroke-linejoin:round; stroke-width:2; stroke-opacity:0.1; fill:none\" points=\"\n",
       "  1457.21,1423.18 1457.21,47.2441 \n",
       "  \"/>\n",
       "<polyline clip-path=\"url(#clip022)\" style=\"stroke:#000000; stroke-linecap:butt; stroke-linejoin:round; stroke-width:2; stroke-opacity:0.1; fill:none\" points=\"\n",
       "  2014.56,1423.18 2014.56,47.2441 \n",
       "  \"/>\n",
       "<polyline clip-path=\"url(#clip020)\" style=\"stroke:#000000; stroke-linecap:butt; stroke-linejoin:round; stroke-width:4; stroke-opacity:1; fill:none\" points=\"\n",
       "  249.542,1423.18 2352.76,1423.18 \n",
       "  \"/>\n",
       "<polyline clip-path=\"url(#clip020)\" style=\"stroke:#000000; stroke-linecap:butt; stroke-linejoin:round; stroke-width:4; stroke-opacity:1; fill:none\" points=\"\n",
       "  342.508,1423.18 342.508,1404.28 \n",
       "  \"/>\n",
       "<polyline clip-path=\"url(#clip020)\" style=\"stroke:#000000; stroke-linecap:butt; stroke-linejoin:round; stroke-width:4; stroke-opacity:1; fill:none\" points=\"\n",
       "  899.857,1423.18 899.857,1404.28 \n",
       "  \"/>\n",
       "<polyline clip-path=\"url(#clip020)\" style=\"stroke:#000000; stroke-linecap:butt; stroke-linejoin:round; stroke-width:4; stroke-opacity:1; fill:none\" points=\"\n",
       "  1457.21,1423.18 1457.21,1404.28 \n",
       "  \"/>\n",
       "<polyline clip-path=\"url(#clip020)\" style=\"stroke:#000000; stroke-linecap:butt; stroke-linejoin:round; stroke-width:4; stroke-opacity:1; fill:none\" points=\"\n",
       "  2014.56,1423.18 2014.56,1404.28 \n",
       "  \"/>\n",
       "<path clip-path=\"url(#clip020)\" d=\"M342.508 1454.1 Q338.897 1454.1 337.068 1457.66 Q335.263 1461.2 335.263 1468.33 Q335.263 1475.44 337.068 1479.01 Q338.897 1482.55 342.508 1482.55 Q346.142 1482.55 347.948 1479.01 Q349.776 1475.44 349.776 1468.33 Q349.776 1461.2 347.948 1457.66 Q346.142 1454.1 342.508 1454.1 M342.508 1450.39 Q348.318 1450.39 351.374 1455 Q354.452 1459.58 354.452 1468.33 Q354.452 1477.06 351.374 1481.67 Q348.318 1486.25 342.508 1486.25 Q336.698 1486.25 333.619 1481.67 Q330.564 1477.06 330.564 1468.33 Q330.564 1459.58 333.619 1455 Q336.698 1450.39 342.508 1450.39 Z\" fill=\"#000000\" fill-rule=\"evenodd\" fill-opacity=\"1\" /><path clip-path=\"url(#clip020)\" d=\"M894.51 1481.64 L910.83 1481.64 L910.83 1485.58 L888.885 1485.58 L888.885 1481.64 Q891.547 1478.89 896.131 1474.26 Q900.737 1469.61 901.918 1468.27 Q904.163 1465.74 905.043 1464.01 Q905.945 1462.25 905.945 1460.56 Q905.945 1457.8 904.001 1456.07 Q902.08 1454.33 898.978 1454.33 Q896.779 1454.33 894.325 1455.09 Q891.894 1455.86 889.117 1457.41 L889.117 1452.69 Q891.941 1451.55 894.394 1450.97 Q896.848 1450.39 898.885 1450.39 Q904.255 1450.39 907.45 1453.08 Q910.644 1455.77 910.644 1460.26 Q910.644 1462.39 909.834 1464.31 Q909.047 1466.2 906.941 1468.8 Q906.362 1469.47 903.26 1472.69 Q900.158 1475.88 894.51 1481.64 Z\" fill=\"#000000\" fill-rule=\"evenodd\" fill-opacity=\"1\" /><path clip-path=\"url(#clip020)\" d=\"M1460.22 1455.09 L1448.41 1473.54 L1460.22 1473.54 L1460.22 1455.09 M1458.99 1451.02 L1464.87 1451.02 L1464.87 1473.54 L1469.8 1473.54 L1469.8 1477.43 L1464.87 1477.43 L1464.87 1485.58 L1460.22 1485.58 L1460.22 1477.43 L1444.61 1477.43 L1444.61 1472.92 L1458.99 1451.02 Z\" fill=\"#000000\" fill-rule=\"evenodd\" fill-opacity=\"1\" /><path clip-path=\"url(#clip020)\" d=\"M2014.96 1466.44 Q2011.81 1466.44 2009.96 1468.59 Q2008.13 1470.74 2008.13 1474.49 Q2008.13 1478.22 2009.96 1480.39 Q2011.81 1482.55 2014.96 1482.55 Q2018.11 1482.55 2019.94 1480.39 Q2021.79 1478.22 2021.79 1474.49 Q2021.79 1470.74 2019.94 1468.59 Q2018.11 1466.44 2014.96 1466.44 M2024.24 1451.78 L2024.24 1456.04 Q2022.48 1455.21 2020.68 1454.77 Q2018.9 1454.33 2017.14 1454.33 Q2012.51 1454.33 2010.05 1457.45 Q2007.62 1460.58 2007.28 1466.9 Q2008.64 1464.89 2010.7 1463.82 Q2012.76 1462.73 2015.24 1462.73 Q2020.45 1462.73 2023.46 1465.9 Q2026.49 1469.05 2026.49 1474.49 Q2026.49 1479.82 2023.34 1483.03 Q2020.19 1486.25 2014.96 1486.25 Q2008.97 1486.25 2005.79 1481.67 Q2002.62 1477.06 2002.62 1468.33 Q2002.62 1460.14 2006.51 1455.28 Q2010.4 1450.39 2016.95 1450.39 Q2018.71 1450.39 2020.49 1450.74 Q2022.3 1451.09 2024.24 1451.78 Z\" fill=\"#000000\" fill-rule=\"evenodd\" fill-opacity=\"1\" /><path clip-path=\"url(#clip020)\" d=\"M1310.12 1546.76 Q1310.12 1548.56 1309.22 1549.53 Q1308.32 1550.46 1307.09 1550.46 Q1306.1 1550.46 1305.55 1549.88 Q1305.03 1549.3 1305.03 1548.53 Q1305.03 1547.4 1305.93 1546.5 Q1306.87 1545.6 1308.22 1545.56 Q1307.77 1544.37 1306.58 1543.66 Q1305.39 1542.92 1304.32 1542.73 Q1303.29 1542.54 1302.26 1542.54 Q1300.23 1542.54 1298.69 1543.18 Q1297.14 1543.83 1296.37 1544.82 Q1295.6 1545.79 1295.24 1546.72 Q1294.89 1547.66 1294.89 1548.46 Q1294.89 1549.17 1295.05 1549.75 Q1295.24 1550.3 1295.69 1550.72 Q1296.14 1551.1 1296.47 1551.36 Q1296.82 1551.62 1297.59 1551.84 Q1298.37 1552.07 1298.69 1552.17 Q1299.01 1552.23 1299.91 1552.42 Q1301.78 1552.81 1302.62 1553.04 Q1303.45 1553.23 1304.55 1553.78 Q1305.68 1554.32 1306.51 1555.19 Q1308.54 1557.22 1308.54 1560.02 Q1308.54 1561.06 1308.19 1562.31 Q1307.87 1563.57 1306.93 1565.15 Q1306 1566.72 1304.58 1567.98 Q1303.16 1569.24 1300.72 1570.11 Q1298.3 1570.97 1295.27 1570.97 Q1291.06 1570.97 1288.45 1569.2 Q1285.84 1567.4 1285.84 1564.57 Q1285.84 1562.5 1286.96 1561.38 Q1288.09 1560.22 1289.54 1560.22 Q1290.64 1560.22 1291.31 1560.83 Q1291.99 1561.41 1291.99 1562.5 Q1291.99 1563.99 1290.8 1565.11 Q1289.61 1566.24 1287.83 1566.02 Q1289.35 1569.49 1295.34 1569.49 Q1297.59 1569.49 1299.33 1568.91 Q1301.1 1568.3 1302.07 1567.46 Q1303.07 1566.59 1303.71 1565.53 Q1304.36 1564.47 1304.55 1563.66 Q1304.77 1562.86 1304.77 1562.25 Q1304.77 1561.18 1304.36 1560.38 Q1303.94 1559.57 1303.36 1559.12 Q1302.81 1558.64 1301.75 1558.25 Q1300.72 1557.83 1299.98 1557.67 Q1299.24 1557.51 1297.91 1557.26 Q1297.3 1557.13 1296.92 1557.06 Q1296.53 1556.97 1295.72 1556.71 Q1294.95 1556.42 1294.4 1556.13 Q1293.89 1555.84 1293.21 1555.32 Q1292.54 1554.81 1292.12 1554.2 Q1291.7 1553.58 1291.41 1552.68 Q1291.12 1551.78 1291.12 1550.72 Q1291.12 1549.75 1291.41 1548.59 Q1291.73 1547.43 1292.54 1546.08 Q1293.37 1544.73 1294.57 1543.63 Q1295.76 1542.54 1297.75 1541.83 Q1299.78 1541.09 1302.26 1541.09 Q1305.87 1541.09 1308 1542.76 Q1310.12 1544.41 1310.12 1546.76 Z\" fill=\"#000000\" fill-rule=\"evenodd\" fill-opacity=\"1\" /><polyline clip-path=\"url(#clip022)\" style=\"stroke:#000000; stroke-linecap:butt; stroke-linejoin:round; stroke-width:2; stroke-opacity:0.1; fill:none\" points=\"\n",
       "  249.542,1384.24 2352.76,1384.24 \n",
       "  \"/>\n",
       "<polyline clip-path=\"url(#clip022)\" style=\"stroke:#000000; stroke-linecap:butt; stroke-linejoin:round; stroke-width:2; stroke-opacity:0.1; fill:none\" points=\"\n",
       "  249.542,1059.73 2352.76,1059.73 \n",
       "  \"/>\n",
       "<polyline clip-path=\"url(#clip022)\" style=\"stroke:#000000; stroke-linecap:butt; stroke-linejoin:round; stroke-width:2; stroke-opacity:0.1; fill:none\" points=\"\n",
       "  249.542,735.212 2352.76,735.212 \n",
       "  \"/>\n",
       "<polyline clip-path=\"url(#clip022)\" style=\"stroke:#000000; stroke-linecap:butt; stroke-linejoin:round; stroke-width:2; stroke-opacity:0.1; fill:none\" points=\"\n",
       "  249.542,410.699 2352.76,410.699 \n",
       "  \"/>\n",
       "<polyline clip-path=\"url(#clip022)\" style=\"stroke:#000000; stroke-linecap:butt; stroke-linejoin:round; stroke-width:2; stroke-opacity:0.1; fill:none\" points=\"\n",
       "  249.542,86.1857 2352.76,86.1857 \n",
       "  \"/>\n",
       "<polyline clip-path=\"url(#clip020)\" style=\"stroke:#000000; stroke-linecap:butt; stroke-linejoin:round; stroke-width:4; stroke-opacity:1; fill:none\" points=\"\n",
       "  249.542,1423.18 249.542,47.2441 \n",
       "  \"/>\n",
       "<polyline clip-path=\"url(#clip020)\" style=\"stroke:#000000; stroke-linecap:butt; stroke-linejoin:round; stroke-width:4; stroke-opacity:1; fill:none\" points=\"\n",
       "  249.542,1384.24 268.44,1384.24 \n",
       "  \"/>\n",
       "<polyline clip-path=\"url(#clip020)\" style=\"stroke:#000000; stroke-linecap:butt; stroke-linejoin:round; stroke-width:4; stroke-opacity:1; fill:none\" points=\"\n",
       "  249.542,1059.73 268.44,1059.73 \n",
       "  \"/>\n",
       "<polyline clip-path=\"url(#clip020)\" style=\"stroke:#000000; stroke-linecap:butt; stroke-linejoin:round; stroke-width:4; stroke-opacity:1; fill:none\" points=\"\n",
       "  249.542,735.212 268.44,735.212 \n",
       "  \"/>\n",
       "<polyline clip-path=\"url(#clip020)\" style=\"stroke:#000000; stroke-linecap:butt; stroke-linejoin:round; stroke-width:4; stroke-opacity:1; fill:none\" points=\"\n",
       "  249.542,410.699 268.44,410.699 \n",
       "  \"/>\n",
       "<polyline clip-path=\"url(#clip020)\" style=\"stroke:#000000; stroke-linecap:butt; stroke-linejoin:round; stroke-width:4; stroke-opacity:1; fill:none\" points=\"\n",
       "  249.542,86.1857 268.44,86.1857 \n",
       "  \"/>\n",
       "<path clip-path=\"url(#clip020)\" d=\"M126.205 1370.04 Q122.593 1370.04 120.765 1373.6 Q118.959 1377.14 118.959 1384.27 Q118.959 1391.38 120.765 1394.94 Q122.593 1398.49 126.205 1398.49 Q129.839 1398.49 131.644 1394.94 Q133.473 1391.38 133.473 1384.27 Q133.473 1377.14 131.644 1373.6 Q129.839 1370.04 126.205 1370.04 M126.205 1366.33 Q132.015 1366.33 135.07 1370.94 Q138.149 1375.52 138.149 1384.27 Q138.149 1393 135.07 1397.61 Q132.015 1402.19 126.205 1402.19 Q120.394 1402.19 117.316 1397.61 Q114.26 1393 114.26 1384.27 Q114.26 1375.52 117.316 1370.94 Q120.394 1366.33 126.205 1366.33 Z\" fill=\"#000000\" fill-rule=\"evenodd\" fill-opacity=\"1\" /><path clip-path=\"url(#clip020)\" d=\"M146.366 1395.64 L151.251 1395.64 L151.251 1401.52 L146.366 1401.52 L146.366 1395.64 Z\" fill=\"#000000\" fill-rule=\"evenodd\" fill-opacity=\"1\" /><path clip-path=\"url(#clip020)\" d=\"M171.436 1370.04 Q167.825 1370.04 165.996 1373.6 Q164.19 1377.14 164.19 1384.27 Q164.19 1391.38 165.996 1394.94 Q167.825 1398.49 171.436 1398.49 Q175.07 1398.49 176.876 1394.94 Q178.704 1391.38 178.704 1384.27 Q178.704 1377.14 176.876 1373.6 Q175.07 1370.04 171.436 1370.04 M171.436 1366.33 Q177.246 1366.33 180.301 1370.94 Q183.38 1375.52 183.38 1384.27 Q183.38 1393 180.301 1397.61 Q177.246 1402.19 171.436 1402.19 Q165.626 1402.19 162.547 1397.61 Q159.491 1393 159.491 1384.27 Q159.491 1375.52 162.547 1370.94 Q165.626 1366.33 171.436 1366.33 Z\" fill=\"#000000\" fill-rule=\"evenodd\" fill-opacity=\"1\" /><path clip-path=\"url(#clip020)\" d=\"M201.598 1370.04 Q197.987 1370.04 196.158 1373.6 Q194.352 1377.14 194.352 1384.27 Q194.352 1391.38 196.158 1394.94 Q197.987 1398.49 201.598 1398.49 Q205.232 1398.49 207.037 1394.94 Q208.866 1391.38 208.866 1384.27 Q208.866 1377.14 207.037 1373.6 Q205.232 1370.04 201.598 1370.04 M201.598 1366.33 Q207.408 1366.33 210.463 1370.94 Q213.542 1375.52 213.542 1384.27 Q213.542 1393 210.463 1397.61 Q207.408 1402.19 201.598 1402.19 Q195.787 1402.19 192.709 1397.61 Q189.653 1393 189.653 1384.27 Q189.653 1375.52 192.709 1370.94 Q195.787 1366.33 201.598 1366.33 Z\" fill=\"#000000\" fill-rule=\"evenodd\" fill-opacity=\"1\" /><path clip-path=\"url(#clip020)\" d=\"M127.2 1045.52 Q123.589 1045.52 121.76 1049.09 Q119.955 1052.63 119.955 1059.76 Q119.955 1066.87 121.76 1070.43 Q123.589 1073.97 127.2 1073.97 Q130.834 1073.97 132.64 1070.43 Q134.468 1066.87 134.468 1059.76 Q134.468 1052.63 132.64 1049.09 Q130.834 1045.52 127.2 1045.52 M127.2 1041.82 Q133.01 1041.82 136.066 1046.43 Q139.144 1051.01 139.144 1059.76 Q139.144 1068.49 136.066 1073.09 Q133.01 1077.68 127.2 1077.68 Q121.39 1077.68 118.311 1073.09 Q115.256 1068.49 115.256 1059.76 Q115.256 1051.01 118.311 1046.43 Q121.39 1041.82 127.2 1041.82 Z\" fill=\"#000000\" fill-rule=\"evenodd\" fill-opacity=\"1\" /><path clip-path=\"url(#clip020)\" d=\"M147.362 1071.13 L152.246 1071.13 L152.246 1077.01 L147.362 1077.01 L147.362 1071.13 Z\" fill=\"#000000\" fill-rule=\"evenodd\" fill-opacity=\"1\" /><path clip-path=\"url(#clip020)\" d=\"M166.459 1073.07 L182.778 1073.07 L182.778 1077.01 L160.834 1077.01 L160.834 1073.07 Q163.496 1070.32 168.079 1065.69 Q172.686 1061.03 173.866 1059.69 Q176.112 1057.17 176.991 1055.43 Q177.894 1053.67 177.894 1051.98 Q177.894 1049.23 175.95 1047.49 Q174.028 1045.76 170.927 1045.76 Q168.727 1045.76 166.274 1046.52 Q163.843 1047.28 161.065 1048.83 L161.065 1044.11 Q163.89 1042.98 166.343 1042.4 Q168.797 1041.82 170.834 1041.82 Q176.204 1041.82 179.399 1044.51 Q182.593 1047.19 182.593 1051.68 Q182.593 1053.81 181.783 1055.73 Q180.996 1057.63 178.889 1060.22 Q178.311 1060.89 175.209 1064.11 Q172.107 1067.31 166.459 1073.07 Z\" fill=\"#000000\" fill-rule=\"evenodd\" fill-opacity=\"1\" /><path clip-path=\"url(#clip020)\" d=\"M192.639 1042.45 L210.996 1042.45 L210.996 1046.38 L196.922 1046.38 L196.922 1054.85 Q197.94 1054.51 198.959 1054.34 Q199.977 1054.16 200.996 1054.16 Q206.783 1054.16 210.162 1057.33 Q213.542 1060.5 213.542 1065.92 Q213.542 1071.5 210.07 1074.6 Q206.598 1077.68 200.278 1077.68 Q198.102 1077.68 195.834 1077.31 Q193.588 1076.94 191.181 1076.19 L191.181 1071.5 Q193.264 1072.63 195.487 1073.19 Q197.709 1073.74 200.186 1073.74 Q204.19 1073.74 206.528 1071.63 Q208.866 1069.53 208.866 1065.92 Q208.866 1062.31 206.528 1060.2 Q204.19 1058.09 200.186 1058.09 Q198.311 1058.09 196.436 1058.51 Q194.584 1058.93 192.639 1059.81 L192.639 1042.45 Z\" fill=\"#000000\" fill-rule=\"evenodd\" fill-opacity=\"1\" /><path clip-path=\"url(#clip020)\" d=\"M126.205 721.011 Q122.593 721.011 120.765 724.575 Q118.959 728.117 118.959 735.247 Q118.959 742.353 120.765 745.918 Q122.593 749.46 126.205 749.46 Q129.839 749.46 131.644 745.918 Q133.473 742.353 133.473 735.247 Q133.473 728.117 131.644 724.575 Q129.839 721.011 126.205 721.011 M126.205 717.307 Q132.015 717.307 135.07 721.913 Q138.149 726.497 138.149 735.247 Q138.149 743.973 135.07 748.58 Q132.015 753.163 126.205 753.163 Q120.394 753.163 117.316 748.58 Q114.26 743.973 114.26 735.247 Q114.26 726.497 117.316 721.913 Q120.394 717.307 126.205 717.307 Z\" fill=\"#000000\" fill-rule=\"evenodd\" fill-opacity=\"1\" /><path clip-path=\"url(#clip020)\" d=\"M146.366 746.612 L151.251 746.612 L151.251 752.492 L146.366 752.492 L146.366 746.612 Z\" fill=\"#000000\" fill-rule=\"evenodd\" fill-opacity=\"1\" /><path clip-path=\"url(#clip020)\" d=\"M161.482 717.932 L179.839 717.932 L179.839 721.867 L165.765 721.867 L165.765 730.339 Q166.783 729.992 167.802 729.83 Q168.82 729.645 169.839 729.645 Q175.626 729.645 179.005 732.816 Q182.385 735.987 182.385 741.404 Q182.385 746.983 178.913 750.085 Q175.44 753.163 169.121 753.163 Q166.945 753.163 164.677 752.793 Q162.431 752.423 160.024 751.682 L160.024 746.983 Q162.107 748.117 164.329 748.673 Q166.552 749.228 169.028 749.228 Q173.033 749.228 175.371 747.122 Q177.709 745.015 177.709 741.404 Q177.709 737.793 175.371 735.687 Q173.033 733.58 169.028 733.58 Q167.153 733.58 165.278 733.997 Q163.427 734.413 161.482 735.293 L161.482 717.932 Z\" fill=\"#000000\" fill-rule=\"evenodd\" fill-opacity=\"1\" /><path clip-path=\"url(#clip020)\" d=\"M201.598 721.011 Q197.987 721.011 196.158 724.575 Q194.352 728.117 194.352 735.247 Q194.352 742.353 196.158 745.918 Q197.987 749.46 201.598 749.46 Q205.232 749.46 207.037 745.918 Q208.866 742.353 208.866 735.247 Q208.866 728.117 207.037 724.575 Q205.232 721.011 201.598 721.011 M201.598 717.307 Q207.408 717.307 210.463 721.913 Q213.542 726.497 213.542 735.247 Q213.542 743.973 210.463 748.58 Q207.408 753.163 201.598 753.163 Q195.787 753.163 192.709 748.58 Q189.653 743.973 189.653 735.247 Q189.653 726.497 192.709 721.913 Q195.787 717.307 201.598 717.307 Z\" fill=\"#000000\" fill-rule=\"evenodd\" fill-opacity=\"1\" /><path clip-path=\"url(#clip020)\" d=\"M127.2 396.498 Q123.589 396.498 121.76 400.062 Q119.955 403.604 119.955 410.734 Q119.955 417.84 121.76 421.405 Q123.589 424.946 127.2 424.946 Q130.834 424.946 132.64 421.405 Q134.468 417.84 134.468 410.734 Q134.468 403.604 132.64 400.062 Q130.834 396.498 127.2 396.498 M127.2 392.794 Q133.01 392.794 136.066 397.4 Q139.144 401.984 139.144 410.734 Q139.144 419.46 136.066 424.067 Q133.01 428.65 127.2 428.65 Q121.39 428.65 118.311 424.067 Q115.256 419.46 115.256 410.734 Q115.256 401.984 118.311 397.4 Q121.39 392.794 127.2 392.794 Z\" fill=\"#000000\" fill-rule=\"evenodd\" fill-opacity=\"1\" /><path clip-path=\"url(#clip020)\" d=\"M147.362 422.099 L152.246 422.099 L152.246 427.979 L147.362 427.979 L147.362 422.099 Z\" fill=\"#000000\" fill-rule=\"evenodd\" fill-opacity=\"1\" /><path clip-path=\"url(#clip020)\" d=\"M161.251 393.419 L183.473 393.419 L183.473 395.41 L170.927 427.979 L166.042 427.979 L177.848 397.354 L161.251 397.354 L161.251 393.419 Z\" fill=\"#000000\" fill-rule=\"evenodd\" fill-opacity=\"1\" /><path clip-path=\"url(#clip020)\" d=\"M192.639 393.419 L210.996 393.419 L210.996 397.354 L196.922 397.354 L196.922 405.826 Q197.94 405.479 198.959 405.317 Q199.977 405.132 200.996 405.132 Q206.783 405.132 210.162 408.303 Q213.542 411.474 213.542 416.891 Q213.542 422.47 210.07 425.571 Q206.598 428.65 200.278 428.65 Q198.102 428.65 195.834 428.28 Q193.588 427.909 191.181 427.169 L191.181 422.47 Q193.264 423.604 195.487 424.159 Q197.709 424.715 200.186 424.715 Q204.19 424.715 206.528 422.608 Q208.866 420.502 208.866 416.891 Q208.866 413.28 206.528 411.173 Q204.19 409.067 200.186 409.067 Q198.311 409.067 196.436 409.484 Q194.584 409.9 192.639 410.78 L192.639 393.419 Z\" fill=\"#000000\" fill-rule=\"evenodd\" fill-opacity=\"1\" /><path clip-path=\"url(#clip020)\" d=\"M117.015 99.5305 L124.654 99.5305 L124.654 73.1649 L116.343 74.8316 L116.343 70.5723 L124.607 68.9057 L129.283 68.9057 L129.283 99.5305 L136.922 99.5305 L136.922 103.466 L117.015 103.466 L117.015 99.5305 Z\" fill=\"#000000\" fill-rule=\"evenodd\" fill-opacity=\"1\" /><path clip-path=\"url(#clip020)\" d=\"M146.366 97.5861 L151.251 97.5861 L151.251 103.466 L146.366 103.466 L146.366 97.5861 Z\" fill=\"#000000\" fill-rule=\"evenodd\" fill-opacity=\"1\" /><path clip-path=\"url(#clip020)\" d=\"M171.436 71.9844 Q167.825 71.9844 165.996 75.5492 Q164.19 79.0908 164.19 86.2204 Q164.19 93.3268 165.996 96.8916 Q167.825 100.433 171.436 100.433 Q175.07 100.433 176.876 96.8916 Q178.704 93.3268 178.704 86.2204 Q178.704 79.0908 176.876 75.5492 Q175.07 71.9844 171.436 71.9844 M171.436 68.2807 Q177.246 68.2807 180.301 72.8871 Q183.38 77.4704 183.38 86.2204 Q183.38 94.9472 180.301 99.5537 Q177.246 104.137 171.436 104.137 Q165.626 104.137 162.547 99.5537 Q159.491 94.9472 159.491 86.2204 Q159.491 77.4704 162.547 72.8871 Q165.626 68.2807 171.436 68.2807 Z\" fill=\"#000000\" fill-rule=\"evenodd\" fill-opacity=\"1\" /><path clip-path=\"url(#clip020)\" d=\"M201.598 71.9844 Q197.987 71.9844 196.158 75.5492 Q194.352 79.0908 194.352 86.2204 Q194.352 93.3268 196.158 96.8916 Q197.987 100.433 201.598 100.433 Q205.232 100.433 207.037 96.8916 Q208.866 93.3268 208.866 86.2204 Q208.866 79.0908 207.037 75.5492 Q205.232 71.9844 201.598 71.9844 M201.598 68.2807 Q207.408 68.2807 210.463 72.8871 Q213.542 77.4704 213.542 86.2204 Q213.542 94.9472 210.463 99.5537 Q207.408 104.137 201.598 104.137 Q195.787 104.137 192.709 99.5537 Q189.653 94.9472 189.653 86.2204 Q189.653 77.4704 192.709 72.8871 Q195.787 68.2807 201.598 68.2807 Z\" fill=\"#000000\" fill-rule=\"evenodd\" fill-opacity=\"1\" /><path clip-path=\"url(#clip020)\" d=\"M39.3323 709.084 Q42.9393 709.084 46.2565 711.757 Q49.5737 714.398 51.6027 718.714 Q53.5995 722.997 53.5995 727.603 L53.5995 738.81 L70.0889 742.9 Q70.1855 742.933 70.6042 743.029 Q70.9906 743.126 71.2161 743.126 Q72.0212 743.126 72.2145 742.128 Q72.4077 741.097 72.4077 738.81 Q72.4077 737.329 72.6653 737.103 Q72.8264 736.975 73.1162 736.975 Q73.5671 736.975 73.8892 737.103 Q74.179 737.232 74.2756 737.49 Q74.3722 737.715 74.4045 737.876 Q74.4367 738.037 74.4367 738.295 Q74.4367 738.971 74.3722 740.421 Q74.3078 741.838 74.3078 742.578 L74.2434 746.797 L74.4367 755.171 Q74.4367 756.169 73.6315 756.169 Q73.0196 756.169 72.762 755.912 Q72.4721 755.654 72.4399 755.364 Q72.4077 755.074 72.4077 754.334 Q72.4077 752.723 72.3111 751.757 Q72.2145 750.791 72.0856 750.179 Q71.9246 749.535 71.4737 749.213 Q71.0228 748.859 70.6364 748.698 Q70.2177 748.536 69.2837 748.311 L33.8573 739.487 Q32.7945 739.229 32.6334 739.229 Q32.0859 739.229 31.8927 739.551 Q31.6673 739.841 31.5707 740.678 Q31.4418 742.289 31.4418 743.512 Q31.4418 744.318 31.4096 744.64 Q31.3774 744.929 31.2164 745.187 Q31.0232 745.413 30.6367 745.413 Q30.0248 745.413 29.7671 745.155 Q29.4773 744.865 29.4451 744.543 Q29.3807 744.221 29.3807 743.448 L29.3807 722.063 Q29.3807 715.912 32.3114 712.498 Q35.2421 709.084 39.3323 709.084 M37.7542 715.203 Q31.4418 715.203 31.4418 724.189 L31.4418 730.501 Q31.4418 732.595 31.8283 733.11 Q32.1826 733.625 33.9539 734.076 L51.8926 738.553 L51.8926 729.245 Q51.8926 722.997 48.3821 719.1 Q46.7718 717.329 43.4224 716.266 Q40.073 715.203 37.7542 715.203 Z\" fill=\"#000000\" fill-rule=\"evenodd\" fill-opacity=\"1\" /><path clip-path=\"url(#clip022)\" d=\"\n",
       "M342.508 439.824 L342.508 1384.24 L398.243 1384.24 L398.243 439.824 L342.508 439.824 L342.508 439.824  Z\n",
       "  \" fill=\"#009af9\" fill-rule=\"evenodd\" fill-opacity=\"1\"/>\n",
       "<polyline clip-path=\"url(#clip022)\" style=\"stroke:#000000; stroke-linecap:butt; stroke-linejoin:round; stroke-width:4; stroke-opacity:1; fill:none\" points=\"\n",
       "  342.508,439.824 342.508,1384.24 398.243,1384.24 398.243,439.824 342.508,439.824 \n",
       "  \"/>\n",
       "<path clip-path=\"url(#clip022)\" d=\"\n",
       "M398.243 515.653 L398.243 1384.24 L453.978 1384.24 L453.978 515.653 L398.243 515.653 L398.243 515.653  Z\n",
       "  \" fill=\"#009af9\" fill-rule=\"evenodd\" fill-opacity=\"1\"/>\n",
       "<polyline clip-path=\"url(#clip022)\" style=\"stroke:#000000; stroke-linecap:butt; stroke-linejoin:round; stroke-width:4; stroke-opacity:1; fill:none\" points=\"\n",
       "  398.243,515.653 398.243,1384.24 453.978,1384.24 453.978,515.653 398.243,515.653 \n",
       "  \"/>\n",
       "<path clip-path=\"url(#clip022)\" d=\"\n",
       "M453.978 588.035 L453.978 1384.24 L509.713 1384.24 L509.713 588.035 L453.978 588.035 L453.978 588.035  Z\n",
       "  \" fill=\"#009af9\" fill-rule=\"evenodd\" fill-opacity=\"1\"/>\n",
       "<polyline clip-path=\"url(#clip022)\" style=\"stroke:#000000; stroke-linecap:butt; stroke-linejoin:round; stroke-width:4; stroke-opacity:1; fill:none\" points=\"\n",
       "  453.978,588.035 453.978,1384.24 509.713,1384.24 509.713,588.035 453.978,588.035 \n",
       "  \"/>\n",
       "<path clip-path=\"url(#clip022)\" d=\"\n",
       "M509.713 708.672 L509.713 1384.24 L565.448 1384.24 L565.448 708.672 L509.713 708.672 L509.713 708.672  Z\n",
       "  \" fill=\"#009af9\" fill-rule=\"evenodd\" fill-opacity=\"1\"/>\n",
       "<polyline clip-path=\"url(#clip022)\" style=\"stroke:#000000; stroke-linecap:butt; stroke-linejoin:round; stroke-width:4; stroke-opacity:1; fill:none\" points=\"\n",
       "  509.713,708.672 509.713,1384.24 565.448,1384.24 565.448,708.672 509.713,708.672 \n",
       "  \"/>\n",
       "<path clip-path=\"url(#clip022)\" d=\"\n",
       "M565.448 818.968 L565.448 1384.24 L621.183 1384.24 L621.183 818.968 L565.448 818.968 L565.448 818.968  Z\n",
       "  \" fill=\"#009af9\" fill-rule=\"evenodd\" fill-opacity=\"1\"/>\n",
       "<polyline clip-path=\"url(#clip022)\" style=\"stroke:#000000; stroke-linecap:butt; stroke-linejoin:round; stroke-width:4; stroke-opacity:1; fill:none\" points=\"\n",
       "  565.448,818.968 565.448,1384.24 621.183,1384.24 621.183,818.968 565.448,818.968 \n",
       "  \"/>\n",
       "<path clip-path=\"url(#clip022)\" d=\"\n",
       "M621.183 936.159 L621.183 1384.24 L676.918 1384.24 L676.918 936.159 L621.183 936.159 L621.183 936.159  Z\n",
       "  \" fill=\"#009af9\" fill-rule=\"evenodd\" fill-opacity=\"1\"/>\n",
       "<polyline clip-path=\"url(#clip022)\" style=\"stroke:#000000; stroke-linecap:butt; stroke-linejoin:round; stroke-width:4; stroke-opacity:1; fill:none\" points=\"\n",
       "  621.183,936.159 621.183,1384.24 676.918,1384.24 676.918,936.159 621.183,936.159 \n",
       "  \"/>\n",
       "<path clip-path=\"url(#clip022)\" d=\"\n",
       "M676.918 974.073 L676.918 1384.24 L732.653 1384.24 L732.653 974.073 L676.918 974.073 L676.918 974.073  Z\n",
       "  \" fill=\"#009af9\" fill-rule=\"evenodd\" fill-opacity=\"1\"/>\n",
       "<polyline clip-path=\"url(#clip022)\" style=\"stroke:#000000; stroke-linecap:butt; stroke-linejoin:round; stroke-width:4; stroke-opacity:1; fill:none\" points=\"\n",
       "  676.918,974.073 676.918,1384.24 732.653,1384.24 732.653,974.073 676.918,974.073 \n",
       "  \"/>\n",
       "<path clip-path=\"url(#clip022)\" d=\"\n",
       "M732.653 1039.56 L732.653 1384.24 L788.387 1384.24 L788.387 1039.56 L732.653 1039.56 L732.653 1039.56  Z\n",
       "  \" fill=\"#009af9\" fill-rule=\"evenodd\" fill-opacity=\"1\"/>\n",
       "<polyline clip-path=\"url(#clip022)\" style=\"stroke:#000000; stroke-linecap:butt; stroke-linejoin:round; stroke-width:4; stroke-opacity:1; fill:none\" points=\"\n",
       "  732.653,1039.56 732.653,1384.24 788.387,1384.24 788.387,1039.56 732.653,1039.56 \n",
       "  \"/>\n",
       "<path clip-path=\"url(#clip022)\" d=\"\n",
       "M788.387 1129.18 L788.387 1384.24 L844.122 1384.24 L844.122 1129.18 L788.387 1129.18 L788.387 1129.18  Z\n",
       "  \" fill=\"#009af9\" fill-rule=\"evenodd\" fill-opacity=\"1\"/>\n",
       "<polyline clip-path=\"url(#clip022)\" style=\"stroke:#000000; stroke-linecap:butt; stroke-linejoin:round; stroke-width:4; stroke-opacity:1; fill:none\" points=\"\n",
       "  788.387,1129.18 788.387,1384.24 844.122,1384.24 844.122,1129.18 788.387,1129.18 \n",
       "  \"/>\n",
       "<path clip-path=\"url(#clip022)\" d=\"\n",
       "M844.122 1084.37 L844.122 1384.24 L899.857 1384.24 L899.857 1084.37 L844.122 1084.37 L844.122 1084.37  Z\n",
       "  \" fill=\"#009af9\" fill-rule=\"evenodd\" fill-opacity=\"1\"/>\n",
       "<polyline clip-path=\"url(#clip022)\" style=\"stroke:#000000; stroke-linecap:butt; stroke-linejoin:round; stroke-width:4; stroke-opacity:1; fill:none\" points=\"\n",
       "  844.122,1084.37 844.122,1384.24 899.857,1384.24 899.857,1084.37 844.122,1084.37 \n",
       "  \"/>\n",
       "<path clip-path=\"url(#clip022)\" d=\"\n",
       "M899.857 1215.35 L899.857 1384.24 L955.592 1384.24 L955.592 1215.35 L899.857 1215.35 L899.857 1215.35  Z\n",
       "  \" fill=\"#009af9\" fill-rule=\"evenodd\" fill-opacity=\"1\"/>\n",
       "<polyline clip-path=\"url(#clip022)\" style=\"stroke:#000000; stroke-linecap:butt; stroke-linejoin:round; stroke-width:4; stroke-opacity:1; fill:none\" points=\"\n",
       "  899.857,1215.35 899.857,1384.24 955.592,1384.24 955.592,1215.35 899.857,1215.35 \n",
       "  \"/>\n",
       "<path clip-path=\"url(#clip022)\" d=\"\n",
       "M955.592 1184.33 L955.592 1384.24 L1011.33 1384.24 L1011.33 1184.33 L955.592 1184.33 L955.592 1184.33  Z\n",
       "  \" fill=\"#009af9\" fill-rule=\"evenodd\" fill-opacity=\"1\"/>\n",
       "<polyline clip-path=\"url(#clip022)\" style=\"stroke:#000000; stroke-linecap:butt; stroke-linejoin:round; stroke-width:4; stroke-opacity:1; fill:none\" points=\"\n",
       "  955.592,1184.33 955.592,1384.24 1011.33,1384.24 1011.33,1184.33 955.592,1184.33 \n",
       "  \"/>\n",
       "<path clip-path=\"url(#clip022)\" d=\"\n",
       "M1011.33 1298.07 L1011.33 1384.24 L1067.06 1384.24 L1067.06 1298.07 L1011.33 1298.07 L1011.33 1298.07  Z\n",
       "  \" fill=\"#009af9\" fill-rule=\"evenodd\" fill-opacity=\"1\"/>\n",
       "<polyline clip-path=\"url(#clip022)\" style=\"stroke:#000000; stroke-linecap:butt; stroke-linejoin:round; stroke-width:4; stroke-opacity:1; fill:none\" points=\"\n",
       "  1011.33,1298.07 1011.33,1384.24 1067.06,1384.24 1067.06,1298.07 1011.33,1298.07 \n",
       "  \"/>\n",
       "<path clip-path=\"url(#clip022)\" d=\"\n",
       "M1067.06 1284.28 L1067.06 1384.24 L1122.8 1384.24 L1122.8 1284.28 L1067.06 1284.28 L1067.06 1284.28  Z\n",
       "  \" fill=\"#009af9\" fill-rule=\"evenodd\" fill-opacity=\"1\"/>\n",
       "<polyline clip-path=\"url(#clip022)\" style=\"stroke:#000000; stroke-linecap:butt; stroke-linejoin:round; stroke-width:4; stroke-opacity:1; fill:none\" points=\"\n",
       "  1067.06,1284.28 1067.06,1384.24 1122.8,1384.24 1122.8,1284.28 1067.06,1284.28 \n",
       "  \"/>\n",
       "<path clip-path=\"url(#clip022)\" d=\"\n",
       "M1122.8 1311.86 L1122.8 1384.24 L1178.53 1384.24 L1178.53 1311.86 L1122.8 1311.86 L1122.8 1311.86  Z\n",
       "  \" fill=\"#009af9\" fill-rule=\"evenodd\" fill-opacity=\"1\"/>\n",
       "<polyline clip-path=\"url(#clip022)\" style=\"stroke:#000000; stroke-linecap:butt; stroke-linejoin:round; stroke-width:4; stroke-opacity:1; fill:none\" points=\"\n",
       "  1122.8,1311.86 1122.8,1384.24 1178.53,1384.24 1178.53,1311.86 1122.8,1311.86 \n",
       "  \"/>\n",
       "<path clip-path=\"url(#clip022)\" d=\"\n",
       "M1178.53 1263.6 L1178.53 1384.24 L1234.27 1384.24 L1234.27 1263.6 L1178.53 1263.6 L1178.53 1263.6  Z\n",
       "  \" fill=\"#009af9\" fill-rule=\"evenodd\" fill-opacity=\"1\"/>\n",
       "<polyline clip-path=\"url(#clip022)\" style=\"stroke:#000000; stroke-linecap:butt; stroke-linejoin:round; stroke-width:4; stroke-opacity:1; fill:none\" points=\"\n",
       "  1178.53,1263.6 1178.53,1384.24 1234.27,1384.24 1234.27,1263.6 1178.53,1263.6 \n",
       "  \"/>\n",
       "<path clip-path=\"url(#clip022)\" d=\"\n",
       "M1234.27 1301.52 L1234.27 1384.24 L1290 1384.24 L1290 1301.52 L1234.27 1301.52 L1234.27 1301.52  Z\n",
       "  \" fill=\"#009af9\" fill-rule=\"evenodd\" fill-opacity=\"1\"/>\n",
       "<polyline clip-path=\"url(#clip022)\" style=\"stroke:#000000; stroke-linecap:butt; stroke-linejoin:round; stroke-width:4; stroke-opacity:1; fill:none\" points=\"\n",
       "  1234.27,1301.52 1234.27,1384.24 1290,1384.24 1290,1301.52 1234.27,1301.52 \n",
       "  \"/>\n",
       "<path clip-path=\"url(#clip022)\" d=\"\n",
       "M1290 1353.22 L1290 1384.24 L1345.74 1384.24 L1345.74 1353.22 L1290 1353.22 L1290 1353.22  Z\n",
       "  \" fill=\"#009af9\" fill-rule=\"evenodd\" fill-opacity=\"1\"/>\n",
       "<polyline clip-path=\"url(#clip022)\" style=\"stroke:#000000; stroke-linecap:butt; stroke-linejoin:round; stroke-width:4; stroke-opacity:1; fill:none\" points=\"\n",
       "  1290,1353.22 1290,1384.24 1345.74,1384.24 1345.74,1353.22 1290,1353.22 \n",
       "  \"/>\n",
       "<path clip-path=\"url(#clip022)\" d=\"\n",
       "M1345.74 1367 L1345.74 1384.24 L1401.47 1384.24 L1401.47 1367 L1345.74 1367 L1345.74 1367  Z\n",
       "  \" fill=\"#009af9\" fill-rule=\"evenodd\" fill-opacity=\"1\"/>\n",
       "<polyline clip-path=\"url(#clip022)\" style=\"stroke:#000000; stroke-linecap:butt; stroke-linejoin:round; stroke-width:4; stroke-opacity:1; fill:none\" points=\"\n",
       "  1345.74,1367 1345.74,1384.24 1401.47,1384.24 1401.47,1367 1345.74,1367 \n",
       "  \"/>\n",
       "<path clip-path=\"url(#clip022)\" d=\"\n",
       "M1401.47 1380.79 L1401.47 1384.24 L1457.21 1384.24 L1457.21 1380.79 L1401.47 1380.79 L1401.47 1380.79  Z\n",
       "  \" fill=\"#009af9\" fill-rule=\"evenodd\" fill-opacity=\"1\"/>\n",
       "<polyline clip-path=\"url(#clip022)\" style=\"stroke:#000000; stroke-linecap:butt; stroke-linejoin:round; stroke-width:4; stroke-opacity:1; fill:none\" points=\"\n",
       "  1401.47,1380.79 1401.47,1384.24 1457.21,1384.24 1457.21,1380.79 1401.47,1380.79 \n",
       "  \"/>\n",
       "<circle clip-path=\"url(#clip022)\" style=\"fill:#009af9; stroke:none; fill-opacity:0\" cx=\"370.375\" cy=\"439.824\" r=\"2\"/>\n",
       "<circle clip-path=\"url(#clip022)\" style=\"fill:#009af9; stroke:none; fill-opacity:0\" cx=\"426.11\" cy=\"515.653\" r=\"2\"/>\n",
       "<circle clip-path=\"url(#clip022)\" style=\"fill:#009af9; stroke:none; fill-opacity:0\" cx=\"481.845\" cy=\"588.035\" r=\"2\"/>\n",
       "<circle clip-path=\"url(#clip022)\" style=\"fill:#009af9; stroke:none; fill-opacity:0\" cx=\"537.58\" cy=\"708.672\" r=\"2\"/>\n",
       "<circle clip-path=\"url(#clip022)\" style=\"fill:#009af9; stroke:none; fill-opacity:0\" cx=\"593.315\" cy=\"818.968\" r=\"2\"/>\n",
       "<circle clip-path=\"url(#clip022)\" style=\"fill:#009af9; stroke:none; fill-opacity:0\" cx=\"649.05\" cy=\"936.159\" r=\"2\"/>\n",
       "<circle clip-path=\"url(#clip022)\" style=\"fill:#009af9; stroke:none; fill-opacity:0\" cx=\"704.785\" cy=\"974.073\" r=\"2\"/>\n",
       "<circle clip-path=\"url(#clip022)\" style=\"fill:#009af9; stroke:none; fill-opacity:0\" cx=\"760.52\" cy=\"1039.56\" r=\"2\"/>\n",
       "<circle clip-path=\"url(#clip022)\" style=\"fill:#009af9; stroke:none; fill-opacity:0\" cx=\"816.255\" cy=\"1129.18\" r=\"2\"/>\n",
       "<circle clip-path=\"url(#clip022)\" style=\"fill:#009af9; stroke:none; fill-opacity:0\" cx=\"871.99\" cy=\"1084.37\" r=\"2\"/>\n",
       "<circle clip-path=\"url(#clip022)\" style=\"fill:#009af9; stroke:none; fill-opacity:0\" cx=\"927.725\" cy=\"1215.35\" r=\"2\"/>\n",
       "<circle clip-path=\"url(#clip022)\" style=\"fill:#009af9; stroke:none; fill-opacity:0\" cx=\"983.46\" cy=\"1184.33\" r=\"2\"/>\n",
       "<circle clip-path=\"url(#clip022)\" style=\"fill:#009af9; stroke:none; fill-opacity:0\" cx=\"1039.19\" cy=\"1298.07\" r=\"2\"/>\n",
       "<circle clip-path=\"url(#clip022)\" style=\"fill:#009af9; stroke:none; fill-opacity:0\" cx=\"1094.93\" cy=\"1284.28\" r=\"2\"/>\n",
       "<circle clip-path=\"url(#clip022)\" style=\"fill:#009af9; stroke:none; fill-opacity:0\" cx=\"1150.66\" cy=\"1311.86\" r=\"2\"/>\n",
       "<circle clip-path=\"url(#clip022)\" style=\"fill:#009af9; stroke:none; fill-opacity:0\" cx=\"1206.4\" cy=\"1263.6\" r=\"2\"/>\n",
       "<circle clip-path=\"url(#clip022)\" style=\"fill:#009af9; stroke:none; fill-opacity:0\" cx=\"1262.13\" cy=\"1301.52\" r=\"2\"/>\n",
       "<circle clip-path=\"url(#clip022)\" style=\"fill:#009af9; stroke:none; fill-opacity:0\" cx=\"1317.87\" cy=\"1353.22\" r=\"2\"/>\n",
       "<circle clip-path=\"url(#clip022)\" style=\"fill:#009af9; stroke:none; fill-opacity:0\" cx=\"1373.6\" cy=\"1367\" r=\"2\"/>\n",
       "<circle clip-path=\"url(#clip022)\" style=\"fill:#009af9; stroke:none; fill-opacity:0\" cx=\"1429.34\" cy=\"1380.79\" r=\"2\"/>\n",
       "<polyline clip-path=\"url(#clip022)\" style=\"stroke:#ff0000; stroke-linecap:butt; stroke-linejoin:round; stroke-width:16; stroke-opacity:1; fill:none\" stroke-dasharray=\"8, 16\" points=\"\n",
       "  342.508,86.1857 347.271,108.181 352.033,129.804 356.796,151.06 361.558,171.956 383.577,264.055 405.595,349.156 427.614,427.792 449.633,500.454 471.651,567.596 \n",
       "  493.67,629.637 515.688,686.965 537.707,739.937 564.171,798.308 590.636,851.391 617.1,899.665 643.565,943.565 688.316,1008.94 733.066,1064.62 781.678,1115.78 \n",
       "  830.29,1158.75 875.106,1192.25 919.922,1220.77 1016.02,1268.45 1127.35,1306.58 1226.29,1329.79 1313.06,1344.36 1407.65,1355.84 1502.81,1364.05 1608.02,1370.4 \n",
       "  1708.12,1374.58 1812.2,1377.59 1899.82,1379.38 2006.79,1380.93 2107.34,1381.93 2268.44,1382.94 2293.23,1383.05 \n",
       "  \"/>\n",
       "<polyline clip-path=\"url(#clip022)\" style=\"stroke:#000000; stroke-linecap:butt; stroke-linejoin:round; stroke-width:16; stroke-opacity:1; fill:none\" stroke-dasharray=\"8, 16\" points=\"\n",
       "  342.508,1384.24 347.271,1349.4 352.033,1314.61 356.796,1279.91 361.558,1245.36 383.577,1088.83 405.595,940.857 416.605,871.377 427.614,805.526 438.623,743.719 \n",
       "  449.633,686.326 460.642,633.664 471.651,585.998 482.66,543.538 493.67,506.437 504.679,474.793 515.688,448.648 526.698,427.987 537.707,412.747 550.939,401.437 \n",
       "  564.171,397.503 577.404,400.573 590.636,410.201 603.868,425.878 617.1,447.045 630.333,473.105 643.565,503.437 665.94,562.677 688.316,629.284 710.691,700.356 \n",
       "  733.066,773.244 757.372,851.794 781.678,927.332 805.984,997.996 830.29,1062.5 852.698,1115.83 875.106,1163.02 897.514,1204.07 919.922,1239.22 943.945,1270.81 \n",
       "  967.969,1296.68 991.993,1317.54 1016.02,1334.08 1071.68,1359.59 1127.35,1372.92 1226.29,1381.84 1313.06,1383.72 1407.65,1384.16 1502.81,1384.23 1608.02,1384.24 \n",
       "  1708.12,1384.24 1812.2,1384.24 1899.82,1384.24 2006.79,1384.24 2107.34,1384.24 2268.44,1384.24 2293.23,1384.24 \n",
       "  \"/>\n",
       "</svg>\n"
      ]
     },
     "execution_count": 38,
     "metadata": {},
     "output_type": "execute_result"
    }
   ],
   "source": [
    "p4 = plot(xlab=L\"$s$\", ylab=L\"$P$\", legend=false)\n",
    "histogram!(p4, new_diffs3, bins=:auto, normed=true)\n",
    "plot!(p4, f, 0, 7, linestyle=:dot, linewidth=4, color=:red)\n",
    "plot!(p4, ff, 0, 7, linestyle=:dot, linewidth=4, color=:black)"
   ]
  },
  {
   "cell_type": "code",
   "execution_count": 39,
   "id": "35eb0ba6",
   "metadata": {},
   "outputs": [],
   "source": [
    "# # Glue everything together\n",
    "# fig = Figure()\n",
    "# ax1 = Axis(fig[1,1])\n",
    "# ax2 = Axis(fig[1,2])\n",
    "# ax3 = Axis(fig[1,3])\n",
    "\n",
    "# hist(ax1, new_diffs1)\n"
   ]
  },
  {
   "cell_type": "markdown",
   "id": "2d6967df",
   "metadata": {},
   "source": [
    "### Conclusion of change of $\\gamma$\n",
    "1. As $\\gamma$ increases, chaos emerges as the level distritution turns into Wigner distribution.\n",
    "2. What I found out that if I set $\\Lambda_1$ larger than 1, then the nice Wigner distribution as listed here will disappear no matter how I change $\\gamma$. I think this is because if the system has strong neareast-neighbour interactions, then such system will self-trap itself in certain state, therefore no matter how I change the tilting potential, I will not change much of the state of the system."
   ]
  },
  {
   "cell_type": "markdown",
   "id": "cf4f4437",
   "metadata": {},
   "source": [
    "### Entanglement entropy and entanglement spectrum\n",
    "We will first consider the entanglement spectrum for the ground state of the system. When we try to calculate the reduced density matrix, we will bipartite the system into two subsystems each containing 1 and 2 sites and we will trace out the 1 site subsystem."
   ]
  },
  {
   "cell_type": "code",
   "execution_count": 40,
   "id": "d70ad66c",
   "metadata": {},
   "outputs": [
    {
     "data": {
      "text/plain": [
       "EE (generic function with 1 method)"
      ]
     },
     "execution_count": 40,
     "metadata": {},
     "output_type": "execute_result"
    }
   ],
   "source": [
    "function EE(; γ::Float64, J::Float64, g::Float64, d::Float64, C6::Float64, R::Float64, Na::Int64)\n",
    "    vec = eigvecs(Htot(γ=γ, J=J, g=g, d=d, C6=C6, R=R))[:,1]\n",
    "    rdmat = reduced_density_matrix(state=vec, Na=Na, Ls=Ls, Rd=1)\n",
    "    vals = svd(rdmat).S\n",
    "    EE = -transpose(vals)*log.(vals)\n",
    "    return EE\n",
    "end"
   ]
  },
  {
   "cell_type": "code",
   "execution_count": 41,
   "id": "a3d6409c",
   "metadata": {},
   "outputs": [
    {
     "data": {
      "text/plain": [
       "evolEE (generic function with 1 method)"
      ]
     },
     "execution_count": 41,
     "metadata": {},
     "output_type": "execute_result"
    }
   ],
   "source": [
    "# I now only makes this function works given the initial state with equal\n",
    "# number of atoms in each site. But I potentially can extend it to arbitrary initial state.\n",
    "function evolEE(;H::Matrix{Float64},t::Float64,basis::Vector{Vector{Int64}},init::Vector{Int})\n",
    "    \n",
    "    if t == 0.0\n",
    "        EE = 0.0\n",
    "    else\n",
    "        vec = state_evolution(H=H,t=t,basis=basis,init=init)\n",
    "        #rdmat = reduced_density_matrix(Na=Na, state=vec, Hbs=Hbs)\n",
    "        rdmat = reduced_density_matrix(state=vec, Na=Na, Ls=Ls, Rd=1)\n",
    "        vals = svd(rdmat).S\n",
    "        #EE = -transpose(conj(vals).*vals)*log.(conj(vals).*(vals))\n",
    "        #vals_squd = vals.*conj(vals)\n",
    "        EE = -transpose(vals)*log.(vals)\n",
    "    end\n",
    "    \n",
    "    return EE\n",
    "end"
   ]
  },
  {
   "cell_type": "code",
   "execution_count": 42,
   "id": "b6ab79a0",
   "metadata": {},
   "outputs": [
    {
     "data": {
      "text/plain": [
       "evolEE_random (generic function with 1 method)"
      ]
     },
     "execution_count": 42,
     "metadata": {},
     "output_type": "execute_result"
    }
   ],
   "source": [
    "function evolEE_random(;H::Matrix{Float64},t::Float64,basis::Vector{Vector{Int64}},init::Vector{Float64})\n",
    "    \n",
    "    if t == 0.0\n",
    "        rdmat = reduced_density_matrix(state=init, Na=Na, Ls=Ls, Rd=1)\n",
    "        vals = svd(rdmat).S\n",
    "        EE = -transpose(vals)*log.(vals)\n",
    "    else\n",
    "        vec = state_evolution_random(H=H,t=t,basis=basis,init=init)\n",
    "        #rdmat = reduced_density_matrix(Na=Na, state=vec, Hbs=Hbs)\n",
    "        rdmat = reduced_density_matrix(state=vec, Na=Na, Ls=Ls, Rd=1)\n",
    "        vals = svd(rdmat).S\n",
    "        #EE = -transpose(conj(vals).*vals)*log.(conj(vals).*(vals))\n",
    "        #vals_squd = vals.*conj(vals)\n",
    "        EE = -transpose(vals)*log.(vals)\n",
    "    end\n",
    "    \n",
    "    return EE\n",
    "end"
   ]
  },
  {
   "cell_type": "code",
   "execution_count": 108,
   "id": "49e22e51",
   "metadata": {},
   "outputs": [],
   "source": [
    "H0 = Htot(γ=0.0, J=J, g=g, d=d, C6=C6, R=R);\n",
    "H1 = Htot(γ=1.0, J=J, g=g, d=d, C6=C6, R=R);\n",
    "H15 = Htot(γ=1.5, J=J, g=g, d=d, C6=C6, R=R);\n",
    "H2 = Htot(γ=2.0, J=J, g=g, d=d, C6=C6, R=R);\n",
    "H3 = Htot(γ=3.0, J=J, g=g, d=d, C6=C6, R=R);\n",
    "H4 = Htot(γ=4.0, J=J, g=g, d=d, C6=C6, R=R);\n",
    "H6 = Htot(γ=6.0, J=J, g=g, d=d, C6=C6, R=R);\n",
    "H7 = Htot(γ=7.0, J=J, g=g, d=d, C6=C6, R=R);\n",
    "H8 = Htot(γ=8.0, J=J, g=g, d=d, C6=C6, R=R);\n",
    "H9 = Htot(γ=9.0, J=J, g=g, d=d, C6=C6, R=R);\n",
    "H10 = Htot(γ=10.0, J=J, g=g, d=d, C6=C6, R=R);"
   ]
  },
  {
   "cell_type": "code",
   "execution_count": 151,
   "id": "8f72eeba",
   "metadata": {},
   "outputs": [
    {
     "data": {
      "text/plain": [
       "1.0:0.05:20.0"
      ]
     },
     "execution_count": 151,
     "metadata": {},
     "output_type": "execute_result"
    }
   ],
   "source": [
    "ts = 1.0:0.05:20.0"
   ]
  },
  {
   "cell_type": "code",
   "execution_count": 44,
   "id": "3ff03bf1",
   "metadata": {
    "scrolled": true
   },
   "outputs": [],
   "source": [
    "# EE0 = EE(γ=0.0, J=J, g=g, d=d, C6=C6, R=R, Na=Na);\n",
    "# EE1 = EE(γ=1.0, J=J, g=g, d=d, C6=C6, R=R, Na=Na);\n",
    "# EE3 = EE(γ=3.0, J=J, g=g, d=d, C6=C6, R=R, Na=Na);\n",
    "# EE4 = EE(γ=4.0, J=J, g=g, d=d, C6=C6, R=R, Na=Na);\n",
    "# EE10 = EE(γ=10.0, J=J, g=g, d=d, C6=C6, R=R, Na=Na);"
   ]
  },
  {
   "cell_type": "code",
   "execution_count": 81,
   "id": "890d4e8c",
   "metadata": {},
   "outputs": [],
   "source": [
    "ts = 0.0:0.2:10;"
   ]
  },
  {
   "cell_type": "code",
   "execution_count": 82,
   "id": "0c1b936d",
   "metadata": {},
   "outputs": [
    {
     "name": "stdout",
     "output_type": "stream",
     "text": [
      "300.263290 seconds (190.45 M allocations: 34.064 GiB, 0.40% gc time, 0.01% compilation time)\n"
     ]
    },
    {
     "data": {
      "text/plain": [
       "51-element Vector{Float64}:\n",
       " 0.0\n",
       " 2.846179600101717\n",
       " 3.522285700838719\n",
       " 3.797772402222237\n",
       " 3.864345652384973\n",
       " 3.897111697864711\n",
       " 3.881766143725927\n",
       " 3.8667794116296914\n",
       " 3.8277926346275937\n",
       " 3.7687334845563933\n",
       " 3.759901274582897\n",
       " 3.7524409368092417\n",
       " 3.779521594664362\n",
       " ⋮\n",
       " 3.78958204889774\n",
       " 3.841320228826056\n",
       " 3.871343359762716\n",
       " 3.8753915380110575\n",
       " 3.8662920639547753\n",
       " 3.8231806506750248\n",
       " 3.7949738746877353\n",
       " 3.794876004444707\n",
       " 3.8069747297219623\n",
       " 3.821730791596958\n",
       " 3.8692913291993447\n",
       " 3.877334046749572"
      ]
     },
     "execution_count": 82,
     "metadata": {},
     "output_type": "execute_result"
    }
   ],
   "source": [
    "@time evolEE0s = [evolEE(H=H0,t=t,basis=Hbs,init=vec([20 20 20])) for t in ts]"
   ]
  },
  {
   "cell_type": "code",
   "execution_count": 83,
   "id": "73f06444",
   "metadata": {},
   "outputs": [
    {
     "name": "stdout",
     "output_type": "stream",
     "text": [
      "309.324754 seconds (190.45 M allocations: 34.064 GiB, 0.38% gc time, 0.02% compilation time)\n"
     ]
    },
    {
     "data": {
      "text/plain": [
       "51-element Vector{Float64}:\n",
       " 0.0\n",
       " 2.8392012458568825\n",
       " 3.5053142857203903\n",
       " 3.7773042736571285\n",
       " 3.8727299918255493\n",
       " 3.896247503451854\n",
       " 3.918001492717801\n",
       " 3.927790944390639\n",
       " 3.89515729187407\n",
       " 3.863818292826515\n",
       " 3.892072513301888\n",
       " 3.8763037089096692\n",
       " 3.8266628128579643\n",
       " ⋮\n",
       " 3.8884101655583265\n",
       " 3.8859977626496343\n",
       " 3.8749421982798777\n",
       " 3.8498782539207728\n",
       " 3.828622511795716\n",
       " 3.828405870745031\n",
       " 3.87012943507514\n",
       " 3.9330194411790185\n",
       " 3.9535345641293853\n",
       " 3.9552146804533512\n",
       " 3.955847289987995\n",
       " 3.9336897096096735"
      ]
     },
     "execution_count": 83,
     "metadata": {},
     "output_type": "execute_result"
    }
   ],
   "source": [
    "@time evolEE2s = [evolEE(H=H2,t=t,basis=Hbs,init=vec([20 20 20])) for t in ts]"
   ]
  },
  {
   "cell_type": "code",
   "execution_count": 84,
   "id": "accab94d",
   "metadata": {},
   "outputs": [
    {
     "name": "stdout",
     "output_type": "stream",
     "text": [
      "329.765735 seconds (190.45 M allocations: 34.064 GiB, 0.37% gc time, 0.01% compilation time)\n"
     ]
    },
    {
     "data": {
      "text/plain": [
       "51-element Vector{Float64}:\n",
       " 0.0\n",
       " 2.820402517245107\n",
       " 3.436961362005702\n",
       " 3.667949940745753\n",
       " 3.7903701023917864\n",
       " 3.806631721756432\n",
       " 3.7928656223130233\n",
       " 3.6827659447097236\n",
       " 3.500939784727028\n",
       " 3.50222559301495\n",
       " 3.4496639911574367\n",
       " 3.38191725399241\n",
       " 3.5486790201248137\n",
       " ⋮\n",
       " 3.678704473102644\n",
       " 3.643053497027292\n",
       " 3.638951318603943\n",
       " 3.6260387664147764\n",
       " 3.6660890163966107\n",
       " 3.7009845859726305\n",
       " 3.75628552515044\n",
       " 3.7961196078104456\n",
       " 3.775894979069218\n",
       " 3.7560735171986868\n",
       " 3.706883259679831\n",
       " 3.6373335185759665"
      ]
     },
     "execution_count": 84,
     "metadata": {},
     "output_type": "execute_result"
    }
   ],
   "source": [
    "@time evolEE4s = [evolEE(H=H4,t=t,basis=Hbs,init=vec([20 20 20])) for t in ts]"
   ]
  },
  {
   "cell_type": "code",
   "execution_count": 85,
   "id": "79e1ca46",
   "metadata": {},
   "outputs": [
    {
     "name": "stdout",
     "output_type": "stream",
     "text": [
      "328.015086 seconds (190.45 M allocations: 34.064 GiB, 0.37% gc time, 0.01% compilation time)\n"
     ]
    },
    {
     "data": {
      "text/plain": [
       "51-element Vector{Float64}:\n",
       " 0.0\n",
       " 2.7899844202121464\n",
       " 3.3216163952869913\n",
       " 3.4671655696264274\n",
       " 3.413276187142638\n",
       " 3.2154307729031117\n",
       " 2.8382695408557916\n",
       " 3.039437566362161\n",
       " 3.3240521337027022\n",
       " 3.494910186609536\n",
       " 3.5049729491384918\n",
       " 3.392051343013048\n",
       " 3.4051681716977917\n",
       " ⋮\n",
       " 3.4656527742117165\n",
       " 3.452722083001774\n",
       " 3.4240969553571574\n",
       " 3.4222268693714906\n",
       " 3.4752360134614753\n",
       " 3.466099461039094\n",
       " 3.449596308731992\n",
       " 3.3930104219956725\n",
       " 3.4012314381316657\n",
       " 3.473608692640571\n",
       " 3.474667030672758\n",
       " 3.4813136208602984"
      ]
     },
     "execution_count": 85,
     "metadata": {},
     "output_type": "execute_result"
    }
   ],
   "source": [
    "@time evolEE6s = [evolEE(H=H6,t=t,basis=Hbs,init=vec([20 20 20])) for t in ts]"
   ]
  },
  {
   "cell_type": "code",
   "execution_count": 86,
   "id": "1d50775f",
   "metadata": {},
   "outputs": [],
   "source": [
    "# prepend!(evolEE0s,EE0);\n",
    "# prepend!(evolEE1s,EE1);\n",
    "# prepend!(evolEE3s,EE3);\n",
    "# prepend!(evolEE4s,EE4);\n",
    "# prepend!(evolEE10s,EE10);"
   ]
  },
  {
   "cell_type": "code",
   "execution_count": 87,
   "id": "af6c7121",
   "metadata": {
    "scrolled": false
   },
   "outputs": [
    {
     "data": {
      "image/png": "[encoded data removed]"
     },
     "execution_count": 87,
     "metadata": {},
     "output_type": "execute_result"
    }
   ],
   "source": [
    "eplot = plot(ylab=L\"$S_{EE}$\", xlab=L\"$t$\", legend=:bottomright)\n",
    "plot!(eplot, ts, evolEE0s, label=L\"$\\gamma=0$\")\n",
    "#plot!(eplot, ts, evolEE1s, label=L\"$\\gamma=1$\")\n",
    "plot!(eplot, ts, evolEE2s, label=L\"$\\gamma=2$\")\n",
    "plot!(eplot, ts, evolEE4s, label=L\"$\\gamma=4$\")\n",
    "plot!(eplot, ts, evolEE6s, label=L\"$\\gamma=6$\")"
   ]
  },
  {
   "cell_type": "markdown",
   "id": "58d6da32",
   "metadata": {},
   "source": [
    "We will next study how the average entanglement entropy reacts to $\\gamma$. The logic is I will evolve reduced density matrices at different $\\gamma$'s, then calculate the average of EE's."
   ]
  },
  {
   "cell_type": "code",
   "execution_count": 90,
   "id": "26ecfd79",
   "metadata": {},
   "outputs": [
    {
     "data": {
      "text/plain": [
       "1×11 Matrix{Float64}:\n",
       " 3.81213  0.0  0.0  0.0  0.0  0.0  0.0  0.0  0.0  0.0  0.0"
      ]
     },
     "metadata": {},
     "output_type": "display_data"
    },
    {
     "data": {
      "text/plain": [
       "1×11 Matrix{Float64}:\n",
       " 3.81213  3.89325  0.0  0.0  0.0  0.0  0.0  0.0  0.0  0.0  0.0"
      ]
     },
     "metadata": {},
     "output_type": "display_data"
    },
    {
     "data": {
      "text/plain": [
       "1×11 Matrix{Float64}:\n",
       " 3.81213  3.89325  3.87595  0.0  0.0  0.0  0.0  0.0  0.0  0.0  0.0"
      ]
     },
     "metadata": {},
     "output_type": "display_data"
    },
    {
     "data": {
      "text/plain": [
       "1×11 Matrix{Float64}:\n",
       " 3.81213  3.89325  3.87595  3.73886  0.0  0.0  0.0  0.0  0.0  0.0  0.0"
      ]
     },
     "metadata": {},
     "output_type": "display_data"
    },
    {
     "data": {
      "text/plain": [
       "1×11 Matrix{Float64}:\n",
       " 3.81213  3.89325  3.87595  3.73886  3.64568  0.0  0.0  0.0  0.0  0.0  0.0"
      ]
     },
     "metadata": {},
     "output_type": "display_data"
    },
    {
     "data": {
      "text/plain": [
       "1×11 Matrix{Float64}:\n",
       " 3.81213  3.89325  3.87595  3.73886  …  3.54515  0.0  0.0  0.0  0.0  0.0"
      ]
     },
     "metadata": {},
     "output_type": "display_data"
    },
    {
     "data": {
      "text/plain": [
       "1×11 Matrix{Float64}:\n",
       " 3.81213  3.89325  3.87595  3.73886  …  3.54515  3.3667  0.0  0.0  0.0  0.0"
      ]
     },
     "metadata": {},
     "output_type": "display_data"
    },
    {
     "data": {
      "text/plain": [
       "1×11 Matrix{Float64}:\n",
       " 3.81213  3.89325  3.87595  3.73886  …  3.3667  3.16806  0.0  0.0  0.0"
      ]
     },
     "metadata": {},
     "output_type": "display_data"
    },
    {
     "data": {
      "text/plain": [
       "1×11 Matrix{Float64}:\n",
       " 3.81213  3.89325  3.87595  3.73886  …  3.3667  3.16806  2.96975  0.0  0.0"
      ]
     },
     "metadata": {},
     "output_type": "display_data"
    },
    {
     "data": {
      "text/plain": [
       "1×11 Matrix{Float64}:\n",
       " 3.81213  3.89325  3.87595  3.73886  …  3.16806  2.96975  2.86149  0.0"
      ]
     },
     "metadata": {},
     "output_type": "display_data"
    },
    {
     "data": {
      "text/plain": [
       "1×11 Matrix{Float64}:\n",
       " 3.81213  3.89325  3.87595  3.73886  …  3.16806  2.96975  2.86149  2.73897"
      ]
     },
     "metadata": {},
     "output_type": "display_data"
    },
    {
     "name": "stdout",
     "output_type": "stream",
     "text": [
      "1099.927662 seconds (865.39 M allocations: 126.030 GiB, 0.39% gc time, 0.00% compilation time)\n"
     ]
    }
   ],
   "source": [
    "gammas = 0.0:1:10\n",
    "ts1 = 0.0:0.3:5.0\n",
    "aveEEs = zeros(Float64, 1, length(gammas))\n",
    "std_ee = zeros(Float64, 1, length(gammas))\n",
    "@time for i in 1:length(gammas)\n",
    "    gamma = gammas[i]\n",
    "    H = Htot(γ=gamma, J=J, g=g, d=d, C6=C6, R=R)\n",
    "    evolEEs = [evolEE(H=H,t=t,basis=Hbs,init=vec([20 20 20])) for t in ts1]\n",
    "    len = length(evolEEs)\n",
    "    drop_rate = 0.2 # we drop the first 20% of data\n",
    "    left_num = Int(floor(drop_rate*len))\n",
    "    aveEEs[i] = mean(evolEEs[left_num:len])\n",
    "    std_ee[i] = std(evolEEs[left_num:len])\n",
    "    display(aveEEs)\n",
    "end"
   ]
  },
  {
   "cell_type": "code",
   "execution_count": 93,
   "id": "9a55782a",
   "metadata": {
    "scrolled": false
   },
   "outputs": [],
   "source": [
    "scatter_ee = plot(legend=false, ylab=L\"$\\bar{S}_{EE}$\", xlab=L\"$\\gamma$\")\n",
    "scatter!(scatter_ee, gammas, aveEEs', yerror=std_ee');"
   ]
  },
  {
   "cell_type": "code",
   "execution_count": 94,
   "id": "4b4223f4",
   "metadata": {},
   "outputs": [
    {
     "data": {
      "image/png": "[encoded data removed]"
     },
     "execution_count": 94,
     "metadata": {},
     "output_type": "execute_result"
    },
    {
     "name": "stderr",
     "output_type": "stream",
     "text": [
      "sys:1: UserWarning: You passed a edgecolor/edgecolors ((0.0, 0.0, 0.0, 1.0)) for an unfilled marker ('_').  Matplotlib is ignoring the edgecolor in favor of the facecolor.  This behavior may change in the future.\n"
     ]
    }
   ],
   "source": [
    "letters = reshape(collect('a':'b'), (1,2))\n",
    "p1 = plot(eplot, scatter_ee, layout=(1,2), size=(700,300), framestyle=:box, grid=false, title=[\"($(letters[i]))\" for j in 1:1, i in 1:2], titleloc=:left, textsize=16, font=\"CMU Serif\")\n"
   ]
  },
  {
   "cell_type": "code",
   "execution_count": 55,
   "id": "895013e8",
   "metadata": {},
   "outputs": [],
   "source": [
    "savefig(p1, \"./pics/p1.png\")"
   ]
  },
  {
   "cell_type": "markdown",
   "id": "5f7a2084",
   "metadata": {},
   "source": [
    "### Here we will consider the state [60, 0, 0]"
   ]
  },
  {
   "cell_type": "code",
   "execution_count": 59,
   "id": "a1395b9c",
   "metadata": {},
   "outputs": [
    {
     "name": "stdout",
     "output_type": "stream",
     "text": [
      "475.786235 seconds (190.45 M allocations: 34.064 GiB, 0.22% gc time, 0.01% compilation time)\n"
     ]
    },
    {
     "data": {
      "text/plain": [
       "51-element Vector{Float64}:\n",
       " 0.0\n",
       " 1.7712732433046483\n",
       " 2.417645010797591\n",
       " 2.752379862895886\n",
       " 3.005924620632876\n",
       " 3.2277066809012736\n",
       " 3.4234754406815164\n",
       " 3.587341828126128\n",
       " 3.7018675794849516\n",
       " 3.741998609502608\n",
       " 3.7109560847529846\n",
       " 3.6650705094989013\n",
       " 3.6305637404025513\n",
       " ⋮\n",
       " 3.643671242894171\n",
       " 3.893787308707545\n",
       " 3.975044958463349\n",
       " 3.8506044809450195\n",
       " 3.7983377474380737\n",
       " 3.9221322411766275\n",
       " 3.9782472943934186\n",
       " 3.929808208409277\n",
       " 3.877392427153146\n",
       " 3.8660708857014265\n",
       " 3.863565586310954\n",
       " 3.8590575259590048"
      ]
     },
     "execution_count": 59,
     "metadata": {},
     "output_type": "execute_result"
    }
   ],
   "source": [
    "@time evolEE0s_new = [evolEE(H=H0,t=t,basis=Hbs,init=vec([60 0 0])) for t in ts]"
   ]
  },
  {
   "cell_type": "code",
   "execution_count": 60,
   "id": "c17e52a5",
   "metadata": {},
   "outputs": [
    {
     "name": "stdout",
     "output_type": "stream",
     "text": [
      "410.402609 seconds (190.45 M allocations: 34.064 GiB, 0.26% gc time, 0.01% compilation time)\n"
     ]
    },
    {
     "data": {
      "text/plain": [
       "51-element Vector{Float64}:\n",
       " 0.0\n",
       " 1.7829955377454558\n",
       " 2.434638601369599\n",
       " 2.710969127985181\n",
       " 2.759778405168591\n",
       " 2.5044292194895377\n",
       " 2.0440737138586704\n",
       " 2.4799842767095353\n",
       " 2.8821081350521016\n",
       " 3.026265385806613\n",
       " 3.047539986575279\n",
       " 2.9754727818959363\n",
       " 2.7324465524000505\n",
       " ⋮\n",
       " 3.273464977482872\n",
       " 2.9394395630724066\n",
       " 2.948200085652367\n",
       " 3.4664587894501118\n",
       " 3.714060494463795\n",
       " 3.5852751234935427\n",
       " 3.186214952301146\n",
       " 2.892399168048347\n",
       " 2.9398533679746928\n",
       " 3.3230952869612795\n",
       " 3.682460805898666\n",
       " 3.868840644384543"
      ]
     },
     "execution_count": 60,
     "metadata": {},
     "output_type": "execute_result"
    }
   ],
   "source": [
    "@time evolEE2s_new = [evolEE(H=H2,t=t,basis=Hbs,init=vec([60 0 0])) for t in ts]"
   ]
  },
  {
   "cell_type": "code",
   "execution_count": 61,
   "id": "79032486",
   "metadata": {},
   "outputs": [
    {
     "name": "stdout",
     "output_type": "stream",
     "text": [
      "394.409501 seconds (190.45 M allocations: 34.064 GiB, 0.26% gc time, 0.01% compilation time)\n"
     ]
    },
    {
     "data": {
      "text/plain": [
       "51-element Vector{Float64}:\n",
       " 0.0\n",
       " 1.7803095511510532\n",
       " 2.404115543175771\n",
       " 2.5767349389372836\n",
       " 2.440270473370349\n",
       " 2.3296964709896284\n",
       " 2.5095774569575746\n",
       " 2.4964130423129074\n",
       " 2.1345675610833363\n",
       " 0.9046870399815691\n",
       " 1.1558007862801032\n",
       " 2.221226804142374\n",
       " 2.5711145665493174\n",
       " ⋮\n",
       " 2.107234637687201\n",
       " 2.588823766407077\n",
       " 2.7023969932273744\n",
       " 2.4697562989525688\n",
       " 2.2395666242244574\n",
       " 2.4959068644963853\n",
       " 2.4379435234858677\n",
       " 1.9564244213623527\n",
       " 0.4418321794040545\n",
       " 1.6521751981711699\n",
       " 2.475200448020064\n",
       " 2.728201202365303"
      ]
     },
     "execution_count": 61,
     "metadata": {},
     "output_type": "execute_result"
    }
   ],
   "source": [
    "@time evolEE4s_new = [evolEE(H=H4,t=t,basis=Hbs,init=vec([60 0 0])) for t in ts]"
   ]
  },
  {
   "cell_type": "code",
   "execution_count": 62,
   "id": "44d70202",
   "metadata": {},
   "outputs": [
    {
     "name": "stdout",
     "output_type": "stream",
     "text": [
      "468.686431 seconds (190.45 M allocations: 34.064 GiB, 0.23% gc time, 0.01% compilation time)\n"
     ]
    },
    {
     "data": {
      "text/plain": [
       "51-element Vector{Float64}:\n",
       " 0.0\n",
       " 1.7632723874901135\n",
       " 2.331708644405713\n",
       " 2.417609421702647\n",
       " 2.30767669560634\n",
       " 2.1974191186894787\n",
       " 1.7939303387231615\n",
       " 0.15792418935826588\n",
       " 1.7619648009962938\n",
       " 2.462298673205887\n",
       " 2.5308654419583383\n",
       " 2.219446566277713\n",
       " 2.0897865453467066\n",
       " ⋮\n",
       " 2.280232441620592\n",
       " 2.1495614079114533\n",
       " 2.360030079039801\n",
       " 1.6600954031251915\n",
       " 1.4993483401508108\n",
       " 2.670107299533799\n",
       " 2.8946889023819606\n",
       " 2.3636861886090417\n",
       " 2.1823352743790414\n",
       " 2.432122150517833\n",
       " 1.8710672571693066\n",
       " 1.5086784399081556"
      ]
     },
     "execution_count": 62,
     "metadata": {},
     "output_type": "execute_result"
    }
   ],
   "source": [
    "@time evolEE6s_new = [evolEE(H=H6,t=t,basis=Hbs,init=vec([60 0 0])) for t in ts]"
   ]
  },
  {
   "cell_type": "code",
   "execution_count": 63,
   "id": "1b457bee",
   "metadata": {},
   "outputs": [
    {
     "data": {
      "image/png": "[encoded data removed]"
     },
     "execution_count": 63,
     "metadata": {},
     "output_type": "execute_result"
    }
   ],
   "source": [
    "eplot_new = plot(ylab=L\"$S_{EE}$\", xlab=L\"$t$\", legend=:bottomright)\n",
    "plot!(eplot_new, ts, evolEE0s_new, label=L\"$\\gamma=0$\")\n",
    "#plot!(eplot, ts, evolEE1s, label=L\"$\\gamma=1$\")\n",
    "plot!(eplot_new, ts, evolEE2s_new, label=L\"$\\gamma=2$\")\n",
    "plot!(eplot_new, ts, evolEE4s_new, label=L\"$\\gamma=4$\")\n",
    "plot!(eplot_new, ts, evolEE6s_new, label=L\"$\\gamma=6$\")"
   ]
  },
  {
   "cell_type": "code",
   "execution_count": 70,
   "id": "235c46bc",
   "metadata": {},
   "outputs": [
    {
     "data": {
      "text/plain": [
       "1×11 Matrix{Float64}:\n",
       " 3.39405  0.0  0.0  0.0  0.0  0.0  0.0  0.0  0.0  0.0  0.0"
      ]
     },
     "metadata": {},
     "output_type": "display_data"
    },
    {
     "data": {
      "text/plain": [
       "1×11 Matrix{Float64}:\n",
       " 3.39405  2.65939  0.0  0.0  0.0  0.0  0.0  0.0  0.0  0.0  0.0"
      ]
     },
     "metadata": {},
     "output_type": "display_data"
    },
    {
     "data": {
      "text/plain": [
       "1×11 Matrix{Float64}:\n",
       " 3.39405  2.65939  2.82329  0.0  0.0  0.0  0.0  0.0  0.0  0.0  0.0"
      ]
     },
     "metadata": {},
     "output_type": "display_data"
    },
    {
     "data": {
      "text/plain": [
       "1×11 Matrix{Float64}:\n",
       " 3.39405  2.65939  2.82329  2.35274  0.0  0.0  0.0  0.0  0.0  0.0  0.0"
      ]
     },
     "metadata": {},
     "output_type": "display_data"
    },
    {
     "data": {
      "text/plain": [
       "1×11 Matrix{Float64}:\n",
       " 3.39405  2.65939  2.82329  2.35274  2.1866  0.0  0.0  0.0  0.0  0.0  0.0"
      ]
     },
     "metadata": {},
     "output_type": "display_data"
    },
    {
     "data": {
      "text/plain": [
       "1×11 Matrix{Float64}:\n",
       " 3.39405  2.65939  2.82329  2.35274  2.1866  2.04992  0.0  0.0  0.0  0.0  0.0"
      ]
     },
     "metadata": {},
     "output_type": "display_data"
    },
    {
     "data": {
      "text/plain": [
       "1×11 Matrix{Float64}:\n",
       " 3.39405  2.65939  2.82329  2.35274  2.1866  …  2.01557  0.0  0.0  0.0  0.0"
      ]
     },
     "metadata": {},
     "output_type": "display_data"
    },
    {
     "data": {
      "text/plain": [
       "1×11 Matrix{Float64}:\n",
       " 3.39405  2.65939  2.82329  2.35274  …  2.01557  1.78524  0.0  0.0  0.0"
      ]
     },
     "metadata": {},
     "output_type": "display_data"
    },
    {
     "data": {
      "text/plain": [
       "1×11 Matrix{Float64}:\n",
       " 3.39405  2.65939  2.82329  2.35274  …  2.01557  1.78524  1.72579  0.0  0.0"
      ]
     },
     "metadata": {},
     "output_type": "display_data"
    },
    {
     "data": {
      "text/plain": [
       "1×11 Matrix{Float64}:\n",
       " 3.39405  2.65939  2.82329  2.35274  …  1.78524  1.72579  1.57704  0.0"
      ]
     },
     "metadata": {},
     "output_type": "display_data"
    },
    {
     "data": {
      "text/plain": [
       "1×11 Matrix{Float64}:\n",
       " 3.39405  2.65939  2.82329  2.35274  …  1.78524  1.72579  1.57704  1.45065"
      ]
     },
     "metadata": {},
     "output_type": "display_data"
    },
    {
     "name": "stdout",
     "output_type": "stream",
     "text": [
      "1782.930102 seconds (866.73 M allocations: 126.102 GiB, 0.25% gc time, 0.02% compilation time)\n"
     ]
    }
   ],
   "source": [
    "gammas = 0.0:1:10\n",
    "ts1 = 0.0:0.3:5.0\n",
    "aveEEs_new = zeros(Float64, 1, length(gammas))\n",
    "std_new = zeros(Float64, 1, length(gammas))\n",
    "@time for i in 1:length(gammas)\n",
    "    gamma = gammas[i]\n",
    "    H = Htot(γ=gamma, J=J, g=g, d=d, C6=C6, R=R)\n",
    "    evolEEs = [evolEE(H=H,t=t,basis=Hbs,init=vec([60 0 0])) for t in ts1]\n",
    "    len = length(evolEEs)\n",
    "    drop_rate = 0.2 # we drop the first 20% of data\n",
    "    left_num = Int(floor(drop_rate*len))\n",
    "    aveEEs_new[i] = mean(evolEEs[left_num:len])\n",
    "    std_new[i] = std(evolEEs[left_num:len])\n",
    "    display(aveEEs_new)\n",
    "end"
   ]
  },
  {
   "cell_type": "code",
   "execution_count": 78,
   "id": "4ae62261",
   "metadata": {},
   "outputs": [
    {
     "data": {
      "image/png": "[encoded data removed]"
     },
     "execution_count": 78,
     "metadata": {},
     "output_type": "execute_result"
    },
    {
     "name": "stderr",
     "output_type": "stream",
     "text": [
      "sys:1: UserWarning: You passed a edgecolor/edgecolors ((0.0, 0.0, 0.0, 1.0)) for an unfilled marker ('_').  Matplotlib is ignoring the edgecolor in favor of the facecolor.  This behavior may change in the future.\n"
     ]
    }
   ],
   "source": [
    "scatter_ee_new = plot(legend=false, ylab=L\"$\\bar{S}_{EE}$\", xlab=L\"$\\gamma$\")\n",
    "scatter!(scatter_ee_new, gammas, aveEEs_new', yerror=std_new');\n",
    "scatter_ee_new"
   ]
  },
  {
   "cell_type": "markdown",
   "id": "824143d0",
   "metadata": {},
   "source": [
    "### Here we will consider the case [0,0,60]"
   ]
  },
  {
   "cell_type": "code",
   "execution_count": 64,
   "id": "05da5ea4",
   "metadata": {},
   "outputs": [
    {
     "name": "stdout",
     "output_type": "stream",
     "text": [
      "334.423927 seconds (190.45 M allocations: 34.064 GiB, 0.32% gc time, 0.01% compilation time)\n"
     ]
    },
    {
     "data": {
      "text/plain": [
       "51-element Vector{Float64}:\n",
       " 0.0\n",
       " 0.11021693952872523\n",
       " 0.7344110213565236\n",
       " 1.5178734167394352\n",
       " 2.0676762743650645\n",
       " 2.455073976367161\n",
       " 2.776910275243405\n",
       " 3.0740765940979236\n",
       " 3.3506662023154186\n",
       " 3.5709292495792893\n",
       " 3.665713900342449\n",
       " 3.5720139571102463\n",
       " 3.259462960404064\n",
       " ⋮\n",
       " 3.4101689144357596\n",
       " 3.3686718358539403\n",
       " 3.40962404958354\n",
       " 3.5272201815353004\n",
       " 3.576150174738882\n",
       " 3.6286320296657686\n",
       " 3.5731615052704395\n",
       " 3.5497509157250957\n",
       " 3.7030187131110215\n",
       " 3.817519156266032\n",
       " 3.8814660698444854\n",
       " 3.8646979710334595"
      ]
     },
     "execution_count": 64,
     "metadata": {},
     "output_type": "execute_result"
    }
   ],
   "source": [
    "@time evolEE0s_newnew = [evolEE(H=H0,t=t,basis=Hbs,init=vec([0 0 60])) for t in ts]"
   ]
  },
  {
   "cell_type": "code",
   "execution_count": 65,
   "id": "3f6c9945",
   "metadata": {},
   "outputs": [
    {
     "name": "stdout",
     "output_type": "stream",
     "text": [
      "322.191048 seconds (190.45 M allocations: 34.064 GiB, 0.33% gc time, 0.01% compilation time)\n"
     ]
    },
    {
     "data": {
      "text/plain": [
       "51-element Vector{Float64}:\n",
       " 0.0\n",
       " 0.1090937213683783\n",
       " 0.7078505679053937\n",
       " 1.4200317694910944\n",
       " 1.8726981085416532\n",
       " 2.1148693582447815\n",
       " 2.2220268295581618\n",
       " 2.2145301301611244\n",
       " 2.075334361121009\n",
       " 1.7720764672826828\n",
       " 1.3484974777141783\n",
       " 1.1266563055949914\n",
       " 1.1414964315683331\n",
       " ⋮\n",
       " 2.19628499020214\n",
       " 1.8425374605113796\n",
       " 1.4282229127186528\n",
       " 1.3909096502401406\n",
       " 1.3943599117982637\n",
       " 1.3009962188708883\n",
       " 1.2300632612706357\n",
       " 1.4005020140724886\n",
       " 1.7491148213251544\n",
       " 2.0344937995775796\n",
       " 2.20301751793688\n",
       " 2.273257170062945"
      ]
     },
     "execution_count": 65,
     "metadata": {},
     "output_type": "execute_result"
    }
   ],
   "source": [
    "@time evolEE2s_newnew = [evolEE(H=H2,t=t,basis=Hbs,init=vec([0 0 60])) for t in ts]"
   ]
  },
  {
   "cell_type": "code",
   "execution_count": 66,
   "id": "e62ae4b8",
   "metadata": {},
   "outputs": [
    {
     "name": "stdout",
     "output_type": "stream",
     "text": [
      "315.503653 seconds (190.45 M allocations: 34.064 GiB, 0.35% gc time, 0.01% compilation time)\n"
     ]
    },
    {
     "data": {
      "text/plain": [
       "51-element Vector{Float64}:\n",
       " 0.0\n",
       " 0.10346463026679074\n",
       " 0.5953677278998825\n",
       " 1.048435169129919\n",
       " 1.1801900393763103\n",
       " 1.0986108702722126\n",
       " 1.1820240942245188\n",
       " 1.4596462488067292\n",
       " 1.570679754368813\n",
       " 1.4247686679021978\n",
       " 1.1479854556166407\n",
       " 1.1170520692799\n",
       " 1.1855603472530714\n",
       " ⋮\n",
       " 1.5067964895763741\n",
       " 1.5492336985792794\n",
       " 1.335515394768258\n",
       " 1.107889078683715\n",
       " 1.1532439814799138\n",
       " 1.1833132885330435\n",
       " 0.9077241598695294\n",
       " 0.3602322091488158\n",
       " 0.07718981224488558\n",
       " 0.07442988939471074\n",
       " 0.3454009605471967\n",
       " 0.8263048023024204"
      ]
     },
     "execution_count": 66,
     "metadata": {},
     "output_type": "execute_result"
    }
   ],
   "source": [
    "@time evolEE4s_newnew = [evolEE(H=H4,t=t,basis=Hbs,init=vec([0 0 60])) for t in ts]"
   ]
  },
  {
   "cell_type": "code",
   "execution_count": 67,
   "id": "fd03d6e3",
   "metadata": {},
   "outputs": [
    {
     "name": "stdout",
     "output_type": "stream",
     "text": [
      "318.890582 seconds (190.45 M allocations: 34.064 GiB, 0.38% gc time, 0.01% compilation time)\n"
     ]
    },
    {
     "data": {
      "text/plain": [
       "51-element Vector{Float64}:\n",
       " 0.0\n",
       " 0.0939020011643038\n",
       " 0.4240335679204288\n",
       " 0.51485730190202\n",
       " 0.47853417517420865\n",
       " 0.7253172390099059\n",
       " 0.7246252577519035\n",
       " 0.44521919965011236\n",
       " 0.44022665689022733\n",
       " 0.35831008007633663\n",
       " 0.08383852440533526\n",
       " 0.03475695927882582\n",
       " 0.12844859559538743\n",
       " ⋮\n",
       " 0.6429371852534902\n",
       " 0.3280051307623213\n",
       " 0.2400064818278438\n",
       " 0.19309829265669137\n",
       " 0.18426325970110524\n",
       " 0.27194499415000495\n",
       " 0.2859603643407608\n",
       " 0.5936797953382309\n",
       " 0.6974114391451618\n",
       " 0.5228621898282629\n",
       " 0.6074794823785076\n",
       " 0.6000163583689093"
      ]
     },
     "execution_count": 67,
     "metadata": {},
     "output_type": "execute_result"
    }
   ],
   "source": [
    "@time evolEE6s_newnew = [evolEE(H=H6,t=t,basis=Hbs,init=vec([0 0 60])) for t in ts]"
   ]
  },
  {
   "cell_type": "code",
   "execution_count": 68,
   "id": "7f1922a0",
   "metadata": {},
   "outputs": [
    {
     "data": {
      "image/png": "[encoded data removed]"
     },
     "execution_count": 68,
     "metadata": {},
     "output_type": "execute_result"
    }
   ],
   "source": [
    "eplot_newnew = plot(ylab=L\"$S_{EE}$\", xlab=L\"$t$\", legend=:bottomright)\n",
    "plot!(eplot_newnew, ts, evolEE0s_newnew, label=L\"$\\gamma=0$\")\n",
    "#plot!(eplot, ts, evolEE1s, label=L\"$\\gamma=1$\")\n",
    "plot!(eplot_newnew, ts, evolEE2s_newnew, label=L\"$\\gamma=2$\")\n",
    "plot!(eplot_newnew, ts, evolEE4s_newnew, label=L\"$\\gamma=4$\")\n",
    "plot!(eplot_newnew, ts, evolEE6s_newnew, label=L\"$\\gamma=6$\")"
   ]
  },
  {
   "cell_type": "code",
   "execution_count": 79,
   "id": "87e657a9",
   "metadata": {},
   "outputs": [
    {
     "data": {
      "text/plain": [
       "1×11 Matrix{Float64}:\n",
       " 3.27068  0.0  0.0  0.0  0.0  0.0  0.0  0.0  0.0  0.0  0.0"
      ]
     },
     "metadata": {},
     "output_type": "display_data"
    },
    {
     "data": {
      "text/plain": [
       "1×11 Matrix{Float64}:\n",
       " 3.27068  2.38979  0.0  0.0  0.0  0.0  0.0  0.0  0.0  0.0  0.0"
      ]
     },
     "metadata": {},
     "output_type": "display_data"
    },
    {
     "data": {
      "text/plain": [
       "1×11 Matrix{Float64}:\n",
       " 3.27068  2.38979  1.77068  0.0  0.0  0.0  0.0  0.0  0.0  0.0  0.0"
      ]
     },
     "metadata": {},
     "output_type": "display_data"
    },
    {
     "data": {
      "text/plain": [
       "1×11 Matrix{Float64}:\n",
       " 3.27068  2.38979  1.77068  1.30665  0.0  0.0  0.0  0.0  0.0  0.0  0.0"
      ]
     },
     "metadata": {},
     "output_type": "display_data"
    },
    {
     "data": {
      "text/plain": [
       "1×11 Matrix{Float64}:\n",
       " 3.27068  2.38979  1.77068  1.30665  1.02509  0.0  0.0  0.0  0.0  0.0  0.0"
      ]
     },
     "metadata": {},
     "output_type": "display_data"
    },
    {
     "data": {
      "text/plain": [
       "1×11 Matrix{Float64}:\n",
       " 3.27068  2.38979  1.77068  1.30665  …  0.734328  0.0  0.0  0.0  0.0  0.0"
      ]
     },
     "metadata": {},
     "output_type": "display_data"
    },
    {
     "data": {
      "text/plain": [
       "1×11 Matrix{Float64}:\n",
       " 3.27068  2.38979  1.77068  1.30665  1.02509  …  0.408242  0.0  0.0  0.0  0.0"
      ]
     },
     "metadata": {},
     "output_type": "display_data"
    },
    {
     "data": {
      "text/plain": [
       "1×11 Matrix{Float64}:\n",
       " 3.27068  2.38979  1.77068  1.30665  …  0.408242  0.263263  0.0  0.0  0.0"
      ]
     },
     "metadata": {},
     "output_type": "display_data"
    },
    {
     "data": {
      "text/plain": [
       "1×11 Matrix{Float64}:\n",
       " 3.27068  2.38979  1.77068  1.30665  1.02509  …  0.263263  0.159944  0.0  0.0"
      ]
     },
     "metadata": {},
     "output_type": "display_data"
    },
    {
     "data": {
      "text/plain": [
       "1×11 Matrix{Float64}:\n",
       " 3.27068  2.38979  1.77068  1.30665  …  0.263263  0.159944  0.0978178  0.0"
      ]
     },
     "metadata": {},
     "output_type": "display_data"
    },
    {
     "data": {
      "text/plain": [
       "1×11 Matrix{Float64}:\n",
       " 3.27068  2.38979  1.77068  1.30665  …  0.159944  0.0978178  0.0672127"
      ]
     },
     "metadata": {},
     "output_type": "display_data"
    },
    {
     "name": "stdout",
     "output_type": "stream",
     "text": [
      "1151.599030 seconds (865.39 M allocations: 126.030 GiB, 0.41% gc time, 0.00% compilation time)\n"
     ]
    }
   ],
   "source": [
    "gammas = 0.0:1:10\n",
    "ts1 = 0.0:0.3:5.0\n",
    "aveEEs_newnew = zeros(Float64, 1, length(gammas))\n",
    "std_newnew = zeros(Float64, 1, length(gammas))\n",
    "@time for i in 1:length(gammas)\n",
    "    gamma = gammas[i]\n",
    "    H = Htot(γ=gamma, J=J, g=g, d=d, C6=C6, R=R)\n",
    "    evolEEs = [evolEE(H=H,t=t,basis=Hbs,init=vec([0 0 60])) for t in ts1]\n",
    "    len = length(evolEEs)\n",
    "    drop_rate = 0.2 # we drop the first 20% of data\n",
    "    left_num = Int(floor(drop_rate*len))\n",
    "    aveEEs_newnew[i] = mean(evolEEs[left_num:len])\n",
    "    std_newnew[i] = std(evolEEs[left_num:len])\n",
    "    display(aveEEs_newnew)\n",
    "end"
   ]
  },
  {
   "cell_type": "code",
   "execution_count": 80,
   "id": "5ccacef3",
   "metadata": {},
   "outputs": [
    {
     "data": {
      "image/png": "[encoded data removed]"
     },
     "execution_count": 80,
     "metadata": {},
     "output_type": "execute_result"
    },
    {
     "name": "stderr",
     "output_type": "stream",
     "text": [
      "sys:1: UserWarning: You passed a edgecolor/edgecolors ((0.0, 0.0, 0.0, 1.0)) for an unfilled marker ('_').  Matplotlib is ignoring the edgecolor in favor of the facecolor.  This behavior may change in the future.\n"
     ]
    }
   ],
   "source": [
    "scatter_ee_newnew = plot(legend=false, ylab=L\"$\\bar{S}_{EE}$\", xlab=L\"$\\gamma$\")\n",
    "scatter!(scatter_ee_newnew, gammas, aveEEs_newnew', yerror=std_newnew');\n",
    "scatter_ee_newnew"
   ]
  },
  {
   "cell_type": "code",
   "execution_count": 136,
   "id": "6248d2ca",
   "metadata": {},
   "outputs": [
    {
     "data": {
      "image/png": "[encoded data removed]"
     },
     "execution_count": 136,
     "metadata": {},
     "output_type": "execute_result"
    }
   ],
   "source": [
    "## Glue everything together\n",
    "letters_newnew = reshape(collect('a':'f'), (1,6))\n",
    "p2 = plot(eplot, eplot_new, eplot_newnew, scatter_ee, scatter_ee_new, scatter_ee_newnew, link=:x,\n",
    "    layout=(2,3), size=(1000,600), framestyle=:box, grid=false,\n",
    "    title=[\"($(letters_newnew[i]))\" for j in 1:1, i in 1:6], titleloc=:left, textsize=16, font=\"CMU Serif\")"
   ]
  },
  {
   "cell_type": "code",
   "execution_count": 1,
   "id": "0cb3c2ad",
   "metadata": {},
   "outputs": [
    {
     "ename": "LoadError",
     "evalue": "UndefVarError: Figure not defined",
     "output_type": "error",
     "traceback": [
      "UndefVarError: Figure not defined",
      "",
      "Stacktrace:",
      " [1] top-level scope",
      "   @ In[1]:1",
      " [2] eval",
      "   @ ./boot.jl:373 [inlined]",
      " [3] include_string(mapexpr::typeof(REPL.softscope), mod::Module, code::String, filename::String)",
      "   @ Base ./loading.jl:1196"
     ]
    }
   ],
   "source": [
    "fig = Figure()\n",
    "ax1 = Axis(fig[1, 1])\n",
    "ax2 = Axis(fig[1, 2])"
   ]
  },
  {
   "cell_type": "markdown",
   "id": "b71ac66d",
   "metadata": {},
   "source": [
    "## The quench dynamics\n",
    "We here will study here how a system in zero tilting potential will behave under a quench to higher tilting potential (i.e., chaotic region or non-chaotic region). The initial state is considered as the ground state when $\\gamma=0$, then at $t=0$ we will change $\\gamma$ to 4 to study the quench dynamics."
   ]
  },
  {
   "cell_type": "code",
   "execution_count": 62,
   "id": "fc4e4ed8",
   "metadata": {},
   "outputs": [],
   "source": [
    "H = Htot(γ=0.0, J=J, g=g, d=d, C6=C6, R=R);"
   ]
  },
  {
   "cell_type": "code",
   "execution_count": 63,
   "id": "e78c077e",
   "metadata": {},
   "outputs": [],
   "source": [
    "state_evolution(H=Htot(γ=2.5, J=J, g=g, d=d, C6=C6, R=R),t=0.5,basis=Hbs,init=vec([20 20 20]));"
   ]
  },
  {
   "cell_type": "markdown",
   "id": "43b5a779",
   "metadata": {},
   "source": [
    "## Shannon Entropy"
   ]
  },
  {
   "cell_type": "code",
   "execution_count": 64,
   "id": "97001892",
   "metadata": {},
   "outputs": [],
   "source": [
    "H = Htot(γ=4.0, J=J, g=g, d=d, C6=C6, R=R);\n",
    "vals = eigvals(H);\n",
    "vecs = eigvecs(H);"
   ]
  },
  {
   "cell_type": "code",
   "execution_count": 65,
   "id": "a6dbc252",
   "metadata": {},
   "outputs": [
    {
     "data": {
      "text/plain": [
       "α (generic function with 1 method)"
      ]
     },
     "execution_count": 65,
     "metadata": {},
     "output_type": "execute_result"
    }
   ],
   "source": [
    "function α(;m::Int64, t::Float64, vals::Vector{Float64}, vecs::Matrix{Float64}, basis::Vector{Vector{Int64}}, init::Vector{Int64})\n",
    "    ind = findall(x->x==init, basis)[1]\n",
    "    Cvec = vecs[m,:]\n",
    "    α = 0\n",
    "    for j in 1:length(Cvec)\n",
    "        pj = conj(vecs[ind,j])\n",
    "        E_j = vals[j]\n",
    "        α += pj*exp(-1im*E_j*t)*Cvec[j]\n",
    "    end\n",
    "    return α\n",
    "end\n",
    "    "
   ]
  },
  {
   "cell_type": "code",
   "execution_count": 66,
   "id": "7aafa33f",
   "metadata": {},
   "outputs": [
    {
     "data": {
      "text/plain": [
       "SB (generic function with 1 method)"
      ]
     },
     "execution_count": 66,
     "metadata": {},
     "output_type": "execute_result"
    }
   ],
   "source": [
    "function SB(;t::Float64, vals::Vector{Float64}, vecs::Matrix{Float64}, basis::Vector{Vector{Int64}}, init::Vector{Int64})\n",
    "    SB = 0\n",
    "    for i in 1:length(vals)\n",
    "        αm = α(m=i, t=t, vals=vals, vecs=vecs, basis=Hbs, init=init)\n",
    "        a = αm * conj(αm)\n",
    "        SB += -a*log(a)\n",
    "    end\n",
    "    return SB\n",
    "end"
   ]
  },
  {
   "cell_type": "code",
   "execution_count": 67,
   "id": "3655d493",
   "metadata": {},
   "outputs": [],
   "source": [
    "ts = 0.1:0.2:5\n",
    "SBs = zeros(Float64, 1, length(ts))\n",
    "for i in 1:length(ts)\n",
    "    SBs[i] = SB(t=ts[i], vals=vals, vecs=vecs, basis=Hbs, init=vec([20 20 20]))\n",
    "end\n"
   ]
  },
  {
   "cell_type": "code",
   "execution_count": 68,
   "id": "95270071",
   "metadata": {},
   "outputs": [],
   "source": [
    "p = plot(legend=false);"
   ]
  },
  {
   "cell_type": "code",
   "execution_count": 69,
   "id": "ecdb4296",
   "metadata": {},
   "outputs": [],
   "source": [
    "for i in 1:length(ts)\n",
    "    scatter!(p, (ts[i], SBs[i]))\n",
    "end"
   ]
  },
  {
   "cell_type": "code",
   "execution_count": 70,
   "id": "8613e84b",
   "metadata": {},
   "outputs": [
    {
     "data": {
      "image/png": "[encoded data removed]"
     },
     "execution_count": 70,
     "metadata": {},
     "output_type": "execute_result"
    }
   ],
   "source": [
    "p"
   ]
  }
 ],
 "metadata": {
  "kernelspec": {
   "display_name": "Julia 1.7.1",
   "language": "julia",
   "name": "julia-1.7"
  },
  "language_info": {
   "file_extension": ".jl",
   "mimetype": "application/julia",
   "name": "julia",
   "version": "1.7.2"
  }
 },
 "nbformat": 4,
 "nbformat_minor": 5
}
