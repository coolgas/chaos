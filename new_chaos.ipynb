{
 "cells": [
  {
   "cell_type": "code",
   "execution_count": 1,
   "id": "8dac2fed",
   "metadata": {},
   "outputs": [
    {
     "data": {
      "text/plain": [
       "Main.Chaos"
      ]
     },
     "execution_count": 1,
     "metadata": {},
     "output_type": "execute_result"
    }
   ],
   "source": [
    "include(\"./src/Chaos.jl\")"
   ]
  },
  {
   "cell_type": "code",
   "execution_count": 2,
   "id": "7fb75de9",
   "metadata": {},
   "outputs": [
    {
     "data": {
      "text/plain": [
       "Plots.PyPlotBackend()"
      ]
     },
     "execution_count": 2,
     "metadata": {},
     "output_type": "execute_result"
    }
   ],
   "source": [
    "using .Chaos\n",
    "using Combinatorics\n",
    "using LinearAlgebra\n",
    "using LaTeXStrings\n",
    "using Plots\n",
    "using Statistics\n",
    "\n",
    "pyplot()"
   ]
  },
  {
   "cell_type": "code",
   "execution_count": 3,
   "id": "d34df4e1",
   "metadata": {},
   "outputs": [],
   "source": [
    "Na = 60; # number of atoms\n",
    "Ls = 3; # number of wells"
   ]
  },
  {
   "cell_type": "markdown",
   "id": "569be5f6",
   "metadata": {},
   "source": [
    "### The particle conserved basis"
   ]
  },
  {
   "cell_type": "code",
   "execution_count": 4,
   "id": "8476a5be",
   "metadata": {},
   "outputs": [],
   "source": [
    "Hbs = Vector{Int64}[] \n",
    "ps = integer_partition(Na, Ls);\n",
    "for p in ps\n",
    "    append!(Hbs, collect(multiset_permutations(p, Ls)))\n",
    "end"
   ]
  },
  {
   "cell_type": "code",
   "execution_count": 5,
   "id": "33d25a59",
   "metadata": {
    "scrolled": true
   },
   "outputs": [
    {
     "data": {
      "text/plain": [
       "1891"
      ]
     },
     "execution_count": 5,
     "metadata": {},
     "output_type": "execute_result"
    }
   ],
   "source": [
    "Lb = length(Hbs) # the dimension of the Hilbert space"
   ]
  },
  {
   "cell_type": "code",
   "execution_count": 6,
   "id": "8b7e8bac",
   "metadata": {},
   "outputs": [
    {
     "data": {
      "text/plain": [
       "1891"
      ]
     },
     "execution_count": 6,
     "metadata": {},
     "output_type": "execute_result"
    }
   ],
   "source": [
    "Lb_shouldbe = binomial(Na+Ls-1, Na)"
   ]
  },
  {
   "cell_type": "markdown",
   "id": "4ffbbefc",
   "metadata": {},
   "source": [
    "### The hopping Hamiltonian"
   ]
  },
  {
   "cell_type": "code",
   "execution_count": 7,
   "id": "c2cc5b44",
   "metadata": {},
   "outputs": [],
   "source": [
    "H3s1 = hopping_pair(m=1, Na=Na, Hbs=Hbs);\n",
    "H3s2 = hopping_pair(m=2, Na=Na, Hbs=Hbs);"
   ]
  },
  {
   "cell_type": "code",
   "execution_count": 8,
   "id": "eece86b3",
   "metadata": {},
   "outputs": [],
   "source": [
    "H3s = H3s1 + H3s2;"
   ]
  },
  {
   "cell_type": "code",
   "execution_count": 9,
   "id": "25863495",
   "metadata": {},
   "outputs": [],
   "source": [
    "Hhop = H3s + H3s';"
   ]
  },
  {
   "cell_type": "markdown",
   "id": "114ad82f",
   "metadata": {},
   "source": [
    "### The onsite interaction"
   ]
  },
  {
   "cell_type": "code",
   "execution_count": 10,
   "id": "f9456d3f",
   "metadata": {},
   "outputs": [],
   "source": [
    "Honsite = zeros(Float64, Lb, Lb);"
   ]
  },
  {
   "cell_type": "code",
   "execution_count": 11,
   "id": "3ed70624",
   "metadata": {},
   "outputs": [],
   "source": [
    "for j in 1:Lb\n",
    "    for k in 1:Lb\n",
    "        if j == k\n",
    "            Honsite[j,k] = Hbs[j][1]^2 + Hbs[j][2]^2 + Hbs[j][3]^2 - Hbs[j][1] - Hbs[j][2] - Hbs[j][3]\n",
    "        end\n",
    "    end\n",
    "end"
   ]
  },
  {
   "cell_type": "markdown",
   "id": "ad808de7",
   "metadata": {},
   "source": [
    "### The tilt potential"
   ]
  },
  {
   "cell_type": "code",
   "execution_count": 12,
   "id": "ca86a945",
   "metadata": {},
   "outputs": [
    {
     "data": {
      "text/plain": [
       "Htit (generic function with 1 method)"
      ]
     },
     "execution_count": 12,
     "metadata": {},
     "output_type": "execute_result"
    }
   ],
   "source": [
    "function Htit(γ::Float64)\n",
    "    Htit = zeros(Float64, Lb, Lb)\n",
    "    for j in 1:Lb\n",
    "        for k in 1:Lb\n",
    "            if j == k\n",
    "                Htit[j,k] = γ*Hbs[j][1] + 0*Hbs[j][2] - γ*Hbs[j][3]\n",
    "            end\n",
    "\n",
    "        end\n",
    "    end\n",
    "    return Htit\n",
    "end"
   ]
  },
  {
   "cell_type": "markdown",
   "id": "9667aa5a",
   "metadata": {},
   "source": [
    "### Soft-core interactions"
   ]
  },
  {
   "cell_type": "code",
   "execution_count": 13,
   "id": "1a7cbc66",
   "metadata": {},
   "outputs": [
    {
     "data": {
      "text/plain": [
       "Λ (generic function with 1 method)"
      ]
     },
     "execution_count": 13,
     "metadata": {},
     "output_type": "execute_result"
    }
   ],
   "source": [
    "Λ(delta::Int64, d::Float64, C6::Float64, R::Float64) = C6 / ((delta)^6*d^6 + R^6)"
   ]
  },
  {
   "cell_type": "code",
   "execution_count": 14,
   "id": "a4ff3f48",
   "metadata": {},
   "outputs": [
    {
     "data": {
      "text/plain": [
       "Hsc (generic function with 1 method)"
      ]
     },
     "execution_count": 14,
     "metadata": {},
     "output_type": "execute_result"
    }
   ],
   "source": [
    "# Here 'd' is the lattice constant.\n",
    "function Hsc(d::Float64, C6::Float64, R::Float64)\n",
    "    Hsc = zeros(Float64, Lb, Lb)\n",
    "    for j in 1:Lb\n",
    "        for k in 1:Lb\n",
    "            if j == k\n",
    "                Hsc[j,k] = Λ(0,d,C6,R)*(Hbs[j][1]*Hbs[j][1]+Hbs[j][2]*Hbs[j][2]+Hbs[j][3]*Hbs[j][3])+2*Λ(1,d,C6,R)*(Hbs[j][1]*Hbs[j][2]+Hbs[j][2]*Hbs[j][3])+2*Λ(2,d,C6,R)*(Hbs[j][1]*Hbs[j][3])\n",
    "            end\n",
    "        end\n",
    "    end\n",
    "    return Hsc\n",
    "end"
   ]
  },
  {
   "cell_type": "markdown",
   "id": "6abd0fc5",
   "metadata": {},
   "source": [
    "### Parameters we gonna use for reproducing Gary's results"
   ]
  },
  {
   "cell_type": "code",
   "execution_count": 15,
   "id": "0e27aa42",
   "metadata": {
    "scrolled": true
   },
   "outputs": [
    {
     "data": {
      "text/plain": [
       "0.13506383876754247"
      ]
     },
     "execution_count": 15,
     "metadata": {},
     "output_type": "execute_result"
    }
   ],
   "source": [
    "Λ(1, 1.5, 100.0, 3.0)"
   ]
  },
  {
   "cell_type": "code",
   "execution_count": 16,
   "id": "41953e44",
   "metadata": {},
   "outputs": [
    {
     "data": {
      "text/plain": [
       "0.06858710562414266"
      ]
     },
     "execution_count": 16,
     "metadata": {},
     "output_type": "execute_result"
    }
   ],
   "source": [
    "Λ(2, 1.5, 100.0, 3.0)"
   ]
  },
  {
   "cell_type": "code",
   "execution_count": 17,
   "id": "18f37efd",
   "metadata": {},
   "outputs": [
    {
     "data": {
      "text/plain": [
       "0.13717421124828533"
      ]
     },
     "execution_count": 17,
     "metadata": {},
     "output_type": "execute_result"
    }
   ],
   "source": [
    "Λ(0, 1.5, 100.0, 3.0)"
   ]
  },
  {
   "cell_type": "markdown",
   "id": "1b81e37b",
   "metadata": {},
   "source": [
    "### Construction of the full Hamiltonian"
   ]
  },
  {
   "cell_type": "code",
   "execution_count": 18,
   "id": "47ae8664",
   "metadata": {},
   "outputs": [
    {
     "data": {
      "text/plain": [
       "Htot (generic function with 1 method)"
      ]
     },
     "execution_count": 18,
     "metadata": {},
     "output_type": "execute_result"
    }
   ],
   "source": [
    "function Htot(;γ::Float64, J::Float64, g::Float64, d::Float64, C6::Float64, R::Float64)\n",
    "    Htot = Htit(γ) - J*Hhop + (g/2)*Honsite + (1/2)*Hsc(d,C6,R)\n",
    "    return Htot\n",
    "end\n",
    "    "
   ]
  },
  {
   "cell_type": "markdown",
   "id": "974f91ce",
   "metadata": {},
   "source": [
    "### Plot with respect to $\\gamma$\n",
    "Here we will fix all parameters in function $\\textbf{Htot}$ listed above except $\\gamma$. Like we've stated as above, with all the parameters fixed, we have $\\Lambda_0=0.137$, $\\Lambda_1\\approx 0.135$ and $\\Lambda_2\\approx 0.069$ so that we approximately have $\\Lambda_1\\approx 2\\Lambda_2$ (i.e., Gary's assumption)."
   ]
  },
  {
   "cell_type": "code",
   "execution_count": 19,
   "id": "df79fff6",
   "metadata": {},
   "outputs": [],
   "source": [
    "J = 1.0\n",
    "g = -0.137\n",
    "d = 1.5\n",
    "C6 = 100.0\n",
    "R = 3.0\n",
    "#gammas = -5.0:0.1:5.0\n",
    "gammas = 0:0.2:10\n",
    "eigs = zeros(Float64, Lb, length(gammas));\n",
    "\n",
    "# i1 = 1\n",
    "# for gamma in gammas\n",
    "#     eigs[:,i1] = eigvals(Htot(γ=gamma, J=J, g=g, d=d, C6=C6, R=R))\n",
    "#     i1 += 1\n",
    "# end"
   ]
  },
  {
   "cell_type": "code",
   "execution_count": 20,
   "id": "b64165d1",
   "metadata": {},
   "outputs": [],
   "source": [
    "# p1 = plot(xlab=L\"$\\gamma$\", ylab=L\"$\\epsilon$\", legend=false);"
   ]
  },
  {
   "cell_type": "code",
   "execution_count": 21,
   "id": "7be6b03d",
   "metadata": {},
   "outputs": [],
   "source": [
    "# for i in 1:Lb\n",
    "#     plot!(p1, gammas, eigs[i,:])\n",
    "# end"
   ]
  },
  {
   "cell_type": "code",
   "execution_count": 22,
   "id": "11df93e5",
   "metadata": {},
   "outputs": [],
   "source": [
    "# p1"
   ]
  },
  {
   "cell_type": "markdown",
   "id": "133c145b",
   "metadata": {},
   "source": [
    "### Level spacing distributions\n",
    "Here we will apply eigenvalue unfolding onto eigenvalues."
   ]
  },
  {
   "cell_type": "code",
   "execution_count": 23,
   "id": "3ef72e11",
   "metadata": {},
   "outputs": [],
   "source": [
    "# In our case, we take average every 7 levels, we drop (7-1)/2 spacings at either end.\n",
    "v = 5;\n",
    "\n",
    "# This is defined for later convenience.\n",
    "f(x) = exp(-x);\n",
    "ff(x) = (π*x/2)*exp(-π*x^2/4);"
   ]
  },
  {
   "cell_type": "markdown",
   "id": "5aa886fb",
   "metadata": {},
   "source": [
    "#### Change $\\gamma$\n",
    "Here we will vary $\\gamma$ to see if the chaos will be trigered.\n",
    "#### Case 1. $\\gamma=0.0$"
   ]
  },
  {
   "cell_type": "code",
   "execution_count": 24,
   "id": "31307d2e",
   "metadata": {},
   "outputs": [],
   "source": [
    "eigs1 = eigvals(Htot(γ=0.0, J=J, g=g, d=d, C6=C6, R=R));"
   ]
  },
  {
   "cell_type": "code",
   "execution_count": 25,
   "id": "e4985bf0",
   "metadata": {},
   "outputs": [],
   "source": [
    "diffs1 = [eigs1[i+1]-eigs1[i] for i in 1:length(eigs1)-1];"
   ]
  },
  {
   "cell_type": "code",
   "execution_count": 26,
   "id": "b5a4ad3c",
   "metadata": {},
   "outputs": [],
   "source": [
    "index1 = Int((v-1)/2)\n",
    "index2 = length(diffs1)-index1\n",
    "diffs1_dropped = diffs1[index1:index2];"
   ]
  },
  {
   "cell_type": "code",
   "execution_count": 27,
   "id": "9736dc8e",
   "metadata": {},
   "outputs": [],
   "source": [
    "new_diffs1 = []\n",
    "for i in 1:length(diffs1_dropped)\n",
    "    drop_index = Int((v-1)/2)\n",
    "    if i-drop_index>0 && i+drop_index<=length(diffs1_dropped)\n",
    "        append!(new_diffs1, diffs1_dropped[i]/average_spacing(diffs1_dropped, i, v))\n",
    "    end\n",
    "end"
   ]
  },
  {
   "cell_type": "code",
   "execution_count": 28,
   "id": "dc494614",
   "metadata": {
    "scrolled": false
   },
   "outputs": [
    {
     "data": {
      "image/png": "[encoded data removed]"
     },
     "execution_count": 28,
     "metadata": {},
     "output_type": "execute_result"
    }
   ],
   "source": [
    "p2 = plot(xlab=L\"$s$\", ylab=L\"$P$\", legend=false)\n",
    "histogram!(p2, new_diffs1, bins=:auto, normed=true)\n",
    "plot!(p2, f, 0, 7, linestyle=:dot, linewidth=4, color=:red)\n",
    "plot!(p2, ff, 0, 7, linestyle=:dot, linewidth=4, color=:black)"
   ]
  },
  {
   "cell_type": "markdown",
   "id": "d06704f1",
   "metadata": {},
   "source": [
    "#### Case 2. $\\gamma=4.0$"
   ]
  },
  {
   "cell_type": "code",
   "execution_count": 29,
   "id": "d12d74a2",
   "metadata": {},
   "outputs": [],
   "source": [
    "eigs2 = eigvals(Htot(γ=4.0, J=J, g=g, d=d, C6=C6, R=R));"
   ]
  },
  {
   "cell_type": "code",
   "execution_count": 30,
   "id": "7530a5b6",
   "metadata": {},
   "outputs": [],
   "source": [
    "diffs2 = [eigs2[i+1]-eigs2[i] for i in 1:length(eigs2)-1];"
   ]
  },
  {
   "cell_type": "code",
   "execution_count": 31,
   "id": "a0eeca35",
   "metadata": {},
   "outputs": [],
   "source": [
    "index12 = Int((v-1)/2)\n",
    "index22 = length(diffs2)-index12\n",
    "diffs2_dropped = diffs2[index12:index22];"
   ]
  },
  {
   "cell_type": "code",
   "execution_count": 32,
   "id": "43a50319",
   "metadata": {},
   "outputs": [],
   "source": [
    "new_diffs2 = []\n",
    "for i in 1:length(diffs2_dropped)\n",
    "    drop_index = Int((v-1)/2)\n",
    "    if i-drop_index>0 && i+drop_index<=length(diffs2_dropped)\n",
    "        append!(new_diffs2, diffs2_dropped[i]/average_spacing(diffs2_dropped, i, v))\n",
    "    end\n",
    "end"
   ]
  },
  {
   "cell_type": "code",
   "execution_count": 33,
   "id": "4042a9ac",
   "metadata": {},
   "outputs": [
    {
     "data": {
      "image/png": "[encoded data removed]"
     },
     "execution_count": 33,
     "metadata": {},
     "output_type": "execute_result"
    }
   ],
   "source": [
    "p3 = plot(xlab=L\"$s$\", ylab=L\"$P$\", legend=false)\n",
    "histogram!(p3, new_diffs2, bins=:auto, normed=true)\n",
    "plot!(p3, f, 0, 7, linestyle=:dot, linewidth=4, color=:red)\n",
    "plot!(p3, ff, 0, 7, linestyle=:dot, linewidth=4, color=:black)"
   ]
  },
  {
   "cell_type": "markdown",
   "id": "e33202f2",
   "metadata": {},
   "source": [
    "#### Case 3. $\\gamma=10$"
   ]
  },
  {
   "cell_type": "code",
   "execution_count": 34,
   "id": "eaf71cc5",
   "metadata": {},
   "outputs": [],
   "source": [
    "eigs3 = eigvals(Htot(γ=10.0, J=J, g=g, d=d, C6=C6, R=R));"
   ]
  },
  {
   "cell_type": "code",
   "execution_count": 35,
   "id": "940197be",
   "metadata": {},
   "outputs": [],
   "source": [
    "diffs3 = [eigs3[i+1]-eigs3[i] for i in 1:length(eigs3)-1];"
   ]
  },
  {
   "cell_type": "code",
   "execution_count": 36,
   "id": "5df4985a",
   "metadata": {},
   "outputs": [],
   "source": [
    "index13 = Int((v-1)/2)\n",
    "index23 = length(diffs3)-index13\n",
    "diffs3_dropped = diffs3[index13:index23];"
   ]
  },
  {
   "cell_type": "code",
   "execution_count": 37,
   "id": "589cbd50",
   "metadata": {},
   "outputs": [],
   "source": [
    "new_diffs3 = []\n",
    "for i in 1:length(diffs3_dropped)\n",
    "    drop_index = Int((v-1)/2)\n",
    "    if i-drop_index>0 && i+drop_index<=length(diffs3_dropped)\n",
    "        append!(new_diffs3, diffs3_dropped[i]/average_spacing(diffs3_dropped, i, v))\n",
    "    end\n",
    "end"
   ]
  },
  {
   "cell_type": "code",
   "execution_count": 38,
   "id": "5e345f5c",
   "metadata": {},
   "outputs": [
    {
     "data": {
      "image/png": "[encoded data removed]"
     },
     "execution_count": 38,
     "metadata": {},
     "output_type": "execute_result"
    }
   ],
   "source": [
    "p4 = plot(xlab=L\"$s$\", ylab=L\"$P$\", legend=false)\n",
    "histogram!(p4, new_diffs3, bins=:auto, normed=true)\n",
    "plot!(p4, f, 0, 7, linestyle=:dot, linewidth=4, color=:red)\n",
    "plot!(p4, ff, 0, 7, linestyle=:dot, linewidth=4, color=:black)"
   ]
  },
  {
   "cell_type": "markdown",
   "id": "2d6967df",
   "metadata": {},
   "source": [
    "### Conclusion of change of $\\gamma$\n",
    "1. As $\\gamma$ increases, chaos emerges as the level distritution turns into Wigner distribution.\n",
    "2. What I found out that if I set $\\Lambda_1$ larger than 1, then the nice Wigner distribution as listed here will disappear no matter how I change $\\gamma$. I think this is because if the system has strong neareast-neighbour interactions, then such system will self-trap itself in certain state, therefore no matter how I change the tilting potential, I will not change much of the state of the system."
   ]
  },
  {
   "cell_type": "markdown",
   "id": "cf4f4437",
   "metadata": {},
   "source": [
    "### Entanglement entropy and entanglement spectrum\n",
    "We will first consider the entanglement spectrum for the ground state of the system. When we try to calculate the reduced density matrix, we will bipartite the system into two subsystems each containing 1 and 2 sites and we will trace out the 1 site subsystem."
   ]
  },
  {
   "cell_type": "code",
   "execution_count": 39,
   "id": "7d11ce3d",
   "metadata": {},
   "outputs": [
    {
     "data": {
      "text/plain": [
       "EE (generic function with 1 method)"
      ]
     },
     "execution_count": 39,
     "metadata": {},
     "output_type": "execute_result"
    }
   ],
   "source": [
    "function EE(; γ::Float64, J::Float64, g::Float64, d::Float64, C6::Float64, R::Float64, Na::Int64)\n",
    "    vec = eigvecs(Htot(γ=γ, J=J, g=g, d=d, C6=C6, R=R))[:,1]\n",
    "    rdmat = reduced_density_matrix(state=vec, Na=Na)\n",
    "    vals = svd(rdmat).S\n",
    "    EE = -(vals.*vals)'*log.(vals.*vals)\n",
    "    return EE\n",
    "end"
   ]
  },
  {
   "cell_type": "code",
   "execution_count": 40,
   "id": "14a2b7c1",
   "metadata": {},
   "outputs": [
    {
     "data": {
      "text/plain": [
       "ES (generic function with 1 method)"
      ]
     },
     "execution_count": 40,
     "metadata": {},
     "output_type": "execute_result"
    }
   ],
   "source": [
    "function ES(; γ::Float64, J::Float64, d::Float64, C6::Float64, R::Float64, Na::Int64)\n",
    "    vec = eigvecs(Htot(γ=γ, J=J, g=g, d=d, C6=C6, R=R))[:,1]\n",
    "    rdmat = reduced_density_matrix(state=vec, Na=Na);\n",
    "    vals = svd(rdmat).S\n",
    "    ES = -log.(vals)\n",
    "    return ES\n",
    "end"
   ]
  },
  {
   "cell_type": "code",
   "execution_count": 41,
   "id": "a3d6409c",
   "metadata": {},
   "outputs": [
    {
     "data": {
      "text/plain": [
       "evolEE (generic function with 1 method)"
      ]
     },
     "execution_count": 41,
     "metadata": {},
     "output_type": "execute_result"
    }
   ],
   "source": [
    "function evolEE(;H::Matrix{Float64},t::Float64,basis::Vector{Vector{Int64}},init::Vector{Int})\n",
    "    vec = state_evolution(H=H,t=t,basis=basis,init=init)\n",
    "    rdmat = reduced_density_matrix(state=vec, Na=Na)\n",
    "    vals = svd(rdmat).S\n",
    "    EE = -transpose(conj(vals).*vals)*log.(conj(vals).*vals)\n",
    "    return EE\n",
    "end"
   ]
  },
  {
   "cell_type": "code",
   "execution_count": 42,
   "id": "49e22e51",
   "metadata": {},
   "outputs": [],
   "source": [
    "H0 = Htot(γ=0.0, J=J, g=g, d=d, C6=C6, R=R);\n",
    "H1 = Htot(γ=1.0, J=J, g=g, d=d, C6=C6, R=R);\n",
    "H4 = Htot(γ=4.0, J=J, g=g, d=d, C6=C6, R=R);\n",
    "H10 = Htot(γ=10.0, J=J, g=g, d=d, C6=C6, R=R);"
   ]
  },
  {
   "cell_type": "code",
   "execution_count": 43,
   "id": "3ff03bf1",
   "metadata": {
    "scrolled": true
   },
   "outputs": [],
   "source": [
    "EE0 = EE(γ=0.0, J=J, g=g, d=d, C6=C6, R=R, Na=Na);\n",
    "EE1 = EE(γ=1.0, J=J, g=g, d=d, C6=C6, R=R, Na=Na);\n",
    "EE4 = EE(γ=4.0, J=J, g=g, d=d, C6=C6, R=R, Na=Na);\n",
    "EE10 = EE(γ=10.0, J=J, g=g, d=d, C6=C6, R=R, Na=Na);"
   ]
  },
  {
   "cell_type": "code",
   "execution_count": 44,
   "id": "890d4e8c",
   "metadata": {},
   "outputs": [
    {
     "name": "stdout",
     "output_type": "stream",
     "text": [
      "Done"
     ]
    }
   ],
   "source": [
    "ts = 0.1:0.1:5.0;\n",
    "evolEE0s = [evolEE(H=H0,t=t,basis=Hbs,init=vec([20 20 20])) for t in ts];\n",
    "evolEE1s = [evolEE(H=H1,t=t,basis=Hbs,init=vec([20 20 20])) for t in ts];\n",
    "evolEE4s = [evolEE(H=H4,t=t,basis=Hbs,init=vec([20 20 20])) for t in ts];\n",
    "evolEE10s = [evolEE(H=H10,t=t,basis=Hbs,init=vec([20 20 20])) for t in ts];\n",
    "print(\"Done\")"
   ]
  },
  {
   "cell_type": "code",
   "execution_count": 45,
   "id": "1d50775f",
   "metadata": {},
   "outputs": [],
   "source": [
    "prepend!(evolEE0s,EE0);\n",
    "prepend!(evolEE1s,EE1);\n",
    "prepend!(evolEE4s,EE4);\n",
    "prepend!(evolEE10s,EE10);"
   ]
  },
  {
   "cell_type": "code",
   "execution_count": 58,
   "id": "af6c7121",
   "metadata": {},
   "outputs": [
    {
     "data": {
      "image/png": "[encoded data removed]"
     },
     "execution_count": 58,
     "metadata": {},
     "output_type": "execute_result"
    }
   ],
   "source": [
    "eplot = plot(ylab=L\"$S_{EE}$\")\n",
    "plot!(eplot, evolEE0s, label=L\"$\\gamma=0$\")\n",
    "plot!(eplot, evolEE1s, label=L\"$\\gamma=1$\")\n",
    "plot!(eplot, evolEE4s, label=L\"$\\gamma=4$\")\n",
    "plot!(eplot, evolEE10s, label=L\"$\\gamma=10$\")"
   ]
  },
  {
   "cell_type": "markdown",
   "id": "58d6da32",
   "metadata": {},
   "source": [
    "We will next study how the average entanglement entropy reacts to $\\gamma$. The logic is I will evolve reduced density matrices at different $\\gamma$'s, then calculate the average of EE's."
   ]
  },
  {
   "cell_type": "code",
   "execution_count": 47,
   "id": "26ecfd79",
   "metadata": {},
   "outputs": [],
   "source": [
    "# gammas = 0.0:1:10\n",
    "# ts1 = 0.1:0.3:5.0\n",
    "# aveEEs = zeros(Float64, 1, length(gammas))\n",
    "# @time for i in 1:length(gammas)\n",
    "#     gamma = gammas[i]\n",
    "#     H = Htot(γ=gamma, J=J, g=g, d=d, C6=C6, R=R)\n",
    "#     evolEEs = [evolEE(H=H,t=t,basis=Hbs,init=vec([20 20 20])) for t in ts1]\n",
    "#     len = length(evolEEs)\n",
    "#     drop_rate = 0.2 # we drop the first 10% of data\n",
    "#     left_num = Int(floor(drop_rate*len))\n",
    "#     aveEEs[i] = mean(evolEEs[left_num:len])   \n",
    "#     display(aveEEs)\n",
    "# end"
   ]
  },
  {
   "cell_type": "code",
   "execution_count": 48,
   "id": "9a55782a",
   "metadata": {},
   "outputs": [],
   "source": [
    "# scatter(gammas, aveEEs')"
   ]
  },
  {
   "cell_type": "markdown",
   "id": "b71ac66d",
   "metadata": {},
   "source": [
    "## The quench dynamics\n",
    "We here will study here how a system in zero tilting potential will behave under a quench to higher tilting potential (i.e., chaotic region or non-chaotic region). The initial state is considered as the ground state when $\\gamma=0$, then at $t=0$ we will change $\\gamma$ to 4 to study the quench dynamics."
   ]
  },
  {
   "cell_type": "code",
   "execution_count": 49,
   "id": "fc4e4ed8",
   "metadata": {},
   "outputs": [],
   "source": [
    "H = Htot(γ=0.0, J=J, g=g, d=d, C6=C6, R=R);"
   ]
  },
  {
   "cell_type": "code",
   "execution_count": 50,
   "id": "e78c077e",
   "metadata": {},
   "outputs": [],
   "source": [
    "state_evolution(H=Htot(γ=2.5, J=J, g=g, d=d, C6=C6, R=R),t=0.5,basis=Hbs,init=vec([20 20 20]));"
   ]
  },
  {
   "cell_type": "markdown",
   "id": "43b5a779",
   "metadata": {},
   "source": [
    "## Shannon Entropy"
   ]
  },
  {
   "cell_type": "code",
   "execution_count": 51,
   "id": "97001892",
   "metadata": {},
   "outputs": [],
   "source": [
    "H = Htot(γ=4.0, J=J, g=g, d=d, C6=C6, R=R);\n",
    "vals = eigvals(H);\n",
    "vecs = eigvecs(H);"
   ]
  },
  {
   "cell_type": "code",
   "execution_count": 52,
   "id": "a6dbc252",
   "metadata": {},
   "outputs": [
    {
     "data": {
      "text/plain": [
       "α (generic function with 1 method)"
      ]
     },
     "execution_count": 52,
     "metadata": {},
     "output_type": "execute_result"
    }
   ],
   "source": [
    "function α(;m::Int64, t::Float64, vals::Vector{Float64}, vecs::Matrix{Float64}, basis::Vector{Vector{Int64}}, init::Vector{Int64})\n",
    "    ind = findall(x->x==init, basis)[1]\n",
    "    Cvec = vecs[m,:]\n",
    "    α = 0\n",
    "    for j in 1:length(Cvec)\n",
    "        pj = conj(vecs[ind,j])\n",
    "        E_j = vals[j]\n",
    "        α += pj*exp(-1im*E_j*t)*Cvec[j]\n",
    "    end\n",
    "    return α\n",
    "end\n",
    "    "
   ]
  },
  {
   "cell_type": "code",
   "execution_count": 53,
   "id": "7aafa33f",
   "metadata": {},
   "outputs": [
    {
     "data": {
      "text/plain": [
       "SB (generic function with 1 method)"
      ]
     },
     "execution_count": 53,
     "metadata": {},
     "output_type": "execute_result"
    }
   ],
   "source": [
    "function SB(;t::Float64, vals::Vector{Float64}, vecs::Matrix{Float64}, basis::Vector{Vector{Int64}}, init::Vector{Int64})\n",
    "    SB = 0\n",
    "    for i in 1:length(vals)\n",
    "        αm = α(m=i, t=t, vals=vals, vecs=vecs, basis=Hbs, init=init)\n",
    "        a = αm * conj(αm)\n",
    "        SB += -a*log(a)\n",
    "    end\n",
    "    return SB\n",
    "end"
   ]
  },
  {
   "cell_type": "code",
   "execution_count": 54,
   "id": "3655d493",
   "metadata": {},
   "outputs": [],
   "source": [
    "ts = 0.1:0.2:5\n",
    "SBs = zeros(Float64, 1, length(ts))\n",
    "for i in 1:length(ts)\n",
    "    SBs[i] = SB(t=ts[i], vals=vals, vecs=vecs, basis=Hbs, init=vec([20 20 20]))\n",
    "end\n"
   ]
  },
  {
   "cell_type": "code",
   "execution_count": 55,
   "id": "95270071",
   "metadata": {},
   "outputs": [],
   "source": [
    "p = plot(legend=false);"
   ]
  },
  {
   "cell_type": "code",
   "execution_count": 56,
   "id": "ecdb4296",
   "metadata": {},
   "outputs": [],
   "source": [
    "for i in 1:length(ts)\n",
    "    scatter!(p, (ts[i], SBs[i]))\n",
    "end"
   ]
  },
  {
   "cell_type": "code",
   "execution_count": 57,
   "id": "e8a9ad7d",
   "metadata": {},
   "outputs": [
    {
     "data": {
      "image/png": "[encoded data removed]"
     },
     "execution_count": 57,
     "metadata": {},
     "output_type": "execute_result"
    }
   ],
   "source": [
    "p"
   ]
  },
  {
   "cell_type": "code",
   "execution_count": null,
   "id": "473175a3",
   "metadata": {},
   "outputs": [],
   "source": []
  }
 ],
 "metadata": {
  "kernelspec": {
   "display_name": "Julia 1.7.1",
   "language": "julia",
   "name": "julia-1.7"
  },
  "language_info": {
   "file_extension": ".jl",
   "mimetype": "application/julia",
   "name": "julia",
   "version": "1.7.1"
  }
 },
 "nbformat": 4,
 "nbformat_minor": 5
}
