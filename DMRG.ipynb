{
 "cells": [
  {
   "cell_type": "code",
   "execution_count": 1,
   "id": "7102b674",
   "metadata": {},
   "outputs": [],
   "source": [
    "using ITensors"
   ]
  },
  {
   "cell_type": "code",
   "execution_count": 4,
   "id": "2ee8026e",
   "metadata": {},
   "outputs": [],
   "source": [
    "N = 100\n",
    "sites = siteinds(\"S=1\",N);"
   ]
  },
  {
   "cell_type": "code",
   "execution_count": 6,
   "id": "b2302d45",
   "metadata": {},
   "outputs": [],
   "source": [
    "ampo = OpSum()\n",
    "for j=1:N-1\n",
    "  ampo += 0.5,\"S+\",j,\"S-\",j+1\n",
    "  ampo += 0.5,\"S-\",j,\"S+\",j+1\n",
    "  ampo += \"Sz\",j,\"Sz\",j+1\n",
    "end\n",
    "H = MPO(ampo,sites);"
   ]
  },
  {
   "cell_type": "code",
   "execution_count": 29,
   "id": "01607fdb",
   "metadata": {},
   "outputs": [],
   "source": [
    "sweeps = Sweeps(5) # number of sweeps is 5\n",
    "maxdim!(sweeps,10,20,100,100,200) # gradually increase states kept\n",
    "cutoff!(sweeps,1E-10) # desired truncation error"
   ]
  },
  {
   "cell_type": "code",
   "execution_count": 30,
   "id": "8915f82e",
   "metadata": {},
   "outputs": [],
   "source": [
    "psi0 = randomMPS(sites,2);"
   ]
  },
  {
   "cell_type": "code",
   "execution_count": 31,
   "id": "e0fd9c11",
   "metadata": {},
   "outputs": [
    {
     "name": "stdout",
     "output_type": "stream",
     "text": [
      "After sweep 1 energy=-138.138665095613 maxlinkdim=10 maxerr=5.66E-05 time=0.094\n",
      "After sweep 2 energy=-138.932263235037 maxlinkdim=20 maxerr=5.64E-06 time=0.296\n",
      "After sweep 3 energy=-138.940062011771 maxlinkdim=86 maxerr=9.98E-11 time=1.902\n",
      "After sweep 4 energy=-138.940085515094 maxlinkdim=93 maxerr=1.00E-10 time=4.079\n",
      "After sweep 5 energy=-138.940086067143 maxlinkdim=99 maxerr=9.99E-11 time=5.235\n"
     ]
    }
   ],
   "source": [
    "energy,psi = dmrg(H,psi0,sweeps);"
   ]
  },
  {
   "cell_type": "code",
   "execution_count": 18,
   "id": "9ca2bc56",
   "metadata": {},
   "outputs": [
    {
     "data": {
      "text/plain": [
       "MPS\n",
       "[1] ((dim=3|id=911|\"Link,l=1\"), (dim=3|id=603|\"S=1,Site,n=1\"))\n",
       "[2] ((dim=9|id=754|\"Link,l=2\"), (dim=3|id=818|\"S=1,Site,n=2\"), (dim=3|id=911|\"Link,l=1\"))\n",
       "[3] ((dim=27|id=175|\"Link,l=3\"), (dim=3|id=977|\"S=1,Site,n=3\"), (dim=9|id=754|\"Link,l=2\"))\n",
       "[4] ((dim=53|id=647|\"Link,l=4\"), (dim=3|id=241|\"S=1,Site,n=4\"), (dim=27|id=175|\"Link,l=3\"))\n",
       "[5] ((dim=64|id=780|\"Link,l=5\"), (dim=3|id=518|\"S=1,Site,n=5\"), (dim=53|id=647|\"Link,l=4\"))\n",
       "[6] ((dim=73|id=10|\"Link,l=6\"), (dim=3|id=687|\"S=1,Site,n=6\"), (dim=64|id=780|\"Link,l=5\"))\n",
       "[7] ((dim=78|id=845|\"Link,l=7\"), (dim=3|id=541|\"S=1,Site,n=7\"), (dim=73|id=10|\"Link,l=6\"))\n",
       "[8] ((dim=83|id=395|\"Link,l=8\"), (dim=3|id=306|\"S=1,Site,n=8\"), (dim=78|id=845|\"Link,l=7\"))\n",
       "[9] ((dim=86|id=276|\"Link,l=9\"), (dim=3|id=541|\"S=1,Site,n=9\"), (dim=83|id=395|\"Link,l=8\"))\n",
       "[10] ((dim=89|id=291|\"Link,l=10\"), (dim=3|id=356|\"S=1,Site,n=10\"), (dim=86|id=276|\"Link,l=9\"))\n",
       "[11] ((dim=92|id=449|\"Link,l=11\"), (dim=3|id=33|\"S=1,Site,n=11\"), (dim=89|id=291|\"Link,l=10\"))\n",
       "[12] ((dim=95|id=182|\"Link,l=12\"), (dim=3|id=388|\"S=1,Site,n=12\"), (dim=92|id=449|\"Link,l=11\"))\n",
       "[13] ((dim=94|id=439|\"Link,l=13\"), (dim=3|id=766|\"S=1,Site,n=13\"), (dim=95|id=182|\"Link,l=12\"))\n",
       "[14] ((dim=94|id=659|\"Link,l=14\"), (dim=3|id=374|\"S=1,Site,n=14\"), (dim=94|id=439|\"Link,l=13\"))\n",
       "[15] ((dim=95|id=1|\"Link,l=15\"), (dim=3|id=80|\"S=1,Site,n=15\"), (dim=94|id=659|\"Link,l=14\"))\n",
       "[16] ((dim=97|id=541|\"Link,l=16\"), (dim=3|id=715|\"S=1,Site,n=16\"), (dim=95|id=1|\"Link,l=15\"))\n",
       "[17] ((dim=96|id=543|\"Link,l=17\"), (dim=3|id=105|\"S=1,Site,n=17\"), (dim=97|id=541|\"Link,l=16\"))\n",
       "[18] ((dim=97|id=686|\"Link,l=18\"), (dim=3|id=321|\"S=1,Site,n=18\"), (dim=96|id=543|\"Link,l=17\"))\n",
       "[19] ((dim=94|id=131|\"Link,l=19\"), (dim=3|id=580|\"S=1,Site,n=19\"), (dim=97|id=686|\"Link,l=18\"))\n",
       "[20] ((dim=94|id=68|\"Link,l=20\"), (dim=3|id=887|\"S=1,Site,n=20\"), (dim=94|id=131|\"Link,l=19\"))\n",
       "[21] ((dim=94|id=408|\"Link,l=21\"), (dim=3|id=384|\"S=1,Site,n=21\"), (dim=94|id=68|\"Link,l=20\"))\n",
       "[22] ((dim=94|id=509|\"Link,l=22\"), (dim=3|id=170|\"S=1,Site,n=22\"), (dim=94|id=408|\"Link,l=21\"))\n",
       "[23] ((dim=94|id=224|\"Link,l=23\"), (dim=3|id=96|\"S=1,Site,n=23\"), (dim=94|id=509|\"Link,l=22\"))\n",
       "[24] ((dim=93|id=558|\"Link,l=24\"), (dim=3|id=350|\"S=1,Site,n=24\"), (dim=94|id=224|\"Link,l=23\"))\n",
       "[25] ((dim=93|id=614|\"Link,l=25\"), (dim=3|id=93|\"S=1,Site,n=25\"), (dim=93|id=558|\"Link,l=24\"))\n",
       "[26] ((dim=92|id=837|\"Link,l=26\"), (dim=3|id=253|\"S=1,Site,n=26\"), (dim=93|id=614|\"Link,l=25\"))\n",
       "[27] ((dim=91|id=224|\"Link,l=27\"), (dim=3|id=621|\"S=1,Site,n=27\"), (dim=92|id=837|\"Link,l=26\"))\n",
       "[28] ((dim=91|id=619|\"Link,l=28\"), (dim=3|id=615|\"S=1,Site,n=28\"), (dim=91|id=224|\"Link,l=27\"))\n",
       "[29] ((dim=90|id=0|\"Link,l=29\"), (dim=3|id=438|\"S=1,Site,n=29\"), (dim=91|id=619|\"Link,l=28\"))\n",
       "[30] ((dim=90|id=715|\"Link,l=30\"), (dim=3|id=559|\"S=1,Site,n=30\"), (dim=90|id=0|\"Link,l=29\"))\n",
       "[31] ((dim=90|id=495|\"Link,l=31\"), (dim=3|id=933|\"S=1,Site,n=31\"), (dim=90|id=715|\"Link,l=30\"))\n",
       "[32] ((dim=90|id=325|\"Link,l=32\"), (dim=3|id=709|\"S=1,Site,n=32\"), (dim=90|id=495|\"Link,l=31\"))\n",
       "[33] ((dim=90|id=901|\"Link,l=33\"), (dim=3|id=811|\"S=1,Site,n=33\"), (dim=90|id=325|\"Link,l=32\"))\n",
       "[34] ((dim=90|id=846|\"Link,l=34\"), (dim=3|id=759|\"S=1,Site,n=34\"), (dim=90|id=901|\"Link,l=33\"))\n",
       "[35] ((dim=90|id=925|\"Link,l=35\"), (dim=3|id=327|\"S=1,Site,n=35\"), (dim=90|id=846|\"Link,l=34\"))\n",
       "[36] ((dim=90|id=405|\"Link,l=36\"), (dim=3|id=372|\"S=1,Site,n=36\"), (dim=90|id=925|\"Link,l=35\"))\n",
       "[37] ((dim=90|id=578|\"Link,l=37\"), (dim=3|id=557|\"S=1,Site,n=37\"), (dim=90|id=405|\"Link,l=36\"))\n",
       "[38] ((dim=90|id=207|\"Link,l=38\"), (dim=3|id=901|\"S=1,Site,n=38\"), (dim=90|id=578|\"Link,l=37\"))\n",
       "[39] ((dim=90|id=96|\"Link,l=39\"), (dim=3|id=90|\"S=1,Site,n=39\"), (dim=90|id=207|\"Link,l=38\"))\n",
       "[40] ((dim=90|id=191|\"Link,l=40\"), (dim=3|id=451|\"S=1,Site,n=40\"), (dim=90|id=96|\"Link,l=39\"))\n",
       "[41] ((dim=90|id=693|\"Link,l=41\"), (dim=3|id=36|\"S=1,Site,n=41\"), (dim=90|id=191|\"Link,l=40\"))\n",
       "[42] ((dim=90|id=984|\"Link,l=42\"), (dim=3|id=578|\"S=1,Site,n=42\"), (dim=90|id=693|\"Link,l=41\"))\n",
       "[43] ((dim=90|id=375|\"Link,l=43\"), (dim=3|id=711|\"S=1,Site,n=43\"), (dim=90|id=984|\"Link,l=42\"))\n",
       "[44] ((dim=90|id=783|\"Link,l=44\"), (dim=3|id=564|\"S=1,Site,n=44\"), (dim=90|id=375|\"Link,l=43\"))\n",
       "[45] ((dim=90|id=401|\"Link,l=45\"), (dim=3|id=428|\"S=1,Site,n=45\"), (dim=90|id=783|\"Link,l=44\"))\n",
       "[46] ((dim=90|id=175|\"Link,l=46\"), (dim=3|id=150|\"S=1,Site,n=46\"), (dim=90|id=401|\"Link,l=45\"))\n",
       "[47] ((dim=90|id=526|\"Link,l=47\"), (dim=3|id=930|\"S=1,Site,n=47\"), (dim=90|id=175|\"Link,l=46\"))\n",
       "[48] ((dim=90|id=290|\"Link,l=48\"), (dim=3|id=155|\"S=1,Site,n=48\"), (dim=90|id=526|\"Link,l=47\"))\n",
       "[49] ((dim=90|id=55|\"Link,l=49\"), (dim=3|id=240|\"S=1,Site,n=49\"), (dim=90|id=290|\"Link,l=48\"))\n",
       "[50] ((dim=90|id=47|\"Link,l=50\"), (dim=3|id=428|\"S=1,Site,n=50\"), (dim=90|id=55|\"Link,l=49\"))\n",
       "[51] ((dim=90|id=112|\"Link,l=51\"), (dim=3|id=425|\"S=1,Site,n=51\"), (dim=90|id=47|\"Link,l=50\"))\n",
       "[52] ((dim=90|id=704|\"Link,l=52\"), (dim=3|id=661|\"S=1,Site,n=52\"), (dim=90|id=112|\"Link,l=51\"))\n",
       "[53] ((dim=90|id=530|\"Link,l=53\"), (dim=3|id=612|\"S=1,Site,n=53\"), (dim=90|id=704|\"Link,l=52\"))\n",
       "[54] ((dim=90|id=719|\"Link,l=54\"), (dim=3|id=812|\"S=1,Site,n=54\"), (dim=90|id=530|\"Link,l=53\"))\n",
       "[55] ((dim=90|id=229|\"Link,l=55\"), (dim=3|id=92|\"S=1,Site,n=55\"), (dim=90|id=719|\"Link,l=54\"))\n",
       "[56] ((dim=90|id=591|\"Link,l=56\"), (dim=3|id=463|\"S=1,Site,n=56\"), (dim=90|id=229|\"Link,l=55\"))\n",
       "[57] ((dim=90|id=288|\"Link,l=57\"), (dim=3|id=954|\"S=1,Site,n=57\"), (dim=90|id=591|\"Link,l=56\"))\n",
       "[58] ((dim=90|id=752|\"Link,l=58\"), (dim=3|id=119|\"S=1,Site,n=58\"), (dim=90|id=288|\"Link,l=57\"))\n",
       "[59] ((dim=90|id=331|\"Link,l=59\"), (dim=3|id=44|\"S=1,Site,n=59\"), (dim=90|id=752|\"Link,l=58\"))\n",
       "[60] ((dim=90|id=425|\"Link,l=60\"), (dim=3|id=466|\"S=1,Site,n=60\"), (dim=90|id=331|\"Link,l=59\"))\n",
       "[61] ((dim=90|id=737|\"Link,l=61\"), (dim=3|id=461|\"S=1,Site,n=61\"), (dim=90|id=425|\"Link,l=60\"))\n",
       "[62] ((dim=90|id=135|\"Link,l=62\"), (dim=3|id=978|\"S=1,Site,n=62\"), (dim=90|id=737|\"Link,l=61\"))\n",
       "[63] ((dim=90|id=253|\"Link,l=63\"), (dim=3|id=51|\"S=1,Site,n=63\"), (dim=90|id=135|\"Link,l=62\"))\n",
       "[64] ((dim=90|id=361|\"Link,l=64\"), (dim=3|id=314|\"S=1,Site,n=64\"), (dim=90|id=253|\"Link,l=63\"))\n",
       "[65] ((dim=90|id=400|\"Link,l=65\"), (dim=3|id=256|\"S=1,Site,n=65\"), (dim=90|id=361|\"Link,l=64\"))\n",
       "[66] ((dim=90|id=193|\"Link,l=66\"), (dim=3|id=441|\"S=1,Site,n=66\"), (dim=90|id=400|\"Link,l=65\"))\n",
       "[67] ((dim=90|id=202|\"Link,l=67\"), (dim=3|id=199|\"S=1,Site,n=67\"), (dim=90|id=193|\"Link,l=66\"))\n",
       "[68] ((dim=90|id=377|\"Link,l=68\"), (dim=3|id=724|\"S=1,Site,n=68\"), (dim=90|id=202|\"Link,l=67\"))\n",
       "[69] ((dim=90|id=645|\"Link,l=69\"), (dim=3|id=572|\"S=1,Site,n=69\"), (dim=90|id=377|\"Link,l=68\"))\n",
       "[70] ((dim=90|id=56|\"Link,l=70\"), (dim=3|id=135|\"S=1,Site,n=70\"), (dim=90|id=645|\"Link,l=69\"))\n",
       "[71] ((dim=91|id=976|\"Link,l=71\"), (dim=3|id=36|\"S=1,Site,n=71\"), (dim=90|id=56|\"Link,l=70\"))\n",
       "[72] ((dim=91|id=657|\"Link,l=72\"), (dim=3|id=538|\"S=1,Site,n=72\"), (dim=91|id=976|\"Link,l=71\"))\n",
       "[73] ((dim=91|id=316|\"Link,l=73\"), (dim=3|id=385|\"S=1,Site,n=73\"), (dim=91|id=657|\"Link,l=72\"))\n",
       "[74] ((dim=92|id=757|\"Link,l=74\"), (dim=3|id=920|\"S=1,Site,n=74\"), (dim=91|id=316|\"Link,l=73\"))\n",
       "[75] ((dim=92|id=134|\"Link,l=75\"), (dim=3|id=115|\"S=1,Site,n=75\"), (dim=92|id=757|\"Link,l=74\"))\n",
       "[76] ((dim=93|id=35|\"Link,l=76\"), (dim=3|id=876|\"S=1,Site,n=76\"), (dim=92|id=134|\"Link,l=75\"))\n",
       "[77] ((dim=93|id=184|\"Link,l=77\"), (dim=3|id=900|\"S=1,Site,n=77\"), (dim=93|id=35|\"Link,l=76\"))\n",
       "[78] ((dim=94|id=596|\"Link,l=78\"), (dim=3|id=223|\"S=1,Site,n=78\"), (dim=93|id=184|\"Link,l=77\"))\n",
       "[79] ((dim=94|id=454|\"Link,l=79\"), (dim=3|id=245|\"S=1,Site,n=79\"), (dim=94|id=596|\"Link,l=78\"))\n",
       "[80] ((dim=95|id=156|\"Link,l=80\"), (dim=3|id=619|\"S=1,Site,n=80\"), (dim=94|id=454|\"Link,l=79\"))\n",
       "[81] ((dim=95|id=196|\"Link,l=81\"), (dim=3|id=582|\"S=1,Site,n=81\"), (dim=95|id=156|\"Link,l=80\"))\n",
       "[82] ((dim=95|id=762|\"Link,l=82\"), (dim=3|id=68|\"S=1,Site,n=82\"), (dim=95|id=196|\"Link,l=81\"))\n",
       "[83] ((dim=96|id=277|\"Link,l=83\"), (dim=3|id=152|\"S=1,Site,n=83\"), (dim=95|id=762|\"Link,l=82\"))\n",
       "[84] ((dim=96|id=925|\"Link,l=84\"), (dim=3|id=270|\"S=1,Site,n=84\"), (dim=96|id=277|\"Link,l=83\"))\n",
       "[85] ((dim=95|id=797|\"Link,l=85\"), (dim=3|id=175|\"S=1,Site,n=85\"), (dim=96|id=925|\"Link,l=84\"))\n",
       "[86] ((dim=95|id=864|\"Link,l=86\"), (dim=3|id=114|\"S=1,Site,n=86\"), (dim=95|id=797|\"Link,l=85\"))\n",
       "[87] ((dim=94|id=472|\"Link,l=87\"), (dim=3|id=893|\"S=1,Site,n=87\"), (dim=95|id=864|\"Link,l=86\"))\n",
       "[88] ((dim=93|id=938|\"Link,l=88\"), (dim=3|id=612|\"S=1,Site,n=88\"), (dim=94|id=472|\"Link,l=87\"))\n",
       "[89] ((dim=92|id=325|\"Link,l=89\"), (dim=3|id=719|\"S=1,Site,n=89\"), (dim=93|id=938|\"Link,l=88\"))\n",
       "[90] ((dim=90|id=94|\"Link,l=90\"), (dim=3|id=158|\"S=1,Site,n=90\"), (dim=92|id=325|\"Link,l=89\"))\n",
       "[91] ((dim=87|id=853|\"Link,l=91\"), (dim=3|id=489|\"S=1,Site,n=91\"), (dim=90|id=94|\"Link,l=90\"))\n",
       "[92] ((dim=83|id=762|\"Link,l=92\"), (dim=3|id=879|\"S=1,Site,n=92\"), (dim=87|id=853|\"Link,l=91\"))\n",
       "[93] ((dim=78|id=515|\"Link,l=93\"), (dim=3|id=522|\"S=1,Site,n=93\"), (dim=83|id=762|\"Link,l=92\"))\n",
       "[94] ((dim=73|id=445|\"Link,l=94\"), (dim=3|id=797|\"S=1,Site,n=94\"), (dim=78|id=515|\"Link,l=93\"))\n",
       "[95] ((dim=64|id=404|\"Link,l=95\"), (dim=3|id=783|\"S=1,Site,n=95\"), (dim=73|id=445|\"Link,l=94\"))\n",
       "[96] ((dim=53|id=518|\"Link,l=96\"), (dim=3|id=299|\"S=1,Site,n=96\"), (dim=64|id=404|\"Link,l=95\"))\n",
       "[97] ((dim=27|id=309|\"Link,l=97\"), (dim=3|id=905|\"S=1,Site,n=97\"), (dim=53|id=518|\"Link,l=96\"))\n",
       "[98] ((dim=9|id=504|\"Link,l=98\"), (dim=3|id=669|\"S=1,Site,n=98\"), (dim=27|id=309|\"Link,l=97\"))\n",
       "[99] ((dim=3|id=542|\"Link,l=99\"), (dim=3|id=811|\"S=1,Site,n=99\"), (dim=9|id=504|\"Link,l=98\"))\n",
       "[100] ((dim=3|id=646|\"S=1,Site,n=100\"), (dim=3|id=542|\"Link,l=99\"))\n"
      ]
     },
     "execution_count": 18,
     "metadata": {},
     "output_type": "execute_result"
    }
   ],
   "source": [
    "psi"
   ]
  },
  {
   "cell_type": "code",
   "execution_count": null,
   "id": "1196341e",
   "metadata": {},
   "outputs": [],
   "source": []
  }
 ],
 "metadata": {
  "kernelspec": {
   "display_name": "Julia 1.7.1",
   "language": "julia",
   "name": "julia-1.7"
  },
  "language_info": {
   "file_extension": ".jl",
   "mimetype": "application/julia",
   "name": "julia",
   "version": "1.7.1"
  }
 },
 "nbformat": 4,
 "nbformat_minor": 5
}
