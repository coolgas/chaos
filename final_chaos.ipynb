{
 "cells": [
  {
   "cell_type": "code",
   "execution_count": 1,
   "id": "ce48ea4c",
   "metadata": {},
   "outputs": [
    {
     "name": "stderr",
     "output_type": "stream",
     "text": [
      "┌ Info: Precompiling Chaos [0aea4425-8685-4cf8-ab93-d00eaca7e4b3]\n",
      "└ @ Base loading.jl:1423\n",
      "\u001b[33m\u001b[1m┌ \u001b[22m\u001b[39m\u001b[33m\u001b[1mWarning: \u001b[22m\u001b[39mPackage Chaos does not have LinearAlgebra in its dependencies:\n",
      "\u001b[33m\u001b[1m│ \u001b[22m\u001b[39m- If you have Chaos checked out for development and have\n",
      "\u001b[33m\u001b[1m│ \u001b[22m\u001b[39m  added LinearAlgebra as a dependency but haven't updated your primary\n",
      "\u001b[33m\u001b[1m│ \u001b[22m\u001b[39m  environment's manifest file, try `Pkg.resolve()`.\n",
      "\u001b[33m\u001b[1m│ \u001b[22m\u001b[39m- Otherwise you may need to report an issue with Chaos\n",
      "\u001b[33m\u001b[1m└ \u001b[22m\u001b[39mLoading LinearAlgebra into Chaos from project dependency, future warnings for Chaos are suppressed.\n"
     ]
    }
   ],
   "source": [
    "using Combinatorics\n",
    "using LinearAlgebra\n",
    "using LaTeXStrings\n",
    "using Chaos\n",
    "using Statistics\n",
    "using CSV\n",
    "using DataFrames\n",
    "using GLMakie\n",
    "using SpecialFunctions\n",
    "#using LsqFit"
   ]
  },
  {
   "cell_type": "code",
   "execution_count": 2,
   "id": "2c115a84",
   "metadata": {},
   "outputs": [],
   "source": [
    "Na = 60; # number of atoms\n",
    "Ls = 3; # number of wells"
   ]
  },
  {
   "cell_type": "markdown",
   "id": "936d323e",
   "metadata": {},
   "source": [
    "### The particle conserved basis"
   ]
  },
  {
   "cell_type": "code",
   "execution_count": 3,
   "id": "09f5199a",
   "metadata": {},
   "outputs": [],
   "source": [
    "Hbs = integer_partition(N=Na, L=Ls);"
   ]
  },
  {
   "cell_type": "code",
   "execution_count": 4,
   "id": "4fb8c789",
   "metadata": {},
   "outputs": [
    {
     "data": {
      "text/plain": [
       "1891"
      ]
     },
     "execution_count": 4,
     "metadata": {},
     "output_type": "execute_result"
    }
   ],
   "source": [
    "Lb = length(Hbs) # the dimension of the Hilbert space"
   ]
  },
  {
   "cell_type": "code",
   "execution_count": 5,
   "id": "0231c3ec",
   "metadata": {},
   "outputs": [
    {
     "data": {
      "text/plain": [
       "1891"
      ]
     },
     "execution_count": 5,
     "metadata": {},
     "output_type": "execute_result"
    }
   ],
   "source": [
    "Lb_shouldbe = binomial(Na+Ls-1, Na)"
   ]
  },
  {
   "cell_type": "markdown",
   "id": "8bb272cf",
   "metadata": {},
   "source": [
    "### The hopping Hamiltonian"
   ]
  },
  {
   "cell_type": "code",
   "execution_count": 6,
   "id": "71895121",
   "metadata": {},
   "outputs": [],
   "source": [
    "HLs = zeros(Float64, Lb, Lb)\n",
    "for i in 1:Ls-1\n",
    "    HLs += hopping_pair(m=i, Na=Na, Hbs=Hbs)\n",
    "end"
   ]
  },
  {
   "cell_type": "code",
   "execution_count": 7,
   "id": "fccbf0b1",
   "metadata": {},
   "outputs": [],
   "source": [
    "Hhop = HLs + HLs';"
   ]
  },
  {
   "cell_type": "markdown",
   "id": "2f6793db",
   "metadata": {},
   "source": [
    "### The onsite interaction"
   ]
  },
  {
   "cell_type": "code",
   "execution_count": 8,
   "id": "53e87fa7",
   "metadata": {},
   "outputs": [],
   "source": [
    "Honsite = zeros(Float64, Lb, Lb);"
   ]
  },
  {
   "cell_type": "code",
   "execution_count": 9,
   "id": "efc13087",
   "metadata": {},
   "outputs": [],
   "source": [
    "for j in 1:Lb\n",
    "    for k in 1:Lb\n",
    "        if j == k\n",
    "            sum = 0\n",
    "            for l in 1:Ls\n",
    "                sum += Hbs[j][l]^2 - Hbs[j][l]\n",
    "            end\n",
    "            Honsite[j,k] += sum\n",
    "        end\n",
    "    end\n",
    "end"
   ]
  },
  {
   "cell_type": "markdown",
   "id": "1536ba47",
   "metadata": {},
   "source": [
    "### The tilt potential"
   ]
  },
  {
   "cell_type": "code",
   "execution_count": 10,
   "id": "60a9606b",
   "metadata": {},
   "outputs": [
    {
     "data": {
      "text/plain": [
       "Htit (generic function with 1 method)"
      ]
     },
     "execution_count": 10,
     "metadata": {},
     "output_type": "execute_result"
    }
   ],
   "source": [
    "function Htit(γ::Float64)\n",
    "    Htit = zeros(Float64, Lb, Lb)\n",
    "    for j in 1:Lb\n",
    "        for k in 1:Lb\n",
    "            if j == k\n",
    "                for l in 1:Ls\n",
    "                    Htit[j,k] += -(l-(Ls+1)/2)*γ*Hbs[j][l]\n",
    "                end\n",
    "            end\n",
    "\n",
    "        end\n",
    "    end\n",
    "    return Htit\n",
    "end"
   ]
  },
  {
   "cell_type": "markdown",
   "id": "45f85965",
   "metadata": {},
   "source": [
    "### Soft-core interactions"
   ]
  },
  {
   "cell_type": "code",
   "execution_count": 11,
   "id": "305abb24",
   "metadata": {},
   "outputs": [
    {
     "data": {
      "text/plain": [
       "Λ (generic function with 1 method)"
      ]
     },
     "execution_count": 11,
     "metadata": {},
     "output_type": "execute_result"
    }
   ],
   "source": [
    "Λ(delta::Int64, d::Float64, C6::Float64, R::Float64) = C6 / ((delta)^6*d^6 + R^6)"
   ]
  },
  {
   "cell_type": "code",
   "execution_count": 12,
   "id": "a9f66659",
   "metadata": {},
   "outputs": [
    {
     "data": {
      "text/plain": [
       "Hsc (generic function with 1 method)"
      ]
     },
     "execution_count": 12,
     "metadata": {},
     "output_type": "execute_result"
    }
   ],
   "source": [
    "# Here 'd' is the lattice constant.\n",
    "function Hsc(d::Float64, C6::Float64, R::Float64)\n",
    "    Hsc = zeros(Float64, Lb, Lb)\n",
    "    for j in 1:Lb\n",
    "        for k in 1:Lb\n",
    "            if j == k\n",
    "                for l in 1:Ls\n",
    "                    for m in 1:Ls\n",
    "                        if l-m == 0\n",
    "                            Hsc[j,k] += 2*Λ(0,d,C6,R)*Hbs[j][l]*Hbs[j][m]\n",
    "                        elseif abs(m-l) == 1\n",
    "                            Hsc[j,k] += Λ(1,d,C6,R)*Hbs[j][l]*Hbs[j][m]\n",
    "                        elseif abs(m-l) == 2\n",
    "                            Hsc[j,k] += Λ(2,d,C6,R)*Hbs[j][l]*Hbs[j][m]\n",
    "                        else\n",
    "                            continue\n",
    "                        end\n",
    "                    end\n",
    "                end\n",
    "            end\n",
    "        end\n",
    "    end\n",
    "    return Hsc\n",
    "end"
   ]
  },
  {
   "cell_type": "code",
   "execution_count": 13,
   "id": "af798251",
   "metadata": {},
   "outputs": [
    {
     "data": {
      "text/plain": [
       "Hsc_new (generic function with 1 method)"
      ]
     },
     "execution_count": 13,
     "metadata": {},
     "output_type": "execute_result"
    }
   ],
   "source": [
    "function Hsc_new(;Λ::Float64)\n",
    "    Hsc = zeros(Float64, Lb, Lb)\n",
    "    for j in 1:Lb\n",
    "        for k in 1:Lb\n",
    "            if j == k\n",
    "                for l in 1:Ls\n",
    "                    for m in 1:Ls\n",
    "                        if l-m == 0\n",
    "                            Hsc[j,k] += 0\n",
    "                        elseif abs(m-l) == 1\n",
    "                            Hsc[j,k] += Λ*Hbs[j][l]*Hbs[j][m]\n",
    "                        elseif abs(m-l) == 2\n",
    "                            Hsc[j,k] += Λ/2*Hbs[j][l]*Hbs[j][m]\n",
    "                        else\n",
    "                            continue\n",
    "                        end\n",
    "                    end\n",
    "                end\n",
    "            end\n",
    "        end\n",
    "    end\n",
    "    return Hsc\n",
    "end"
   ]
  },
  {
   "cell_type": "markdown",
   "id": "1d3398bc",
   "metadata": {},
   "source": [
    "### Construction of the full Hamiltonian"
   ]
  },
  {
   "cell_type": "code",
   "execution_count": 14,
   "id": "a1578a0e",
   "metadata": {},
   "outputs": [
    {
     "data": {
      "text/plain": [
       "Htot (generic function with 1 method)"
      ]
     },
     "execution_count": 14,
     "metadata": {},
     "output_type": "execute_result"
    }
   ],
   "source": [
    "function Htot(;γ::Float64, J::Float64, g::Float64, d::Float64, C6::Float64, R::Float64)\n",
    "    Htot = Htit(γ) - J*Hhop + (g/2)*Honsite + (1/2)*Hsc(d,C6,R)\n",
    "    return Htot\n",
    "end"
   ]
  },
  {
   "cell_type": "code",
   "execution_count": 15,
   "id": "a98a0beb",
   "metadata": {},
   "outputs": [
    {
     "data": {
      "text/plain": [
       "Htot_new (generic function with 1 method)"
      ]
     },
     "execution_count": 15,
     "metadata": {},
     "output_type": "execute_result"
    }
   ],
   "source": [
    "function Htot_new(;γ::Float64, J::Float64, g::Float64, Λ::Float64)\n",
    "    Htot = Htit(γ) - J*Hhop + (g/2)*Honsite + (1/2)*Hsc_new(Λ=Λ)\n",
    "    return Htot\n",
    "end"
   ]
  },
  {
   "cell_type": "markdown",
   "id": "b7a275e7",
   "metadata": {},
   "source": [
    "### Fitting the edge of the distribution"
   ]
  },
  {
   "cell_type": "code",
   "execution_count": 16,
   "id": "e17cd34e",
   "metadata": {},
   "outputs": [
    {
     "data": {
      "text/plain": [
       "get_diffs (generic function with 1 method)"
      ]
     },
     "execution_count": 16,
     "metadata": {},
     "output_type": "execute_result"
    }
   ],
   "source": [
    "# This function is for plotting the level statistics.\n",
    "function get_diffs(;v::Int64, γ::Float64, J::Float64, g::Float64, Λ::Float64)\n",
    "    eigs = eigvals(Htot_new(γ=γ, J=J, g=g, Λ=Λ));\n",
    "    diffs = [eigs[i+1]-eigs[i] for i in 1:length(eigs)-1];\n",
    "    index1 = Int((v-1)/2)\n",
    "    index2 = length(diffs)-index1\n",
    "    diffs_dropped = diffs[index1:index2];\n",
    "    \n",
    "    new_diffs = Float64[]\n",
    "    for i in 1:length(diffs_dropped)\n",
    "        drop_index = Int((v-1)/2)\n",
    "        if i-drop_index>0 && i+drop_index<=length(diffs_dropped)\n",
    "            append!(new_diffs, diffs_dropped[i]/average_spacing(diffs_dropped, i, v))\n",
    "        end\n",
    "    end\n",
    "    return diffs_dropped, new_diffs\n",
    "end"
   ]
  },
  {
   "cell_type": "code",
   "execution_count": 17,
   "id": "d335cb07",
   "metadata": {},
   "outputs": [
    {
     "data": {
      "text/plain": [
       "fit_edge (generic function with 1 method)"
      ]
     },
     "execution_count": 17,
     "metadata": {},
     "output_type": "execute_result"
    }
   ],
   "source": [
    "# Manually generate the historgram bins.\n",
    "# This function is prepared for later fittings.\n",
    "function fit_edge(;dmin::Float64, dmax::Float64, bin::Float64, diffs::Vector{Float64}, new_diffs::Vector{Float64})\n",
    "    dmin = dmin;\n",
    "    dmax = dmax;\n",
    "    bin = bin # the width of the bin\n",
    "    Nbin = Int(floor((dmax-dmin)/bin))\n",
    "    Ndstep = Int(floor(length(diffs)/v));\n",
    "\n",
    "    xbin = [bin*(i-1) for i in 1:Nbin];\n",
    "    Nenergy = vec(zeros(Float64, Nbin, 1));\n",
    "\n",
    "    for i in 1:length(new_diffs)\n",
    "        for j in 1:Nbin\n",
    "            if xbin[j] <= new_diffs[i] < xbin[j+1]\n",
    "                Nenergy[j] += 1\n",
    "            end\n",
    "        end\n",
    "    end\n",
    "\n",
    "    normNenergy = Nenergy/(bin*sum(Nenergy))\n",
    "    return xbin, normNenergy\n",
    "end"
   ]
  },
  {
   "cell_type": "markdown",
   "id": "51f6b07d",
   "metadata": {},
   "source": [
    "### Distributions of energy eigenvalues"
   ]
  },
  {
   "cell_type": "code",
   "execution_count": 17,
   "id": "df95c862",
   "metadata": {},
   "outputs": [
    {
     "data": {
      "image/png": "[encoded data removed]",
      "text/plain": [
       "FigureAxisPlot()"
      ]
     },
     "execution_count": 17,
     "metadata": {},
     "output_type": "execute_result"
    }
   ],
   "source": [
    "H1 = Htot_new(γ=0.8, J=1.0, g=0.0, Λ=0.20)\n",
    "eigs1 = eigvals(H1)/Na;\n",
    "hist(eigs1,bins=50)"
   ]
  },
  {
   "cell_type": "markdown",
   "id": "8d407767",
   "metadata": {},
   "source": [
    "### Level statistics"
   ]
  },
  {
   "cell_type": "code",
   "execution_count": 18,
   "id": "d4bdfb0f",
   "metadata": {},
   "outputs": [],
   "source": [
    "# In our case, we take average every 7 levels, we drop (7-1)/2 spacings at either end.\n",
    "v = 7;\n",
    "\n",
    "# This is defined for later convenience.\n",
    "f(x) = exp(-x);\n",
    "ff(x) = (π*x/2)*exp(-π*x^2/4);"
   ]
  },
  {
   "cell_type": "code",
   "execution_count": 19,
   "id": "2fdabe7e",
   "metadata": {},
   "outputs": [],
   "source": [
    "diffs1_dropped, new_diffs1 = get_diffs(v=v, γ=2.5, J=1.0, g=0.0, Λ=0.1);"
   ]
  },
  {
   "cell_type": "code",
   "execution_count": 20,
   "id": "3100add7",
   "metadata": {},
   "outputs": [
    {
     "data": {
      "image/png": "[encoded data removed]",
      "text/plain": [
       "Figure()"
      ]
     },
     "execution_count": 20,
     "metadata": {},
     "output_type": "execute_result"
    }
   ],
   "source": [
    "p2 = Figure(resolution=(900,600))\n",
    "ax2 = Axis(p2[1,1], xlabel=L\"$s$\", ylabel=L\"$P$\")\n",
    "xs = 0:0.2:8;\n",
    "ys = f.(xs)\n",
    "ys2 = ff.(xs)\n",
    "hist!(ax2, new_diffs1,bins=40, normalization=:pdf)\n",
    "lines!(ax2, xs, ys, linestyle=:dot, linewidth=4, color=:red)\n",
    "lines!(ax2, xs, ys2, linestyle=:dot, linewidth=4, color=:black)\n",
    "p2"
   ]
  },
  {
   "cell_type": "markdown",
   "id": "8489ea48",
   "metadata": {},
   "source": [
    "### Brody distribution"
   ]
  },
  {
   "cell_type": "code",
   "execution_count": 140,
   "id": "15329ef9",
   "metadata": {},
   "outputs": [
    {
     "data": {
      "text/plain": [
       "model (generic function with 1 method)"
      ]
     },
     "execution_count": 140,
     "metadata": {},
     "output_type": "execute_result"
    }
   ],
   "source": [
    "#b(β) =  gamma((β+2)/(β+1))^(β+1);\n",
    "model(s, p) = (p+1)*gamma((p+2)/(p+1))^(p+1)*s^(p)*exp(-gamma((p+2)/(p+1))^(p+1)*s^(p+1))"
   ]
  },
  {
   "cell_type": "code",
   "execution_count": 142,
   "id": "9bc384ad",
   "metadata": {},
   "outputs": [],
   "source": [
    "# Due to the fact that there is no stable package of nonlinear fitting in Julia,\n",
    "# I can only save the data to python to find the chaos indicator.\n",
    "\n",
    "# Case 1: Fixing γ at 2.5. Scanning through Λ\n",
    "for Λ in 0.0:0.1:0.5\n",
    "    diffs_dropped, new_diffs = get_diffs(v=v, γ=2.5, J=1.0, g=0.0, Λ=Λ);\n",
    "    xbin, normNenergy = fit_edge(dmin=0.0, dmax=8.0, bin=0.2, diffs=diffs_dropped, new_diffs=new_diffs)\n",
    "    open(\"./new_data/gamma=2.5/Lambda=$Λ.txt\", \"w\") do io \n",
    "        for i in normNenergy\n",
    "            println(io, i)\n",
    "        end\n",
    "    end\n",
    "end\n",
    "    "
   ]
  },
  {
   "cell_type": "markdown",
   "id": "31a0b40a",
   "metadata": {},
   "source": [
    "### Plots"
   ]
  },
  {
   "cell_type": "code",
   "execution_count": 139,
   "id": "46502bbb",
   "metadata": {},
   "outputs": [
    {
     "data": {
      "text/plain": [
       "-1.0:0.01:1.0"
      ]
     },
     "execution_count": 139,
     "metadata": {},
     "output_type": "execute_result"
    }
   ],
   "source": [
    "J = 1.0;\n",
    "g = 0.0;\n",
    "γs = 0.0:0.1:5.0;\n",
    "Λs = -1.0:0.01:1.0"
   ]
  },
  {
   "cell_type": "code",
   "execution_count": 62,
   "id": "0f7b6c6a",
   "metadata": {},
   "outputs": [],
   "source": [
    "Dict1 = Dict{Float64, Vector{Vector{Float64}}}(i=>[] for i in Λs);"
   ]
  },
  {
   "cell_type": "code",
   "execution_count": 65,
   "id": "4341c04c",
   "metadata": {},
   "outputs": [],
   "source": [
    "for Λ in Λs\n",
    "    for γ in γs\n",
    "        H = Htot_new(γ=γ, J=1.0, g=g, Λ=Λ)\n",
    "        eigs = eigvals(H)\n",
    "        push!(Dict1[Λ], eigs)\n",
    "    end\n",
    "end"
   ]
  },
  {
   "cell_type": "code",
   "execution_count": 138,
   "id": "33582587",
   "metadata": {},
   "outputs": [
    {
     "ename": "LoadError",
     "evalue": "UndefVarError: Λs not defined",
     "output_type": "error",
     "traceback": [
      "UndefVarError: Λs not defined",
      "",
      "Stacktrace:",
      " [1] top-level scope",
      "   @ ./In[138]:5",
      " [2] eval",
      "   @ ./boot.jl:373 [inlined]",
      " [3] include_string(mapexpr::typeof(REPL.softscope), mod::Module, code::String, filename::String)",
      "   @ Base ./loading.jl:1196"
     ]
    }
   ],
   "source": [
    "# Plot the diagrams w.r.t γ\n",
    "fontsize_theme = Theme(fontsize = 45)\n",
    "set_theme!(fontsize_theme)\n",
    "\n",
    "for Λ in Λs\n",
    "    eigs = Dict1[Λ];\n",
    "    eigs_mat = zeros(Float64, length(γs), Lb);\n",
    "    for i in 1:length(γs)\n",
    "        eigs_mat[i,:] = eigs[i]\n",
    "    end\n",
    "    \n",
    "    f = Figure(resolution=(1000,1000))\n",
    "    ax = Axis(f[1,1], xlabel=L\"\\gamma\", ylabel=L\"\\epsilon\")\n",
    "    ax.title = \"Λ=$Λ\"\n",
    "    for i in 1:Lb\n",
    "        lines!(ax, γs, eigs_mat[:,i])\n",
    "    end\n",
    "    save(\"/Users/tianyiyan/Desktop/Chaos/juliapics/spectrum_less/lambda=$Λ.png\",f)\n",
    "end"
   ]
  },
  {
   "cell_type": "code",
   "execution_count": null,
   "id": "ffc49481",
   "metadata": {},
   "outputs": [],
   "source": []
  }
 ],
 "metadata": {
  "kernelspec": {
   "display_name": "Julia 1.7.1",
   "language": "julia",
   "name": "julia-1.7"
  },
  "language_info": {
   "file_extension": ".jl",
   "mimetype": "application/julia",
   "name": "julia",
   "version": "1.7.2"
  }
 },
 "nbformat": 4,
 "nbformat_minor": 5
}
