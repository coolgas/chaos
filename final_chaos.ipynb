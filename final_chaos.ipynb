{
 "cells": [
  {
   "cell_type": "code",
   "execution_count": 1,
   "id": "ce48ea4c",
   "metadata": {},
   "outputs": [
    {
     "name": "stderr",
     "output_type": "stream",
     "text": [
      "┌ Info: Precompiling Chaos [0aea4425-8685-4cf8-ab93-d00eaca7e4b3]\n",
      "└ @ Base loading.jl:1423\n",
      "\u001b[33m\u001b[1m┌ \u001b[22m\u001b[39m\u001b[33m\u001b[1mWarning: \u001b[22m\u001b[39mPackage Chaos does not have LinearAlgebra in its dependencies:\n",
      "\u001b[33m\u001b[1m│ \u001b[22m\u001b[39m- If you have Chaos checked out for development and have\n",
      "\u001b[33m\u001b[1m│ \u001b[22m\u001b[39m  added LinearAlgebra as a dependency but haven't updated your primary\n",
      "\u001b[33m\u001b[1m│ \u001b[22m\u001b[39m  environment's manifest file, try `Pkg.resolve()`.\n",
      "\u001b[33m\u001b[1m│ \u001b[22m\u001b[39m- Otherwise you may need to report an issue with Chaos\n",
      "\u001b[33m\u001b[1m└ \u001b[22m\u001b[39mLoading LinearAlgebra into Chaos from project dependency, future warnings for Chaos are suppressed.\n"
     ]
    }
   ],
   "source": [
    "using Combinatorics\n",
    "using LinearAlgebra\n",
    "using LaTeXStrings\n",
    "using Chaos\n",
    "using Statistics\n",
    "using CSV\n",
    "using DataFrames\n",
    "using GLMakie"
   ]
  },
  {
   "cell_type": "code",
   "execution_count": 2,
   "id": "2c115a84",
   "metadata": {},
   "outputs": [],
   "source": [
    "Na = 90; # number of atoms\n",
    "Ls = 3; # number of wells"
   ]
  },
  {
   "cell_type": "markdown",
   "id": "936d323e",
   "metadata": {},
   "source": [
    "### The particle conserved basis"
   ]
  },
  {
   "cell_type": "code",
   "execution_count": 3,
   "id": "09f5199a",
   "metadata": {},
   "outputs": [],
   "source": [
    "Hbs = integer_partition(N=Na, L=Ls);"
   ]
  },
  {
   "cell_type": "code",
   "execution_count": 4,
   "id": "4fb8c789",
   "metadata": {},
   "outputs": [
    {
     "data": {
      "text/plain": [
       "4186"
      ]
     },
     "execution_count": 4,
     "metadata": {},
     "output_type": "execute_result"
    }
   ],
   "source": [
    "Lb = length(Hbs) # the dimension of the Hilbert space"
   ]
  },
  {
   "cell_type": "code",
   "execution_count": 5,
   "id": "0231c3ec",
   "metadata": {},
   "outputs": [
    {
     "data": {
      "text/plain": [
       "4186"
      ]
     },
     "execution_count": 5,
     "metadata": {},
     "output_type": "execute_result"
    }
   ],
   "source": [
    "Lb_shouldbe = binomial(Na+Ls-1, Na)"
   ]
  },
  {
   "cell_type": "markdown",
   "id": "8bb272cf",
   "metadata": {},
   "source": [
    "### The hopping Hamiltonian"
   ]
  },
  {
   "cell_type": "code",
   "execution_count": 6,
   "id": "71895121",
   "metadata": {},
   "outputs": [],
   "source": [
    "HLs = zeros(Float64, Lb, Lb)\n",
    "for i in 1:Ls-1\n",
    "    HLs += hopping_pair(m=i, Na=Na, Hbs=Hbs)\n",
    "end"
   ]
  },
  {
   "cell_type": "code",
   "execution_count": 7,
   "id": "fccbf0b1",
   "metadata": {},
   "outputs": [],
   "source": [
    "Hhop = HLs + HLs';"
   ]
  },
  {
   "cell_type": "markdown",
   "id": "2f6793db",
   "metadata": {},
   "source": [
    "### The onsite interaction"
   ]
  },
  {
   "cell_type": "code",
   "execution_count": 8,
   "id": "53e87fa7",
   "metadata": {},
   "outputs": [],
   "source": [
    "Honsite = zeros(Float64, Lb, Lb);"
   ]
  },
  {
   "cell_type": "code",
   "execution_count": 9,
   "id": "efc13087",
   "metadata": {},
   "outputs": [],
   "source": [
    "for j in 1:Lb\n",
    "    for k in 1:Lb\n",
    "        if j == k\n",
    "            sum = 0\n",
    "            for l in 1:Ls\n",
    "                sum += Hbs[j][l]^2 - Hbs[j][l]\n",
    "            end\n",
    "            Honsite[j,k] += sum\n",
    "        end\n",
    "    end\n",
    "end"
   ]
  },
  {
   "cell_type": "markdown",
   "id": "1536ba47",
   "metadata": {},
   "source": [
    "### The tilt potential"
   ]
  },
  {
   "cell_type": "code",
   "execution_count": 10,
   "id": "60a9606b",
   "metadata": {},
   "outputs": [
    {
     "data": {
      "text/plain": [
       "Htit (generic function with 1 method)"
      ]
     },
     "execution_count": 10,
     "metadata": {},
     "output_type": "execute_result"
    }
   ],
   "source": [
    "function Htit(γ::Float64)\n",
    "    Htit = zeros(Float64, Lb, Lb)\n",
    "    for j in 1:Lb\n",
    "        for k in 1:Lb\n",
    "            if j == k\n",
    "                for l in 1:Ls\n",
    "                    Htit[j,k] += -(l-(Ls+1)/2)*γ*Hbs[j][l]\n",
    "                end\n",
    "            end\n",
    "\n",
    "        end\n",
    "    end\n",
    "    return Htit\n",
    "end"
   ]
  },
  {
   "cell_type": "markdown",
   "id": "45f85965",
   "metadata": {},
   "source": [
    "### Soft-core interactions"
   ]
  },
  {
   "cell_type": "code",
   "execution_count": 11,
   "id": "305abb24",
   "metadata": {},
   "outputs": [
    {
     "data": {
      "text/plain": [
       "Λ (generic function with 1 method)"
      ]
     },
     "execution_count": 11,
     "metadata": {},
     "output_type": "execute_result"
    }
   ],
   "source": [
    "Λ(delta::Int64, d::Float64, C6::Float64, R::Float64) = C6 / ((delta)^6*d^6 + R^6)"
   ]
  },
  {
   "cell_type": "code",
   "execution_count": 12,
   "id": "a9f66659",
   "metadata": {},
   "outputs": [
    {
     "data": {
      "text/plain": [
       "Hsc (generic function with 1 method)"
      ]
     },
     "execution_count": 12,
     "metadata": {},
     "output_type": "execute_result"
    }
   ],
   "source": [
    "# Here 'd' is the lattice constant.\n",
    "function Hsc(d::Float64, C6::Float64, R::Float64)\n",
    "    Hsc = zeros(Float64, Lb, Lb)\n",
    "    for j in 1:Lb\n",
    "        for k in 1:Lb\n",
    "            if j == k\n",
    "                for l in 1:Ls\n",
    "                    for m in 1:Ls\n",
    "                        if l-m == 0\n",
    "                            Hsc[j,k] += 2*Λ(0,d,C6,R)*Hbs[j][l]*Hbs[j][m]\n",
    "                        elseif abs(m-l) == 1\n",
    "                            Hsc[j,k] += Λ(1,d,C6,R)*Hbs[j][l]*Hbs[j][m]\n",
    "                        elseif abs(m-l) == 2\n",
    "                            Hsc[j,k] += Λ(2,d,C6,R)*Hbs[j][l]*Hbs[j][m]\n",
    "                        else\n",
    "                            continue\n",
    "                        end\n",
    "                    end\n",
    "                end\n",
    "            end\n",
    "        end\n",
    "    end\n",
    "    return Hsc\n",
    "end"
   ]
  },
  {
   "cell_type": "code",
   "execution_count": 13,
   "id": "af798251",
   "metadata": {},
   "outputs": [
    {
     "data": {
      "text/plain": [
       "Hsc_new (generic function with 1 method)"
      ]
     },
     "execution_count": 13,
     "metadata": {},
     "output_type": "execute_result"
    }
   ],
   "source": [
    "function Hsc_new(;Λ::Float64)\n",
    "    Hsc = zeros(Float64, Lb, Lb)\n",
    "    for j in 1:Lb\n",
    "        for k in 1:Lb\n",
    "            if j == k\n",
    "                for l in 1:Ls\n",
    "                    for m in 1:Ls\n",
    "                        if l-m == 0\n",
    "                            Hsc[j,k] += 2*Λ*Hbs[j][l]*Hbs[j][m]\n",
    "                        elseif abs(m-l) == 1\n",
    "                            Hsc[j,k] += Λ/2*Hbs[j][l]*Hbs[j][m]\n",
    "                        elseif abs(m-l) == 2\n",
    "                            Hsc[j,k] += Λ/8*Hbs[j][l]*Hbs[j][m]\n",
    "                        else\n",
    "                            continue\n",
    "                        end\n",
    "                    end\n",
    "                end\n",
    "            end\n",
    "        end\n",
    "    end\n",
    "    return Hsc\n",
    "end"
   ]
  },
  {
   "cell_type": "markdown",
   "id": "1d3398bc",
   "metadata": {},
   "source": [
    "### Construction of the full Hamiltonian"
   ]
  },
  {
   "cell_type": "code",
   "execution_count": 14,
   "id": "a1578a0e",
   "metadata": {},
   "outputs": [
    {
     "data": {
      "text/plain": [
       "Htot (generic function with 1 method)"
      ]
     },
     "execution_count": 14,
     "metadata": {},
     "output_type": "execute_result"
    }
   ],
   "source": [
    "function Htot(;γ::Float64, J::Float64, g::Float64, d::Float64, C6::Float64, R::Float64)\n",
    "    Htot = Htit(γ) - J*Hhop + (g/2)*Honsite + (1/2)*Hsc(d,C6,R)\n",
    "    return Htot\n",
    "end"
   ]
  },
  {
   "cell_type": "code",
   "execution_count": 15,
   "id": "a98a0beb",
   "metadata": {},
   "outputs": [
    {
     "data": {
      "text/plain": [
       "Htot_new (generic function with 1 method)"
      ]
     },
     "execution_count": 15,
     "metadata": {},
     "output_type": "execute_result"
    }
   ],
   "source": [
    "function Htot_new(;γ::Float64, J::Float64, g::Float64, Λ::Float64)\n",
    "    Htot = Htit(γ) - J*Hhop + (g/2)*Honsite + (1/2)*Hsc_new(Λ=Λ)\n",
    "    return Htot\n",
    "end"
   ]
  },
  {
   "cell_type": "markdown",
   "id": "31a0b40a",
   "metadata": {},
   "source": [
    "### Plots"
   ]
  },
  {
   "cell_type": "code",
   "execution_count": 16,
   "id": "46502bbb",
   "metadata": {},
   "outputs": [
    {
     "data": {
      "text/plain": [
       "-5.0:0.5:5.0"
      ]
     },
     "execution_count": 16,
     "metadata": {},
     "output_type": "execute_result"
    }
   ],
   "source": [
    "J = 1.0;\n",
    "g = 1.0;\n",
    "γs = 0.0:1.0:10.0;\n",
    "Λs = -5.0:0.5:5.0"
   ]
  },
  {
   "cell_type": "code",
   "execution_count": 17,
   "id": "0f7b6c6a",
   "metadata": {},
   "outputs": [],
   "source": [
    "Dict1 = Dict{Float64, Vector{Vector{Float64}}}(i=>[] for i in Λs);"
   ]
  },
  {
   "cell_type": "code",
   "execution_count": null,
   "id": "4341c04c",
   "metadata": {},
   "outputs": [],
   "source": [
    "for Λ in Λs\n",
    "    for γ in γs\n",
    "        H = Htot_new(γ=γ, J=1.0, g=1.0, Λ=Λ)\n",
    "        eigs = eigvals(H)\n",
    "        push!(Dict1[Λ], eigs)\n",
    "    end\n",
    "end"
   ]
  },
  {
   "cell_type": "code",
   "execution_count": null,
   "id": "33582587",
   "metadata": {},
   "outputs": [],
   "source": [
    "# Plot the diagrams w.r.t γ\n",
    "fontsize_theme = Theme(fontsize = 45)\n",
    "set_theme!(fontsize_theme)\n",
    "\n",
    "for Λ in Λs\n",
    "    eigs = Dict1[Λ];\n",
    "    eigs_mat = zeros(Float64, length(γs), Lb);\n",
    "    for i in 1:length(γs)\n",
    "        eigs_mat[i,:] = eigs[i]\n",
    "    end\n",
    "    \n",
    "    f = Figure(resolution=(800,800))\n",
    "    ax = Axis(f[1,1], xlabel=L\"\\gamma\", ylabel=L\"\\epsilon\")\n",
    "    ax.title = \"Λ=$Λ\"\n",
    "    for i in 1:Lb\n",
    "        lines!(ax, γs, eigs_mat[:,i])\n",
    "    end\n",
    "    save(\"/Users/tianyiyan/Desktop/Chaos/juliapics/spectrum/Λ=$Λ.png\",f)\n",
    "end"
   ]
  },
  {
   "cell_type": "code",
   "execution_count": null,
   "id": "ffc49481",
   "metadata": {},
   "outputs": [],
   "source": []
  }
 ],
 "metadata": {
  "kernelspec": {
   "display_name": "Julia 1.7.1",
   "language": "julia",
   "name": "julia-1.7"
  },
  "language_info": {
   "file_extension": ".jl",
   "mimetype": "application/julia",
   "name": "julia",
   "version": "1.7.2"
  }
 },
 "nbformat": 4,
 "nbformat_minor": 5
}
