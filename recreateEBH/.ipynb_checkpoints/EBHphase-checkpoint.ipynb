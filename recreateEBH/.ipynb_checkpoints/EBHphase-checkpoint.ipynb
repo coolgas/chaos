{
 "cells": [
  {
   "cell_type": "code",
   "execution_count": 1,
   "id": "9c04b5e6",
   "metadata": {},
   "outputs": [],
   "source": [
    "using ITensors"
   ]
  },
  {
   "cell_type": "code",
   "execution_count": 15,
   "id": "0307600a",
   "metadata": {},
   "outputs": [],
   "source": [
    "N = 3\n",
    "sites = siteinds(\"Boson\",N;conserve_number=true,dim=61);"
   ]
  },
  {
   "cell_type": "code",
   "execution_count": 16,
   "id": "1ec66f62",
   "metadata": {},
   "outputs": [
    {
     "data": {
      "text/plain": [
       "EBH (generic function with 1 method)"
      ]
     },
     "execution_count": 16,
     "metadata": {},
     "output_type": "execute_result"
    }
   ],
   "source": [
    "# We used the open boundary condition\n",
    "function EBH(;N::Int64, γ::Float64, J::Float64, g::Float64, C6::Float64, R::Float64, d::Float64)\n",
    "    # the considered soft-core interactions\n",
    "    Λ11 = C6/R^6\n",
    "    Λ12 = C6/(1*d^6+R^6)\n",
    "    Λ13 = C6/(2^6*d^6+R^6)\n",
    "    \n",
    "    ampo = OpSum()\n",
    "    for j in 1:N-1\n",
    "        ampo += -J,\"Adag\",j,\"A\",j+1\n",
    "        ampo += -J,\"A\",j,\"Adag\",j+1\n",
    "        ampo += Λ12,\"N\",j,\"N\",j+1\n",
    "    end\n",
    "    \n",
    "    for j in 1:N\n",
    "        ampo += -(j-(N+1)/2)*γ,\"N\",j\n",
    "        ampo += g/2,\"N\",j,\"N\",j\n",
    "        ampo += -g/2,\"N\",j\n",
    "        ampo += Λ11,\"N\",j,\"N\",j\n",
    "    end\n",
    "    \n",
    "    for j in 1:N-2\n",
    "        ampo += Λ13,\"N\",j,\"N\",j+2\n",
    "    end\n",
    "    \n",
    "    H = MPO(ampo, sites)\n",
    "    return H\n",
    "end\n",
    "    "
   ]
  },
  {
   "cell_type": "code",
   "execution_count": 17,
   "id": "8386647b",
   "metadata": {
    "scrolled": true
   },
   "outputs": [],
   "source": [
    "init = [\"20\" for i in 1:N]\n",
    "psi0 = randomMPS(sites,init);"
   ]
  },
  {
   "cell_type": "code",
   "execution_count": 18,
   "id": "f69bb69f",
   "metadata": {},
   "outputs": [],
   "source": [
    "sweeps = Sweeps(8)\n",
    "setmaxdim!(sweeps,40,80,400,400,450,450,500,500)\n",
    "setcutoff!(sweeps, 1E-16)"
   ]
  },
  {
   "cell_type": "code",
   "execution_count": 19,
   "id": "b90794c1",
   "metadata": {},
   "outputs": [],
   "source": [
    "H = EBH(N=N,γ=1.0,J=1.0,g=0.05,C6=100.0,R=3.0,d=1.5);"
   ]
  },
  {
   "cell_type": "code",
   "execution_count": 20,
   "id": "b9879175",
   "metadata": {
    "scrolled": true
   },
   "outputs": [
    {
     "name": "stdout",
     "output_type": "stream",
     "text": [
      "After sweep 1 energy=252.316948376627 maxlinkdim=9 maxerr=0.00E+00 time=0.022\n",
      "After sweep 2 energy=249.172936966605 maxlinkdim=17 maxerr=0.00E+00 time=0.082\n",
      "After sweep 3 energy=247.999601488002 maxlinkdim=25 maxerr=0.00E+00 time=0.238\n",
      "After sweep 4 energy=247.528792735580 maxlinkdim=33 maxerr=0.00E+00 time=0.402\n",
      "After sweep 5 energy=247.344608806136 maxlinkdim=41 maxerr=7.62E-18 time=0.683\n",
      "After sweep 6 energy=247.270349370691 maxlinkdim=43 maxerr=2.94E-17 time=0.843\n",
      "After sweep 7 energy=247.238871186624 maxlinkdim=43 maxerr=8.13E-17 time=0.863\n",
      "After sweep 8 energy=247.224759352020 maxlinkdim=44 maxerr=2.22E-17 time=0.890\n"
     ]
    }
   ],
   "source": [
    "energy, psi = dmrg(H,psi0,sweeps);"
   ]
  },
  {
   "cell_type": "code",
   "execution_count": null,
   "id": "22b32207",
   "metadata": {},
   "outputs": [],
   "source": []
  }
 ],
 "metadata": {
  "kernelspec": {
   "display_name": "Julia 1.7.1",
   "language": "julia",
   "name": "julia-1.7"
  },
  "language_info": {
   "file_extension": ".jl",
   "mimetype": "application/julia",
   "name": "julia",
   "version": "1.7.2"
  }
 },
 "nbformat": 4,
 "nbformat_minor": 5
}
