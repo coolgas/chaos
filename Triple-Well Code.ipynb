{
 "cells": [
  {
   "cell_type": "code",
   "execution_count": 104,
   "metadata": {},
   "outputs": [],
   "source": [
    "import numpy as np\n",
    "import matplotlib.pyplot as plt\n",
    "from numpy import linalg, exp\n",
    "from scipy.special import gamma\n",
    "from scipy.optimize import curve_fit"
   ]
  },
  {
   "cell_type": "markdown",
   "metadata": {},
   "source": [
    "## Expansion in Hilbert Space - Method 1\n",
    "\n",
    "Gary's Hamiltonian:\n",
    "\n",
    "$\\hat{H} = \\sum_j^{L}\\Gamma_j\\hat{n}_{j}-J\\sum_{\\langle i,j\\rangle}^{L}\\hat{a}_{i}^{\\dagger}\\hat{a}_{j}+\\frac{g}{2}\\sum_{j}^{L}\\hat{n}_{j}(\\hat{n}_j - 1)+\\frac{1}{2}\\sum_{i, j}^{L}\\Lambda_{i,j}\\hat{n}_{i}\\hat{n}_{j}$\n",
    "\n",
    "Need to expand in Hilbert space for all the interactions of the wells.\n",
    "\n",
    "In order to expand in Hilbert space, need to calculate tensor product for each of the wells, for an empty well use the identity matrix. Calculate all terms in Hamiltonian. Need to conserve particle number $N$"
   ]
  },
  {
   "cell_type": "code",
   "execution_count": 2,
   "metadata": {},
   "outputs": [],
   "source": [
    "n = 5\n",
    "x = range(1, n+1)\n",
    "x = np.array(x)"
   ]
  },
  {
   "cell_type": "markdown",
   "metadata": {},
   "source": [
    "Matrix representation of annihilation and creation operators \n",
    "\n",
    "$a^\\dagger$ = \\begin{pmatrix}\n",
    "0 & 0 & 0 & 0 & \\dots & 0 & \\dots \\\\\n",
    "\\sqrt{1} & 0 & 0 & 0 & \\dots & 0 & \\dots \\\\\n",
    "0 & \\sqrt{2} & 0 & 0 & \\dots & 0 & \\dots \\\\\n",
    "0 & 0 & \\sqrt{3} & 0 & \\dots & 0 & \\dots \\\\\n",
    "\\vdots & \\vdots & \\vdots & \\ddots & \\ddots & \\dots & \\dots \\\\\n",
    "0 & 0 & 0 & \\dots & \\sqrt{n} & 0 & \\dots & \\\\\n",
    "\\vdots & \\vdots & \\vdots & \\vdots & \\vdots & \\ddots & \\ddots \\end{pmatrix}\n",
    "\n",
    "\n",
    "$a$ =\\begin{pmatrix}\n",
    "0 & \\sqrt{1} & 0 & 0 & \\dots & 0 & \\dots \\\\\n",
    "0 & 0 & \\sqrt{2} & 0 & \\dots & 0 & \\dots \\\\\n",
    "0 & 0 & 0 & \\sqrt{3} & \\dots & 0 & \\dots \\\\\n",
    "0 & 0 & 0 & 0 & \\ddots & \\vdots & \\dots \\\\\n",
    "\\vdots & \\vdots & \\vdots & \\vdots & \\ddots & \\sqrt{n} & \\dots \\\\\n",
    "0 & 0 & 0 & 0 & \\dots & 0 & \\ddots \\\\\n",
    "\\vdots & \\vdots & \\vdots & \\vdots & \\vdots & \\vdots & \\ddots \\end{pmatrix}"
   ]
  },
  {
   "cell_type": "code",
   "execution_count": 3,
   "metadata": {},
   "outputs": [],
   "source": [
    "rootx = np.sqrt(x)"
   ]
  },
  {
   "cell_type": "code",
   "execution_count": 4,
   "metadata": {},
   "outputs": [],
   "source": [
    "a = np.diag(rootx, 1)\n",
    "adagger = np.transpose(a)\n",
    "I = np.identity(n+1)"
   ]
  },
  {
   "cell_type": "markdown",
   "metadata": {},
   "source": [
    "And the number operator is defined by:\n",
    "$\\hat{N}_i=\\hat{a}_i^\\dagger \\hat{a}_i$"
   ]
  },
  {
   "cell_type": "code",
   "execution_count": 5,
   "metadata": {},
   "outputs": [],
   "source": [
    "#number operator\n",
    "N = adagger @ a"
   ]
  },
  {
   "cell_type": "markdown",
   "metadata": {},
   "source": [
    "Expand for all different terms in the Hamiltonian"
   ]
  },
  {
   "cell_type": "code",
   "execution_count": 6,
   "metadata": {},
   "outputs": [],
   "source": [
    "NN = N @ N\n",
    "NN_I_1 = np.kron(np.kron(NN,I), I)\n",
    "NN_I_2 = np.kron(I, np.kron(NN,I))\n",
    "NN_I_3 = np.kron(I, np.kron(I,NN))\n",
    "\n",
    "N_1_N_2 = np.kron(np.kron(N, N), I)\n",
    "N_2_N_3 = np.kron(I, np.kron(N, N))\n",
    "N_1_N_3 = np.kron(N, np.kron(I,N))"
   ]
  },
  {
   "cell_type": "code",
   "execution_count": 7,
   "metadata": {},
   "outputs": [],
   "source": [
    "adagger_a1 = np.kron(np.kron(adagger, a), I)\n",
    "adagger_a2 = np.kron(np.kron(a, adagger), I)\n",
    "adagger_a3 = np.kron(I, np.kron(adagger, a))\n",
    "adagger_a4 = np.kron(I, np.kron(a, adagger))"
   ]
  },
  {
   "cell_type": "code",
   "execution_count": 8,
   "metadata": {},
   "outputs": [],
   "source": [
    "N_sing_1 = np.kron(np.kron(N, I), I)\n",
    "N_sing_2 = np.kron(I, np.kron(N, I))\n",
    "N_sing_3 = np.kron(I, np.kron(I, N))"
   ]
  },
  {
   "cell_type": "code",
   "execution_count": 9,
   "metadata": {},
   "outputs": [],
   "source": [
    "#constants\n",
    "gammatest = 0\n",
    "J = 1.0\n",
    "g = -0.05\n",
    "d = 1.5\n",
    "C6 = 100.0\n",
    "R = 3.0"
   ]
  },
  {
   "cell_type": "markdown",
   "metadata": {},
   "source": [
    "$\\Lambda_{i,j} = C_6/[|i-j|^6 d^6 + R^6]$ is the soft-core interaction between sites $i$ and $j$"
   ]
  },
  {
   "cell_type": "code",
   "execution_count": 10,
   "metadata": {},
   "outputs": [],
   "source": [
    "def lamda(delta, d, C6, R):\n",
    "    val = C6 / (((delta)**6)*(d**6) + (R**6))\n",
    "    return val"
   ]
  },
  {
   "cell_type": "code",
   "execution_count": 30,
   "metadata": {},
   "outputs": [],
   "source": [
    "#Full Hamiltonian before 1/2 in softcore term is removed\n",
    "HMTLN_GAR = gammatest*(N_sing_1 - N_sing_3) - J*(adagger_a1 + adagger_a2 + adagger_a3 + adagger_a4) + (g/2)*(NN_I_1 - N_sing_1 + NN_I_2 - N_sing_2 + NN_I_3 - N_sing_3) + (1/2)*(lamda(0,d,C6,R)*(NN_I_1 + NN_I_2 + NN_I_3) + lamda(1,d,C6,R)*(2*N_1_N_2 + 2*N_2_N_3) + lamda(2,d,C6,R)*(2*N_1_N_3))"
   ]
  },
  {
   "cell_type": "code",
   "execution_count": 198,
   "metadata": {},
   "outputs": [
    {
     "data": {
      "image/png": "[encoded data removed]",
      "text/plain": [
       "<Figure size 432x288 with 1 Axes>"
      ]
     },
     "metadata": {
      "needs_background": "light"
     },
     "output_type": "display_data"
    }
   ],
   "source": [
    "test_array_new = []\n",
    "gamma_test_new = np.linspace(0, 2.5, 15)\n",
    "HMTLN_2 = []\n",
    "\n",
    "n = 5\n",
    "\n",
    "for vals in gamma_test_new:\n",
    "    HMTLN_2 = vals*(N_sing_1 -  N_sing_3) - J*(adagger_a1 + adagger_a2 + adagger_a3 + adagger_a4) + (g/2)*(NN_I_1 + NN_I_2 + NN_I_3 - N_sing_1 - N_sing_2 - N_sing_3) + (1/2)*((lamda(0,d,C6,R)*(NN_I_1 + NN_I_2 + NN_I_3)) + (2*lamda(1,d,C6,R)*(N_1_N_2 + N_2_N_3)) + (2*lamda(2,d,C6,R)*(N_1_N_3)))\n",
    "    total_N = N_sing_1 + N_sing_2 + N_sing_3\n",
    "    nums = np.diag(total_N.round())\n",
    "    indices = np.where(nums != n)    \n",
    "    HMTLN_test = np.delete(np.delete(HMTLN_2, indices, 0), indices, 1)\n",
    "    \n",
    "    eigenvals_new = linalg.eigvals(HMTLN_test)\n",
    "    eigenvals_new = np.sort(eigenvals_new)\n",
    "    test_array_new.append(eigenvals_new)\n",
    "    #can normalise eigenvalues\n",
    "    #newList_1 = [x / n for x in test_array_new]\n",
    "    \n",
    "plt.plot(gamma_test_new, test_array_new)\n",
    "plt.xlabel('g', fontsize = '12')\n",
    "plt.ylabel('E/(JN)', fontsize = '12')\n",
    "plt.show()"
   ]
  },
  {
   "cell_type": "markdown",
   "metadata": {},
   "source": [
    "## Method 2 for expansion in Hilbert space \n",
    "\n",
    "Before you expand in all Hilbert space and then delete matrix elements that do not conserve $N$. Here, you only calculate the matrix values which conserve particle number"
   ]
  },
  {
   "cell_type": "code",
   "execution_count": 13,
   "metadata": {},
   "outputs": [],
   "source": [
    "Ls = 3\n",
    "Na = 5"
   ]
  },
  {
   "cell_type": "code",
   "execution_count": 14,
   "metadata": {},
   "outputs": [
    {
     "name": "stdout",
     "output_type": "stream",
     "text": [
      "total permutations: 21\n"
     ]
    }
   ],
   "source": [
    "#All permutations of triple-well system when N = Na\n",
    "\n",
    "def sums(length, total_sum):\n",
    "    if length == 1:\n",
    "        yield (total_sum,)\n",
    "    else:\n",
    "        for value in range(total_sum + 1):\n",
    "            for permutation in sums(length - 1, total_sum - value):\n",
    "                yield (value,) + permutation\n",
    "\n",
    "L = list(sums(Ls, Na))\n",
    "print('total permutations:',len(L))"
   ]
  },
  {
   "cell_type": "code",
   "execution_count": 15,
   "metadata": {},
   "outputs": [],
   "source": [
    "#redefine variables\n",
    "Hbs = L\n",
    "lH = len(L)"
   ]
  },
  {
   "cell_type": "code",
   "execution_count": 16,
   "metadata": {},
   "outputs": [],
   "source": [
    "##Non Universal - checking error - only for triple well\n",
    "#Hopping term from Hamiltonian\n",
    "\n",
    "def ApAm(m, Hb, Na, lH, array):\n",
    "    for j in range(0,lH):\n",
    "        if Hb[j][m] < Na and Hb[j][m+1] > 0:\n",
    "            a = Hb[j][m] + 1\n",
    "            b = Hb[j][m+1] - 1\n",
    "            if m == 0:\n",
    "                new_ind = Hb.index(((a), (b), (Na - (a+b))))\n",
    "            elif m == 1:\n",
    "                new_ind = Hb.index(((Na - (a+b)), (a), (b)))\n",
    "            array[j][new_ind] += np.sqrt((Hb[j][m]+1)*(Hb[j][m+1]))"
   ]
  },
  {
   "cell_type": "code",
   "execution_count": 17,
   "metadata": {},
   "outputs": [],
   "source": [
    "#onsite interaction\n",
    "def HGaronsite(Hb, g, arr, lH):\n",
    "    for j in range(0, lH):\n",
    "        for k in range(0, lH):\n",
    "            if j == k:\n",
    "                full_sum = Hb[j][0]**2 + Hb[j][1]**2 + Hb[j][2]**2 - Hb[j][0] - Hb[j][1] - Hb[j][2]\n",
    "                arr[j][k] += full_sum"
   ]
  },
  {
   "cell_type": "code",
   "execution_count": 18,
   "metadata": {},
   "outputs": [],
   "source": [
    "#tilt interaction\n",
    "def HGartit(Hb, gamma, arr, lH):\n",
    "    for j in range(0, lH):\n",
    "        for k in range(0, lH):\n",
    "            if j == k:\n",
    "                full_sum_5 = gamma*Hb[j][0]- gamma*Hb[j][2]\n",
    "                arr[j][k] += full_sum_5"
   ]
  },
  {
   "cell_type": "code",
   "execution_count": 19,
   "metadata": {},
   "outputs": [],
   "source": [
    "#soft-core interaction - before 1/2 in Hamiltonian has been changed\n",
    "def HGarSoftCore(Hb, arr, d, C6, R, lH):\n",
    "    for j in range(0, lH):\n",
    "        for k in range(0, lH):\n",
    "            if j == k:\n",
    "                full_sum_2 = lamda(0,d,C6,R)*(Hb[j][0]*Hb[j][0]+Hb[j][1]*Hb[j][1]+Hb[j][2]*Hb[j][2]) + 2*lamda(1,d,C6,R)*(Hb[j][0]*Hb[j][1]+Hb[j][1]*Hb[j][2]) + 2*lamda(2,d,C6,R)*(Hb[j][0]*Hb[j][2])\n",
    "                arr[j][k] += full_sum_2"
   ]
  },
  {
   "cell_type": "code",
   "execution_count": 20,
   "metadata": {},
   "outputs": [],
   "source": [
    "#all variables\n",
    "gamma = np.linspace(0, 2.5, 20)\n",
    "J = 1.0\n",
    "g = -0.05\n",
    "d = 1.5\n",
    "C6 = 100.0\n",
    "R = 3.0"
   ]
  },
  {
   "cell_type": "code",
   "execution_count": 21,
   "metadata": {},
   "outputs": [],
   "source": [
    "Honsite = np.zeros(shape = (lH, lH))\n",
    "HSoftCore = np.zeros(shape = (lH, lH))\n",
    "HHop = np.zeros(shape = (lH, lH))\n",
    "\n",
    "ApAm(0, Hbs, Na, lH, HHop)\n",
    "ApAm(1, Hbs, Na, lH, HHop)\n",
    "\n",
    "transp = np.transpose(HHop)\n",
    "HFull = HHop + transp\n",
    "\n",
    "HGaronsite(Hbs, g, Honsite, lH)\n",
    "HGarSoftCore(Hbs, HSoftCore, d, C6, R, lH)\n",
    "\n",
    "full_eig = []\n",
    "for gammas in gamma:\n",
    "    Htit = np.zeros(shape = (lH, lH))\n",
    "    HGartit(Hbs, gammas, Htit, lH)\n",
    "    Htot = Htit - (J*HFull) + (g/2)*(Honsite) + (1/2)*(HSoftCore)\n",
    "    full_eig.append(np.sort(linalg.eigvals(Htot)))"
   ]
  },
  {
   "cell_type": "code",
   "execution_count": 36,
   "metadata": {},
   "outputs": [
    {
     "data": {
      "image/png": "[encoded data removed]",
      "text/plain": [
       "<Figure size 432x288 with 1 Axes>"
      ]
     },
     "metadata": {
      "needs_background": "light"
     },
     "output_type": "display_data"
    }
   ],
   "source": [
    "#Checking both methods produce the same results\n",
    "plt.plot(gamma_test_new, test_array_new)\n",
    "plt.plot(gamma, full_eig, 'r.')\n",
    "plt.xlabel(r'$\\gamma$', fontsize = 20)\n",
    "plt.ylabel(r'$\\epsilon$', fontsize = 20)\n",
    "plt.show()"
   ]
  },
  {
   "cell_type": "markdown",
   "metadata": {},
   "source": [
    "## Level Statistics\n",
    "\n",
    "The transition to quantum chaos can be characterised by probing the distribution $P(s)$ of the spacings $s$ between nearest unfolded energy levels. \n",
    "\n",
    "Integrable systems - $P_p(s) = e^{-s}$ - Poisson distribution\n",
    "\n",
    "Chaotic - $P_{WD}(s) = \\frac{\\pi s}{2}e^{-\\pi s^2/4}$ - Wigner-Dyson distribution"
   ]
  },
  {
   "cell_type": "code",
   "execution_count": 95,
   "metadata": {},
   "outputs": [
    {
     "name": "stdout",
     "output_type": "stream",
     "text": [
      "total permutations: 1326\n"
     ]
    }
   ],
   "source": [
    "##Change value of N\n",
    "\n",
    "Na1 = 50\n",
    "L1 = list(sums(Ls, Na1))\n",
    "print('total permutations:',len(L1))\n",
    "\n",
    "#redefine variables\n",
    "Hbs1 = L1\n",
    "lH1 = len(L1)"
   ]
  },
  {
   "cell_type": "code",
   "execution_count": 96,
   "metadata": {},
   "outputs": [],
   "source": [
    "Honsite = np.zeros(shape = (lH1, lH1))\n",
    "HSoftCore = np.zeros(shape = (lH1, lH1))\n",
    "HHop = np.zeros(shape = (lH1, lH1))\n",
    "\n",
    "ApAm(0, Hbs1, Na1, lH1, HHop)\n",
    "ApAm(1, Hbs1, Na1, lH1, HHop)\n",
    "\n",
    "transp = np.transpose(HHop)\n",
    "HFull = HHop + transp\n",
    "\n",
    "HGaronsite(Hbs1, g, Honsite, lH1)\n",
    "HGarSoftCore(Hbs1, HSoftCore, d, C6, R, lH1)\n",
    "\n",
    "Htit = np.zeros(shape = (lH1, lH1))\n",
    "HGartit(Hbs1, 0, Htit, lH1)\n",
    "Htotlevstat = Htit - (J*HFull) + (g/2)*(Honsite) + (1/2)*(HSoftCore)\n",
    "eigenvals_newlevstat = np.sort(linalg.eigvals(Htotlevstat))\n",
    "diff_listlevstat = [(eigenvals_newlevstat[i] - eigenvals_newlevstat[i-1]) for i in range(1, len(eigenvals_newlevstat))]"
   ]
  },
  {
   "cell_type": "code",
   "execution_count": 97,
   "metadata": {},
   "outputs": [
    {
     "data": {
      "image/png": "[encoded data removed]",
      "text/plain": [
       "<Figure size 432x288 with 1 Axes>"
      ]
     },
     "metadata": {
      "needs_background": "light"
     },
     "output_type": "display_data"
    }
   ],
   "source": [
    "#red - poisson, blue-WD\n",
    "s = np.linspace(0, 8, 100)\n",
    "poisson = np.exp(-s)\n",
    "wigner = ((np.pi * s)/2) * np.exp((-np.pi * s**2)/4)\n",
    "plt.plot(s, poisson, 'r-')\n",
    "plt.plot(s, wigner, 'b-')\n",
    "plt.show()"
   ]
  },
  {
   "cell_type": "markdown",
   "metadata": {},
   "source": [
    "## Unfolding procedure \n",
    "\n",
    "Requires local re-scaling of the energies so the mean level spacing is equal to one. Essentially this is achieved by dividing the spacings between neighbouring energy levels by the average of spacings in their vicinity.\n",
    "\n",
    "$P(s) = \\frac{E_{i+1} - E{i}}{\\Delta (E)}$"
   ]
  },
  {
   "cell_type": "markdown",
   "metadata": {},
   "source": [
    "Ask Tianyi for more details - \n",
    "\n",
    "https://iopscience-iop-org.nottingham.idm.oclc.org/article/10.1088/0022-3700/15/23/012/pdf\n",
    "\n",
    "Equations 7 and 8"
   ]
  },
  {
   "cell_type": "code",
   "execution_count": 98,
   "metadata": {},
   "outputs": [],
   "source": [
    "diff_list = [(eigenvals_newlevstat[i] - eigenvals_newlevstat[i-1]) for i in range(1, len(eigenvals_newlevstat))]"
   ]
  },
  {
   "cell_type": "code",
   "execution_count": 99,
   "metadata": {},
   "outputs": [],
   "source": [
    "v = 5\n",
    "index1 = int((v-1)/2)-1\n",
    "index2 = len(diff_list)-index1-1\n",
    "diffs_dropped = diff_list[index1:index2]"
   ]
  },
  {
   "cell_type": "code",
   "execution_count": 100,
   "metadata": {},
   "outputs": [],
   "source": [
    "def avg_spacing(differences, i, v):\n",
    "    drop_index = int((v-1)/2)\n",
    "    assert i-index1 > 0\n",
    "    assert i+index1 <= len(differences)\n",
    "    sums = 0\n",
    "    for k in range(-drop_index,drop_index+1):\n",
    "        sums += differences[(i+k)-1]\n",
    "    return sums/v"
   ]
  },
  {
   "cell_type": "code",
   "execution_count": 101,
   "metadata": {},
   "outputs": [],
   "source": [
    "new_diffs = []\n",
    "v = 5\n",
    "for i in range(len(diffs_dropped)):\n",
    "    drop_index = int((v-1)/2)\n",
    "    if i-drop_index > 0 and i+drop_index <= len(diffs_dropped):\n",
    "        new_diffs.append(diffs_dropped[i-1]/avg_spacing(diffs_dropped, i, v))"
   ]
  },
  {
   "cell_type": "code",
   "execution_count": 102,
   "metadata": {},
   "outputs": [
    {
     "data": {
      "image/png": "[encoded data removed]",
      "text/plain": [
       "<Figure size 432x288 with 1 Axes>"
      ]
     },
     "metadata": {
      "needs_background": "light"
     },
     "output_type": "display_data"
    }
   ],
   "source": [
    "plt.hist(new_diffs, bins = 50, density=True)\n",
    "plt.plot(s, poisson, 'r-')\n",
    "plt.plot(s, wigner, 'b-')\n",
    "plt.xlim(0,4)\n",
    "plt.ylim(0,0.8)\n",
    "plt.show()"
   ]
  },
  {
   "cell_type": "markdown",
   "metadata": {},
   "source": [
    "## Brody Distribution\n",
    "\n",
    "Proximity of level spacings to Poisson or Wigner distribution can be quantified using a chaos indicator $\\beta$, obtained by fitting the Brody distribution to the level statistics above:\n",
    "\n",
    "\\begin{equation}\n",
    "P_\\beta (s) = (\\beta+1) b s^{\\beta} \\exp(-b s^{\\beta+1}), \\hspace{0.4 cm} \n",
    "b =\\left[ \\Gamma \\left( \\frac{\\beta+2}{\\beta+1} \\right) \\right]^{\\beta+1}\n",
    "\\label{Eq:beta}\n",
    "\\end{equation}\n",
    "\n",
    "For chaotic systems, $\\beta \\sim 1$ and for a Poissonian distribution, $\\beta \\sim 0$.\n",
    "\n",
    "Where $b$ is a factor dependent on $\\beta$, and $\\Gamma(x)$ is the gamma function."
   ]
  },
  {
   "cell_type": "code",
   "execution_count": 106,
   "metadata": {},
   "outputs": [],
   "source": [
    "#coding equation\n",
    "beta = 0\n",
    "gammafun = (gamma((beta+2)/(beta+1)))\n",
    "b = gammafun**(beta+1)\n",
    "brody1 = (beta + 1)*b*(s**beta)*exp(-b*(s**(beta+1)))"
   ]
  },
  {
   "cell_type": "code",
   "execution_count": 108,
   "metadata": {},
   "outputs": [],
   "source": [
    "def brody(s, beta):\n",
    "    return (beta + 1)*b*(s**beta)*exp(-b*(s**(beta+1)))"
   ]
  },
  {
   "cell_type": "code",
   "execution_count": 117,
   "metadata": {},
   "outputs": [
    {
     "name": "stdout",
     "output_type": "stream",
     "text": [
      "22 22\n"
     ]
    },
    {
     "data": {
      "text/plain": [
       "<Figure size 432x288 with 0 Axes>"
      ]
     },
     "metadata": {},
     "output_type": "display_data"
    }
   ],
   "source": [
    "#Using this function as it works - could potentially use something else\n",
    "(n, bins1, patches) = plt.hist(new_diffs, bins = 'auto', density = True)\n",
    "plt.clf()\n",
    "data_entries1 = n\n",
    "bincenters1 = np.array([0.5 * (bins1[i] + bins1[i+1]) for i in range(len(bins1)-1)])\n",
    "print(len(data_entries1), len(bincenters1))"
   ]
  },
  {
   "cell_type": "code",
   "execution_count": 119,
   "metadata": {},
   "outputs": [],
   "source": [
    "#Fit curve to level statistics\n",
    "popt, pcov = curve_fit(brody, xdata=bincenters1, ydata=data_entries1)"
   ]
  },
  {
   "cell_type": "code",
   "execution_count": 122,
   "metadata": {},
   "outputs": [
    {
     "data": {
      "image/png": "[encoded data removed]",
      "text/plain": [
       "<Figure size 432x288 with 1 Axes>"
      ]
     },
     "metadata": {
      "needs_background": "light"
     },
     "output_type": "display_data"
    }
   ],
   "source": [
    "#Plot chaos indicator on plot to see if its working\n",
    "plt.hist(new_diffs, bins = 'auto', density = True)\n",
    "plt.plot(s, poisson, 'r-')\n",
    "plt.plot(s, wigner, 'b-')\n",
    "data = brody(s, popt)\n",
    "plt.plot(s, data, 'y-', label = r'$\\beta =$ %.5f' %(popt))\n",
    "plt.xlim(0,6)\n",
    "plt.legend()\n",
    "plt.show()"
   ]
  },
  {
   "cell_type": "markdown",
   "metadata": {},
   "source": [
    "## Plot of $\\beta$ for varying $\\gamma$"
   ]
  },
  {
   "cell_type": "code",
   "execution_count": 123,
   "metadata": {},
   "outputs": [],
   "source": [
    "gammavals = np.linspace(0, 5, 50)"
   ]
  },
  {
   "cell_type": "code",
   "execution_count": 124,
   "metadata": {},
   "outputs": [
    {
     "data": {
      "text/plain": [
       "<Figure size 432x288 with 0 Axes>"
      ]
     },
     "metadata": {},
     "output_type": "display_data"
    }
   ],
   "source": [
    "#Could definitely produce function to calculate hamiltonian each time - as Tianyi did - this works for me and with limited time\n",
    "# I have kept it\n",
    "\n",
    "#Calculation of the chaos indicator for different gamma values\n",
    "\n",
    "Honsite = np.zeros(shape = (lH1, lH1))\n",
    "HSoftCore = np.zeros(shape = (lH1, lH1))\n",
    "HHop = np.zeros(shape = (lH1, lH1))\n",
    "ApAm(0, Hbs1, Na1, lH1, HHop)\n",
    "ApAm(1, Hbs1, Na1, lH1, HHop)\n",
    "\n",
    "transp = np.transpose(HHop)\n",
    "HFull = HHop + transp\n",
    "\n",
    "HGaronsite(Hbs1, g, Honsite, lH1)\n",
    "HGarSoftCore(Hbs1, HSoftCore, d, C6, R, lH1)\n",
    "\n",
    "betas = []\n",
    "for gammas in gammavals:\n",
    "    Htit = np.zeros(shape = (lH1, lH1))\n",
    "    HGartit(Hbs1, gammas, Htit, lH1)\n",
    "    Htot = Htit - (J*HFull) + (g/2)*(Honsite) + (1/2)*(HSoftCore)\n",
    "    eigenvals_newtest = linalg.eigvals(Htot)\n",
    "    eigenvals_newtest = np.sort(eigenvals_newtest) \n",
    "    diff_listtest = [(eigenvals_newtest[i] - eigenvals_newtest[i-1]) for i in range(1, len(eigenvals_newtest))]\n",
    "    v = 5\n",
    "    index11 = int((v-1)/2)-1\n",
    "    index21 = len(diff_listtest)-index11-1\n",
    "    diffs_dropped1 = diff_listtest[index11:index21]\n",
    "    new_diffstest = []\n",
    "    for i in range(len(diffs_dropped1)):\n",
    "        drop_index = int((v-1)/2)\n",
    "        if i-drop_index > 0 and i+drop_index <= len(diffs_dropped1):\n",
    "            new_diffstest.append(diffs_dropped1[i-1]/avg_spacing(diffs_dropped1, i, v))\n",
    "    (ntest, binstest, patches) = plt.hist(new_diffstest, bins = 'auto', density = True)\n",
    "    plt.clf()\n",
    "    data_entriestest = ntest\n",
    "    bincenterstest = np.array([0.5 * (binstest[i] + binstest[i+1]) for i in range(len(binstest)-1)])\n",
    "    poptest, pcov = curve_fit(brody, xdata=bincenterstest, ydata=data_entriestest)\n",
    "    betas.append(poptest)"
   ]
  },
  {
   "cell_type": "code",
   "execution_count": 127,
   "metadata": {},
   "outputs": [
    {
     "data": {
      "image/png": "[encoded data removed]",
      "text/plain": [
       "<Figure size 432x288 with 1 Axes>"
      ]
     },
     "metadata": {
      "needs_background": "light"
     },
     "output_type": "display_data"
    }
   ],
   "source": [
    "##Higher values of the chaos indicator mean higher signs of quantum chaos\n",
    "plt.plot(gammavals, betas, 'b')\n",
    "plt.xlabel(r'$\\gamma$', fontsize = 18)\n",
    "plt.ylabel(r'$\\beta$', fontsize = 18)\n",
    "plt.xticks(fontsize = 12)\n",
    "plt.yticks(fontsize = 12)\n",
    "plt.show()"
   ]
  },
  {
   "cell_type": "markdown",
   "metadata": {},
   "source": [
    "## Did a similar investigation as above but for varying the onsite interaction $g$. Won't put the code here as its in essence the same but these are the results for N = 50 - but found a maximum value of the quantum chaos for an onsite interaction of -0.05"
   ]
  },
  {
   "cell_type": "code",
   "execution_count": 128,
   "metadata": {},
   "outputs": [
    {
     "name": "stdout",
     "output_type": "stream",
     "text": [
      "0.0 [0.19058994]\n",
      "0.10204081632653061 [0.56477014]\n",
      "0.20408163265306123 [0.74589051]\n",
      "0.30612244897959184 [0.82661602]\n",
      "0.40816326530612246 [0.68724592]\n",
      "0.5102040816326531 [0.64598569]\n",
      "0.6122448979591837 [0.72636821]\n",
      "0.7142857142857143 [0.72269158]\n",
      "0.8163265306122449 [0.8236623]\n",
      "0.9183673469387755 [0.70157456]\n",
      "1.0204081632653061 [0.81069498]\n",
      "1.1224489795918369 [0.54435688]\n",
      "1.2244897959183674 [0.54194402]\n",
      "1.3265306122448979 [0.57817454]\n",
      "1.4285714285714286 [0.73815727]\n",
      "1.5306122448979593 [0.81609617]\n",
      "1.6326530612244898 [0.98349662]\n",
      "1.7346938775510203 [0.82728032]\n",
      "1.836734693877551 [0.73445185]\n",
      "1.9387755102040818 [0.70802266]\n",
      "2.0408163265306123 [0.72217055]\n",
      "2.142857142857143 [0.5780155]\n",
      "2.2448979591836737 [0.6227758]\n",
      "2.3469387755102042 [0.41347119]\n",
      "2.4489795918367347 [0.51835798]\n",
      "2.5510204081632653 [0.46293972]\n",
      "2.6530612244897958 [0.40773951]\n",
      "2.7551020408163267 [0.30847507]\n",
      "2.857142857142857 [0.30758899]\n",
      "2.9591836734693877 [0.40694579]\n",
      "3.0612244897959187 [0.58625654]\n",
      "3.163265306122449 [0.633121]\n",
      "3.2653061224489797 [0.45328788]\n",
      "3.36734693877551 [0.58704522]\n",
      "3.4693877551020407 [0.48914423]\n",
      "3.5714285714285716 [0.44315883]\n",
      "3.673469387755102 [0.50986873]\n",
      "3.7755102040816326 [0.45281633]\n",
      "3.8775510204081636 [0.47764877]\n",
      "3.979591836734694 [0.37267789]\n",
      "4.081632653061225 [0.36436007]\n",
      "4.183673469387755 [0.28741646]\n",
      "4.285714285714286 [0.35593678]\n",
      "4.387755102040816 [0.36905443]\n",
      "4.4897959183673475 [0.28360503]\n",
      "4.591836734693878 [0.25723589]\n",
      "4.6938775510204085 [0.31668817]\n",
      "4.795918367346939 [0.30947333]\n",
      "4.8979591836734695 [0.29403053]\n",
      "5.0 [0.21642111]\n"
     ]
    }
   ],
   "source": [
    "##Testing results - for different gammas\n",
    "\n",
    "for i in range(len(gammavals)):\n",
    "    print(gammavals[i], betas[i])"
   ]
  },
  {
   "cell_type": "code",
   "execution_count": 130,
   "metadata": {},
   "outputs": [],
   "source": [
    "## e.g. for extreme chaos\n",
    "gammaval = 1.63\n",
    "Honsite = np.zeros(shape = (lH1, lH1))\n",
    "HSoftCore = np.zeros(shape = (lH1, lH1))\n",
    "HHop = np.zeros(shape = (lH1, lH1))\n",
    "\n",
    "ApAm(0, Hbs1, Na1, lH1, HHop)\n",
    "ApAm(1, Hbs1, Na1, lH1, HHop)\n",
    "\n",
    "transp = np.transpose(HHop)\n",
    "HFull = HHop + transp\n",
    "\n",
    "HGaronsite(Hbs1, g, Honsite, lH1)\n",
    "HGarSoftCore(Hbs1, HSoftCore, d, C6, R, lH1)\n",
    "\n",
    "Htit = np.zeros(shape = (lH1, lH1))\n",
    "HGartit(Hbs1, gammaval, Htit, lH1)\n",
    "Htotcheck = Htit - (J*HFull) + (g/2)*(Honsite) + (1/2)*(HSoftCore)\n",
    "eigenvals_check = np.sort(linalg.eigvals(Htotcheck))\n",
    "diff_listcheck = [(eigenvals_check[i] - eigenvals_check[i-1]) for i in range(1, len(eigenvals_check))]"
   ]
  },
  {
   "cell_type": "code",
   "execution_count": 131,
   "metadata": {},
   "outputs": [],
   "source": [
    "v = 5\n",
    "index15 = int((v-1)/2)-1\n",
    "index25 = len(diff_listcheck)-index15-1\n",
    "diffs_droppedcheck = diff_listcheck[index15:index25]"
   ]
  },
  {
   "cell_type": "code",
   "execution_count": 132,
   "metadata": {},
   "outputs": [],
   "source": [
    "new_diffscheck = []\n",
    "v = 5\n",
    "for i in range(len(diffs_droppedcheck)):\n",
    "    drop_index = int((v-1)/2)\n",
    "    if i-drop_index > 0 and i+drop_index <= len(diffs_droppedcheck):\n",
    "        new_diffscheck.append(diffs_droppedcheck[i-1]/avg_spacing(diffs_droppedcheck, i, v))"
   ]
  },
  {
   "cell_type": "code",
   "execution_count": 134,
   "metadata": {},
   "outputs": [
    {
     "data": {
      "image/png": "[encoded data removed]",
      "text/plain": [
       "<Figure size 432x288 with 1 Axes>"
      ]
     },
     "metadata": {
      "needs_background": "light"
     },
     "output_type": "display_data"
    }
   ],
   "source": [
    "plt.hist(new_diffscheck, bins = 'auto', density = True)\n",
    "plt.plot(s, poisson, 'r-')\n",
    "plt.plot(s, wigner, 'b-')\n",
    "plt.show()"
   ]
  },
  {
   "cell_type": "markdown",
   "metadata": {},
   "source": [
    "## Static Shannon Entropy\n",
    "\n",
    "The Shannon entropy, $Sh$, of an eigenstate written in the Fock basis is calculated as a function of energy using the following:\n",
    "\n",
    "$Sh \\equiv -\\sum_{m=1}^D  |C^{m}_j|^2 \\ln |C^{m}_j|^2$\n",
    "\n",
    "where $C^{m}_j$ are the corresponding eigenvectors of the system, summing from $m = 1$ to $D$, the dimension in Hilbert space.\n",
    "\n",
    "This entropy measures the degree of delocalisation of the eigenstates in a given basis\n",
    "\n",
    "As the system transitions into the chaotic regime, eigenstates near the centre of the spectrum are expected to form closer to the eigenstates of the GOE full random matrices.\n",
    "\n",
    "The eigenstates of the GOE random matrices are mathematically equivalent and hence lead to around the same value of the Shannon entropy, $Sh_{GOE} \\sim \\ln(0.48 D)$"
   ]
  },
  {
   "cell_type": "code",
   "execution_count": 135,
   "metadata": {},
   "outputs": [],
   "source": [
    "Ls2 = 3\n",
    "Na2 = 50"
   ]
  },
  {
   "cell_type": "code",
   "execution_count": 136,
   "metadata": {},
   "outputs": [
    {
     "name": "stdout",
     "output_type": "stream",
     "text": [
      "total permutations: 1326\n"
     ]
    }
   ],
   "source": [
    "L2 = list(sums(Ls2, Na2))\n",
    "print('total permutations:',len(L2))"
   ]
  },
  {
   "cell_type": "code",
   "execution_count": 137,
   "metadata": {},
   "outputs": [],
   "source": [
    "lH2 = len(L2)\n",
    "Hbs2 = L2"
   ]
  },
  {
   "cell_type": "code",
   "execution_count": 201,
   "metadata": {},
   "outputs": [],
   "source": [
    "##Adjust gamma value here, for linear behaviour the plot should be spread in Hilbert space\n",
    "# For chaos - region should be less spread and close to GOE matrices\n",
    "gam = 1.63"
   ]
  },
  {
   "cell_type": "code",
   "execution_count": 202,
   "metadata": {},
   "outputs": [],
   "source": [
    "Honsite = np.zeros(shape = (lH2, lH2))\n",
    "HSoftCore = np.zeros(shape = (lH2, lH2))\n",
    "HHop = np.zeros(shape = (lH2, lH2))\n",
    "\n",
    "ApAm(0, Hbs2, Na2, lH2, HHop)\n",
    "ApAm(1, Hbs2, Na2, lH2, HHop)\n",
    "\n",
    "transp = np.transpose(HHop)\n",
    "HFull = HHop + transp\n",
    "\n",
    "HGaronsite(Hbs2, g, Honsite, lH2)\n",
    "HGarSoftCore(Hbs2, HSoftCore, d, C6, R, lH2)\n",
    "\n",
    "Htit = np.zeros(shape = (lH2, lH2))\n",
    "HGartit(Hbs2, gam, Htit, lH2)\n",
    "Htotsha = Htit - (J*HFull) + (g/2)*(Honsite) + (1/2)*(HSoftCore)\n",
    "eigenvals_newsha, eigenvecs_newsha = np.linalg.eig(Htotsha)"
   ]
  },
  {
   "cell_type": "code",
   "execution_count": 203,
   "metadata": {},
   "outputs": [],
   "source": [
    "D = np.log(0.48*len(eigenvals_newsha))"
   ]
  },
  {
   "cell_type": "code",
   "execution_count": 204,
   "metadata": {},
   "outputs": [],
   "source": [
    "shannon1 = []\n",
    "for i in range(len(eigenvals_newsha)):\n",
    "    val = (eigenvecs_newsha[:, i]**2)\n",
    "    ent = -((val)*np.log(val))\n",
    "    shannon1.append(ent)"
   ]
  },
  {
   "cell_type": "code",
   "execution_count": 205,
   "metadata": {},
   "outputs": [],
   "source": [
    "##manipulated array values - could do it differently \n",
    "full_shannon = []\n",
    "for i in range(len(eigenvals_newsha)):\n",
    "    full_shannon.append([eigenvals_newsha[i], sum(shannon1[i])])"
   ]
  },
  {
   "cell_type": "code",
   "execution_count": 206,
   "metadata": {},
   "outputs": [],
   "source": [
    "ener = [i[0]/Na2 for i in full_shannon]\n",
    "shan = [i[1]/D for i in full_shannon]"
   ]
  },
  {
   "cell_type": "code",
   "execution_count": 207,
   "metadata": {},
   "outputs": [
    {
     "data": {
      "image/png": "[encoded data removed]",
      "text/plain": [
       "<Figure size 432x288 with 1 Axes>"
      ]
     },
     "metadata": {
      "needs_background": "light"
     },
     "output_type": "display_data"
    }
   ],
   "source": [
    "plt.plot(ener, shan, 'x')\n",
    "plt.axhline(y=1, color='r', linestyle='--')\n",
    "plt.xlabel(r'$E/JN$', fontsize = 12)\n",
    "plt.ylabel(r'$Sh/Sh_{GOE}$', fontsize = 12)\n",
    "plt.show()"
   ]
  },
  {
   "cell_type": "markdown",
   "metadata": {},
   "source": [
    "## Dynamic Shannon entropy"
   ]
  },
  {
   "cell_type": "markdown",
   "metadata": {},
   "source": [
    "It is also possible to study the dynamics of the chaotic behaviour by considering the evolution of the Shannon entropy over time $t$. Considering an initial state written in the Fock basis: $|\\psi(0) \\rangle = \\sum_{m} a_m|m\\rangle$with $|a_m| < 1$ and $\\sum_{m} |a_m|^2$, it is possible to calculate the time dependent state at time $t$:\n",
    "\n",
    "        \n",
    "$|\\psi(t) \\rangle =  \\sum_{j} e^{-iE_j t} P_j |\\psi_j \\rangle$\n",
    "where $P_j = \\langle \\psi_j | \\psi(0) \\rangle = \\sum_{m}(C_j^m)^* a_m$. \n",
    "\n",
    "$C_j^m$ is once again the eigenvectors of the system, $a_m$ here corresponds to the eigenvectors of the ground state, and $|m \\rangle$ is the Fock state. Expressing the time dependent state using the Fock basis leads to the following expression:\n",
    "\n",
    "$|\\psi(t) \\rangle = \\sum_{m} (\\sum_{j} P_j e^{-iE_j t} C_j^m) |m \\rangle = \\sum_{m} \\alpha_m |m \\rangle$\n",
    "\n",
    "Where the term in the brackets can be attributed to a new value $\\alpha_m$, which is time dependent. The Shannon entropy can now be calculated at any $t$ using the equation: $Sh(t) = \\sum_{m}  |\\alpha_m|^2 \\ln |\\alpha_m|^2$."
   ]
  },
  {
   "cell_type": "code",
   "execution_count": 156,
   "metadata": {},
   "outputs": [],
   "source": [
    "Lsdyn = 3\n",
    "Ndyn = 50"
   ]
  },
  {
   "cell_type": "code",
   "execution_count": 157,
   "metadata": {},
   "outputs": [
    {
     "name": "stdout",
     "output_type": "stream",
     "text": [
      "total permutations: 1326\n"
     ]
    }
   ],
   "source": [
    "Ldyn = list(sums(Lsdyn, Ndyn))\n",
    "print('total permutations:',len(Ldyn))"
   ]
  },
  {
   "cell_type": "code",
   "execution_count": 188,
   "metadata": {},
   "outputs": [],
   "source": [
    "Lint = Ldyn\n",
    "Lintlen = len(Ldyn)\n",
    "\n",
    "#Adjust gamma here\n",
    "gammaint = 1.63"
   ]
  },
  {
   "cell_type": "code",
   "execution_count": 189,
   "metadata": {},
   "outputs": [],
   "source": [
    "Honsite = np.zeros(shape = (Lintlen, Lintlen))\n",
    "HSoftCore = np.zeros(shape = (Lintlen, Lintlen))\n",
    "HHop = np.zeros(shape = (Lintlen, Lintlen))\n",
    "\n",
    "ApAm(0, Lint, Ndyn, Lintlen, HHop)\n",
    "ApAm(1, Lint, Ndyn, Lintlen, HHop)\n",
    "\n",
    "transp = np.transpose(HHop)\n",
    "HFull = HHop + transp\n",
    "\n",
    "HGaronsite(Lint, g, Honsite, Lintlen)\n",
    "HGarSoftCore(Lint, HSoftCore, d, C6, R, Lintlen)\n",
    "\n",
    "Htit = np.zeros(shape = (Lintlen, Lintlen))\n",
    "HGartit(Lint, gammaint, Htit, Lintlen)\n",
    "Htotdyn = Htit - (J*HFull) + (g/2)*(Honsite) + (1/2)*(HSoftCore)\n",
    "eigenvals_dyn, eigenvecs_dyn = linalg.eig(Htotdyn)"
   ]
  },
  {
   "cell_type": "code",
   "execution_count": 172,
   "metadata": {},
   "outputs": [],
   "source": [
    "def alpha(m, t, eigv, eigvc):\n",
    "    #initial state\n",
    "    ind = Ldyn.index((20,10,20))\n",
    "    Cvec = eigvc[m, :]\n",
    "    alpha = 0\n",
    "    for j in range(len(Cvec)):\n",
    "        pj = np.conj(eigvc[ind, j])\n",
    "        E_j = eigv[j]\n",
    "        alpha += pj*np.exp(-1j*E_j*t)*Cvec[j]\n",
    "    return alpha"
   ]
  },
  {
   "cell_type": "code",
   "execution_count": 173,
   "metadata": {},
   "outputs": [],
   "source": [
    "def SB(t, eigv, eigvc):\n",
    "    SB = 0\n",
    "    for i in range(len(eigv)):\n",
    "        alpham = alpha(i, t, eigv, eigvc)\n",
    "        a = alpham * np.conj(alpham)\n",
    "        SB += -a * np.log(a)\n",
    "    return SB"
   ]
  },
  {
   "cell_type": "markdown",
   "metadata": {},
   "source": [
    "## Experiment with value of very strong quantum chaos and one with strong linear behaviour\n",
    "\n",
    "Linear - 5\n",
    "\n",
    "Chaos - 1.63\n",
    "\n",
    "For chaos, the value of the Shannon entropy should reach a higher peak"
   ]
  },
  {
   "cell_type": "code",
   "execution_count": 185,
   "metadata": {},
   "outputs": [
    {
     "name": "stderr",
     "output_type": "stream",
     "text": [
      "C:\\Users\\mattc\\anaconda3\\lib\\site-packages\\ipykernel_launcher.py:4: ComplexWarning: Casting complex values to real discards the imaginary part\n",
      "  after removing the cwd from sys.path.\n"
     ]
    }
   ],
   "source": [
    "ts = np.linspace(0, 10, 10)\n",
    "SBs_5 = np.zeros(shape = len(ts))\n",
    "for i in range(len(ts)):\n",
    "    SBs_5[i] = SB(ts[i], eigenvals_dyn, eigenvecs_dyn)"
   ]
  },
  {
   "cell_type": "code",
   "execution_count": 190,
   "metadata": {},
   "outputs": [
    {
     "name": "stderr",
     "output_type": "stream",
     "text": [
      "C:\\Users\\mattc\\anaconda3\\lib\\site-packages\\ipykernel_launcher.py:3: ComplexWarning: Casting complex values to real discards the imaginary part\n",
      "  This is separate from the ipykernel package so we can avoid doing imports until\n"
     ]
    }
   ],
   "source": [
    "SBs_163 = np.zeros(shape = len(ts))\n",
    "for i in range(len(ts)):\n",
    "    SBs_163[i] = SB(ts[i], eigenvals_dyn, eigenvecs_dyn)"
   ]
  },
  {
   "cell_type": "code",
   "execution_count": 192,
   "metadata": {},
   "outputs": [],
   "source": [
    "norm_SBs_5 = SBs_5/np.log(len(eigenvals_dyn))\n",
    "norm_SBs_163 = SBs_163/np.log(len(eigenvals_dyn))"
   ]
  },
  {
   "cell_type": "code",
   "execution_count": 193,
   "metadata": {
    "scrolled": true
   },
   "outputs": [
    {
     "data": {
      "text/plain": [
       "<matplotlib.legend.Legend at 0x1eea46abcc8>"
      ]
     },
     "execution_count": 193,
     "metadata": {},
     "output_type": "execute_result"
    },
    {
     "data": {
      "image/png": "[encoded data removed]",
      "text/plain": [
       "<Figure size 432x288 with 1 Axes>"
      ]
     },
     "metadata": {
      "needs_background": "light"
     },
     "output_type": "display_data"
    }
   ],
   "source": [
    "plt.plot(ts, norm_SBs_5, 'b-', label = r'$\\gamma = 5$')\n",
    "plt.plot(ts, norm_SBs_163, 'g:', label = r'$\\gamma = 1.63$')\n",
    "\n",
    "plt.ylabel(r'$S_{Sh}/S_{GOE}$')\n",
    "plt.xlabel(r'$t$')\n",
    "plt.legend()"
   ]
  },
  {
   "cell_type": "markdown",
   "metadata": {},
   "source": [
    "## Plot average value when it reaches equilibrium over different gammas"
   ]
  },
  {
   "cell_type": "code",
   "execution_count": 196,
   "metadata": {},
   "outputs": [
    {
     "name": "stderr",
     "output_type": "stream",
     "text": [
      "C:\\Users\\mattc\\anaconda3\\lib\\site-packages\\ipykernel_launcher.py:26: ComplexWarning: Casting complex values to real discards the imaginary part\n"
     ]
    },
    {
     "ename": "KeyboardInterrupt",
     "evalue": "",
     "output_type": "error",
     "traceback": [
      "\u001b[1;31m---------------------------------------------------------------------------\u001b[0m",
      "\u001b[1;31mKeyboardInterrupt\u001b[0m                         Traceback (most recent call last)",
      "\u001b[1;32m<ipython-input-196-1533f25c4531>\u001b[0m in \u001b[0;36m<module>\u001b[1;34m\u001b[0m\n\u001b[0;32m     24\u001b[0m \u001b[1;33m\u001b[0m\u001b[0m\n\u001b[0;32m     25\u001b[0m     \u001b[1;32mfor\u001b[0m \u001b[0mi\u001b[0m \u001b[1;32min\u001b[0m \u001b[0mrange\u001b[0m\u001b[1;33m(\u001b[0m\u001b[0mlen\u001b[0m\u001b[1;33m(\u001b[0m\u001b[0mts1\u001b[0m\u001b[1;33m)\u001b[0m\u001b[1;33m)\u001b[0m\u001b[1;33m:\u001b[0m\u001b[1;33m\u001b[0m\u001b[1;33m\u001b[0m\u001b[0m\n\u001b[1;32m---> 26\u001b[1;33m         \u001b[0mSBs1\u001b[0m\u001b[1;33m[\u001b[0m\u001b[0mi\u001b[0m\u001b[1;33m]\u001b[0m \u001b[1;33m=\u001b[0m \u001b[0mSB\u001b[0m\u001b[1;33m(\u001b[0m\u001b[0mts1\u001b[0m\u001b[1;33m[\u001b[0m\u001b[0mi\u001b[0m\u001b[1;33m]\u001b[0m\u001b[1;33m,\u001b[0m \u001b[0meigenvals_dyn\u001b[0m\u001b[1;33m,\u001b[0m \u001b[0meigenvecs_dyn\u001b[0m\u001b[1;33m)\u001b[0m\u001b[1;33m\u001b[0m\u001b[1;33m\u001b[0m\u001b[0m\n\u001b[0m\u001b[0;32m     27\u001b[0m \u001b[1;33m\u001b[0m\u001b[0m\n\u001b[0;32m     28\u001b[0m     \u001b[0mSBs1\u001b[0m \u001b[1;33m=\u001b[0m \u001b[0mSBs1\u001b[0m\u001b[1;33m/\u001b[0m\u001b[0mnp\u001b[0m\u001b[1;33m.\u001b[0m\u001b[0mlog\u001b[0m\u001b[1;33m(\u001b[0m\u001b[0mlen\u001b[0m\u001b[1;33m(\u001b[0m\u001b[0meigenvals_dyn\u001b[0m\u001b[1;33m)\u001b[0m\u001b[1;33m)\u001b[0m\u001b[1;33m\u001b[0m\u001b[1;33m\u001b[0m\u001b[0m\n",
      "\u001b[1;32m<ipython-input-173-4dc745607fc2>\u001b[0m in \u001b[0;36mSB\u001b[1;34m(t, eigv, eigvc)\u001b[0m\n\u001b[0;32m      2\u001b[0m     \u001b[0mSB\u001b[0m \u001b[1;33m=\u001b[0m \u001b[1;36m0\u001b[0m\u001b[1;33m\u001b[0m\u001b[1;33m\u001b[0m\u001b[0m\n\u001b[0;32m      3\u001b[0m     \u001b[1;32mfor\u001b[0m \u001b[0mi\u001b[0m \u001b[1;32min\u001b[0m \u001b[0mrange\u001b[0m\u001b[1;33m(\u001b[0m\u001b[0mlen\u001b[0m\u001b[1;33m(\u001b[0m\u001b[0meigv\u001b[0m\u001b[1;33m)\u001b[0m\u001b[1;33m)\u001b[0m\u001b[1;33m:\u001b[0m\u001b[1;33m\u001b[0m\u001b[1;33m\u001b[0m\u001b[0m\n\u001b[1;32m----> 4\u001b[1;33m         \u001b[0malpham\u001b[0m \u001b[1;33m=\u001b[0m \u001b[0malpha\u001b[0m\u001b[1;33m(\u001b[0m\u001b[0mi\u001b[0m\u001b[1;33m,\u001b[0m \u001b[0mt\u001b[0m\u001b[1;33m,\u001b[0m \u001b[0meigv\u001b[0m\u001b[1;33m,\u001b[0m \u001b[0meigvc\u001b[0m\u001b[1;33m)\u001b[0m\u001b[1;33m\u001b[0m\u001b[1;33m\u001b[0m\u001b[0m\n\u001b[0m\u001b[0;32m      5\u001b[0m         \u001b[0ma\u001b[0m \u001b[1;33m=\u001b[0m \u001b[0malpham\u001b[0m \u001b[1;33m*\u001b[0m \u001b[0mnp\u001b[0m\u001b[1;33m.\u001b[0m\u001b[0mconj\u001b[0m\u001b[1;33m(\u001b[0m\u001b[0malpham\u001b[0m\u001b[1;33m)\u001b[0m\u001b[1;33m\u001b[0m\u001b[1;33m\u001b[0m\u001b[0m\n\u001b[0;32m      6\u001b[0m         \u001b[0mSB\u001b[0m \u001b[1;33m+=\u001b[0m \u001b[1;33m-\u001b[0m\u001b[0ma\u001b[0m \u001b[1;33m*\u001b[0m \u001b[0mnp\u001b[0m\u001b[1;33m.\u001b[0m\u001b[0mlog\u001b[0m\u001b[1;33m(\u001b[0m\u001b[0ma\u001b[0m\u001b[1;33m)\u001b[0m\u001b[1;33m\u001b[0m\u001b[1;33m\u001b[0m\u001b[0m\n",
      "\u001b[1;32m<ipython-input-172-2db4f6468378>\u001b[0m in \u001b[0;36malpha\u001b[1;34m(m, t, eigv, eigvc)\u001b[0m\n\u001b[0;32m      7\u001b[0m         \u001b[0mpj\u001b[0m \u001b[1;33m=\u001b[0m \u001b[0mnp\u001b[0m\u001b[1;33m.\u001b[0m\u001b[0mconj\u001b[0m\u001b[1;33m(\u001b[0m\u001b[0meigvc\u001b[0m\u001b[1;33m[\u001b[0m\u001b[0mind\u001b[0m\u001b[1;33m,\u001b[0m \u001b[0mj\u001b[0m\u001b[1;33m]\u001b[0m\u001b[1;33m)\u001b[0m\u001b[1;33m\u001b[0m\u001b[1;33m\u001b[0m\u001b[0m\n\u001b[0;32m      8\u001b[0m         \u001b[0mE_j\u001b[0m \u001b[1;33m=\u001b[0m \u001b[0meigv\u001b[0m\u001b[1;33m[\u001b[0m\u001b[0mj\u001b[0m\u001b[1;33m]\u001b[0m\u001b[1;33m\u001b[0m\u001b[1;33m\u001b[0m\u001b[0m\n\u001b[1;32m----> 9\u001b[1;33m         \u001b[0malpha\u001b[0m \u001b[1;33m+=\u001b[0m \u001b[0mpj\u001b[0m\u001b[1;33m*\u001b[0m\u001b[0mnp\u001b[0m\u001b[1;33m.\u001b[0m\u001b[0mexp\u001b[0m\u001b[1;33m(\u001b[0m\u001b[1;33m-\u001b[0m\u001b[1;36m1j\u001b[0m\u001b[1;33m*\u001b[0m\u001b[0mE_j\u001b[0m\u001b[1;33m*\u001b[0m\u001b[0mt\u001b[0m\u001b[1;33m)\u001b[0m\u001b[1;33m*\u001b[0m\u001b[0mCvec\u001b[0m\u001b[1;33m[\u001b[0m\u001b[0mj\u001b[0m\u001b[1;33m]\u001b[0m\u001b[1;33m\u001b[0m\u001b[1;33m\u001b[0m\u001b[0m\n\u001b[0m\u001b[0;32m     10\u001b[0m     \u001b[1;32mreturn\u001b[0m \u001b[0malpha\u001b[0m\u001b[1;33m\u001b[0m\u001b[1;33m\u001b[0m\u001b[0m\n",
      "\u001b[1;31mKeyboardInterrupt\u001b[0m: "
     ]
    }
   ],
   "source": [
    "##slow code - could do this better\n",
    "\n",
    "gammas = np.linspace(0, 10, 11)\n",
    "ts1 = np.linspace(0, 5, 10)\n",
    "SBs1 = np.zeros(shape = len(ts1))\n",
    "aveEEs = []\n",
    "\n",
    "for i in range(len(gammas)):\n",
    "    gamma = gammas[i]\n",
    "    \n",
    "    Honsite = np.zeros(shape = (Lintlen, Lintlen))\n",
    "    HSoftCore = np.zeros(shape = (Lintlen, Lintlen))\n",
    "    HHop = np.zeros(shape = (Lintlen, Lintlen))\n",
    "    ApAm(0, Lint, Ndyn, Lintlen, HHop)\n",
    "    ApAm(1, Lint, Ndyn, Lintlen, HHop)\n",
    "    transp = np.transpose(HHop)\n",
    "    HFull = HHop + transp\n",
    "    HGaronsite(Lint, g, Honsite, Lintlen)\n",
    "    HGarSoftCore(Lint, HSoftCore, d, C6, R, Lintlen)\n",
    "    Htit = np.zeros(shape = (Lintlen, Lintlen))\n",
    "    HGartit(Lint, gamma, Htit, Lintlen)\n",
    "    Htotdyn = Htit - (J*HFull) + (g/2)*(Honsite) + (1/2)*(HSoftCore)\n",
    "    eigenvals_dyn, eigenvecs_dyn = linalg.eig(Htotdyn)\n",
    "\n",
    "    for i in range(len(ts1)):\n",
    "        SBs1[i] = SB(ts1[i], eigenvals_dyn, eigenvecs_dyn)\n",
    "    \n",
    "    SBs1 = SBs1/np.log(len(eigenvals_dyn))\n",
    "    drop_rate = 0.2\n",
    "    norm_len = len(SBs1)\n",
    "    left_num = int(np.floor(drop_rate*norm_len))\n",
    "    aveEEs.append(np.mean(SBs1[left_num:norm_len]))"
   ]
  },
  {
   "cell_type": "code",
   "execution_count": null,
   "metadata": {},
   "outputs": [],
   "source": [
    "plt.plot(gammas, aveEEs, 'b.', markersize=10)\n",
    "plt.ylabel(r'$\\bar{S}_{Sh}/S_{GOE}$', fontsize = 18)\n",
    "plt.xlabel(r'$\\gamma$', fontsize = 18)"
   ]
  },
  {
   "cell_type": "markdown",
   "metadata": {},
   "source": [
    "## Evolution of particle number in each of the wells\n",
    "\n",
    "This is adapted from Tianyi's code so ask for more details. Done in conjungtion to the entanglement entropy which he calculated\n",
    "\n",
    "Very slow so used a plot from him which he can share with you "
   ]
  },
  {
   "cell_type": "code",
   "execution_count": 186,
   "metadata": {},
   "outputs": [],
   "source": [
    "def evolution_number(H, init, basis, site, ts):\n",
    "    num_site = len(basis[0])\n",
    "    assert site >= 1 & site <= num_site\n",
    "    \n",
    "    vals, vecs = linalg.eig(H)    \n",
    "    m = basis.index(init)\n",
    "    len_vals = len(vals)\n",
    "    \n",
    "    ns = []\n",
    "    for t in ts: \n",
    "        n = 0 # This will be the expectation value of number of the site\n",
    "        for m2 in range(len_vals):\n",
    "            n_i = basis[m2][site]\n",
    "            prod_1 = 0\n",
    "            prod_2 = 0\n",
    "            for j in range(len_vals):\n",
    "                prod_1 += vecs[m,j]*exp(1j*vals[j]*t)*np.conj(vecs[m2,j])\n",
    "                prod_2 += vecs[m,j]*exp(-1j*vals[j]*t)*np.conj(vecs[m2,j])\n",
    "            n += prod_1*prod_2*n_i\n",
    "        ns.append(n)\n",
    "    return ns"
   ]
  },
  {
   "cell_type": "code",
   "execution_count": 187,
   "metadata": {},
   "outputs": [],
   "source": [
    "ts2 = np.linspace(0, 100, 5)"
   ]
  },
  {
   "cell_type": "code",
   "execution_count": null,
   "metadata": {},
   "outputs": [],
   "source": [
    "##Very slow\n",
    "evol_num41 = evolution_number(H=Htotdyn1, init=(0, 0, 60), basis=Lint1, site=0, ts=(ts2))\n",
    "evol_num42 = evolution_number(H=Htotdyn1, init=(0, 0, 60), basis=Lint1, site=1, ts=(ts2))\n",
    "evol_num43 = evolution_number(H=Htotdyn1, init=(0, 0, 60), basis=Lint1, site=2, ts=(ts2));"
   ]
  }
 ],
 "metadata": {
  "kernelspec": {
   "display_name": "Python 3",
   "language": "python",
   "name": "python3"
  },
  "language_info": {
   "codemirror_mode": {
    "name": "ipython",
    "version": 3
   },
   "file_extension": ".py",
   "mimetype": "text/x-python",
   "name": "python",
   "nbconvert_exporter": "python",
   "pygments_lexer": "ipython3",
   "version": "3.7.6"
  }
 },
 "nbformat": 4,
 "nbformat_minor": 4
}
